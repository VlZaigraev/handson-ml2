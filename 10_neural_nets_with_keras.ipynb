{
  "cells": [
    {
      "cell_type": "markdown",
      "metadata": {
        "id": "T7Aaeh25R0bB"
      },
      "source": [
        "**Chapter 10 – Introduction to Artificial Neural Networks with Keras**\n",
        "\n",
        "_This notebook contains all the sample code and solutions to the exercises in chapter 10._"
      ]
    },
    {
      "cell_type": "markdown",
      "metadata": {
        "id": "ixM4ieHMR0bI"
      },
      "source": [
        "# Setup"
      ]
    },
    {
      "cell_type": "code",
      "source": [
        "!pip install scikeras[tensorflow]"
      ],
      "metadata": {
        "id": "DMNnrWV96x9o"
      },
      "execution_count": null,
      "outputs": []
    },
    {
      "cell_type": "code",
      "execution_count": 121,
      "metadata": {
        "id": "RxjyT9l5R0bJ"
      },
      "outputs": [],
      "source": [
        "# Python ≥3.5 is required\n",
        "import sys\n",
        "assert sys.version_info >= (3, 5)\n",
        "\n",
        "# Scikit-Learn ≥0.20 is required\n",
        "import sklearn\n",
        "assert sklearn.__version__ >= \"0.20\"\n",
        "\n",
        "try:\n",
        "    # %tensorflow_version only exists in Colab.\n",
        "    %tensorflow_version 2.x\n",
        "except Exception:\n",
        "    pass\n",
        "\n",
        "# TensorFlow ≥2.0 is required\n",
        "import tensorflow as tf\n",
        "assert tf.__version__ >= \"2.0\"\n",
        "\n",
        "# Common imports\n",
        "import numpy as np\n",
        "import os\n",
        "\n",
        "# to make this notebook's output stable across runs\n",
        "np.random.seed(42)\n",
        "\n",
        "# To plot pretty figures\n",
        "%matplotlib inline\n",
        "import matplotlib as mpl\n",
        "import matplotlib.pyplot as plt\n",
        "mpl.rc('axes', labelsize=14)\n",
        "mpl.rc('xtick', labelsize=12)\n",
        "mpl.rc('ytick', labelsize=12)\n",
        "\n",
        "\n",
        "import time\n",
        "import tensorflow as tf\n",
        "from tensorflow import keras\n",
        "from tensorflow.keras.utils import plot_model\n",
        "from scikeras.wrappers import KerasRegressor\n",
        "\n",
        "import seaborn as sns, pandas as pd\n",
        "import plotly.express as px\n",
        "import plotly.graph_objects as go\n",
        "from plotly.subplots import make_subplots\n",
        "\n",
        "from sklearn.datasets import fetch_california_housing\n",
        "from sklearn.model_selection import train_test_split\n",
        "from sklearn.preprocessing import StandardScaler\n",
        "from sklearn.model_selection import RandomizedSearchCV\n",
        "from scipy.stats import reciprocal"
      ]
    },
    {
      "cell_type": "code",
      "source": [
        "X = dict()\n",
        "y = dict()"
      ],
      "metadata": {
        "id": "3yg89wtnFE8E"
      },
      "execution_count": null,
      "outputs": []
    },
    {
      "cell_type": "markdown",
      "source": [
        "# Utils"
      ],
      "metadata": {
        "id": "qZg-bX8qE6J_"
      }
    },
    {
      "cell_type": "code",
      "source": [
        "def plot_random_items(n_cols = 3, n_rows = 3, cmap = 'binary',class_names = \n",
        "                      [\"T-shirt/top\", \"Trouser\", \"Pullover\", \"Dress\", \"Coat\",\n",
        "               \"Sandal\", \"Shirt\", \"Sneaker\", \"Bag\", \"Ankle boot\"]\n",
        "                      ,model=None, split = 'train'):\n",
        "    figure = plt.figure(figsize=(10, 10))\n",
        "    for i in range(1, n_cols * n_rows + 1):\n",
        "        sample_idx = np.random.randint(X[split].shape[0],size=(1,))[0]\n",
        "        figure.add_subplot(n_rows, n_cols, i)\n",
        "        _title = class_names[y[split][sample_idx]] if model is None \\\n",
        "        else f'''\n",
        "        True:{class_names[y[split][sample_idx]]}\n",
        "        Pred: {class_names[\n",
        "                           np.argmax(model.predict(np.expand_dims(X[split][sample_idx],axis=0)),axis=-1)[0]]}'''\n",
        "        plt.title(_title)\n",
        "        plt.axis(\"off\")\n",
        "        plt.imshow(X[split][sample_idx], cmap=cmap, interpolation='nearest')\n",
        "    plt.show()\n",
        "\n",
        "def plot_regr_loss(history):\n",
        "    fig = make_subplots(\n",
        "                        rows=1,cols=1,\n",
        "                        subplot_titles=['Loss']\n",
        "                        )\n",
        "    x_s = np.arange(1, len(history.history['loss']) + 1)\n",
        "\n",
        "    fig.append_trace(go.Scatter(\n",
        "                            x = x_s,\n",
        "                            y=history.history['loss'],\n",
        "                            name='train',\n",
        "                            mode='lines+markers'), row=1,col=1)\n",
        "    fig.add_trace(go.Scatter(\n",
        "                            x = x_s,\n",
        "                            y=history.history['val_loss'],\n",
        "                            name='val',\n",
        "                            mode='lines+markers'), row=1,col=1)\n",
        "\n",
        "    fig.update_xaxes(title_text='Epoch')\n",
        "    fig.update_yaxes(title_text='Loss',row=1,col=1)\n",
        "    return fig\n",
        "\n",
        "get_run_logdir = lambda root_logdir: os.path.join(root_logdir,\n",
        "                                                  time.strftime('run_%H:%M:%S_%d_%m_%Y'))"
      ],
      "metadata": {
        "id": "Kv3c9nexAVmE"
      },
      "execution_count": 29,
      "outputs": []
    },
    {
      "cell_type": "markdown",
      "metadata": {
        "id": "rBy7FR6kR0bU"
      },
      "source": [
        "# Fashion MNIST Classifier\n",
        "\n"
      ]
    },
    {
      "cell_type": "markdown",
      "source": [
        "## Data"
      ],
      "metadata": {
        "id": "3_bwhKkL-TFu"
      }
    },
    {
      "cell_type": "code",
      "source": [
        "n_classes = 10 # 10 item names\n",
        "\n",
        "(X['train'], y['train']), (X['test'], y['test']) = keras.datasets.fashion_mnist.load_data()\n",
        "X['train'], X['test'] = (X.astype('float32')/255 for X in (X['train'], X['test']))\n"
      ],
      "metadata": {
        "id": "9oDgPX2vx5jz"
      },
      "execution_count": 31,
      "outputs": []
    },
    {
      "cell_type": "code",
      "source": [
        "print(f\"\"\"\n",
        "X shape:{X['test'].shape[1:]}\n",
        "y shape: 1\n",
        "Dtype: {X['test'].dtype}\n",
        "{'-'*54}\"\"\")\n",
        "\n",
        "for split in X.keys():\n",
        "    print(f\"\"\"{split.capitalize()}: {y[split].shape[0]}\"\"\")"
      ],
      "metadata": {
        "id": "kThotNdAylt-",
        "outputId": "246791c9-5c50-4e00-df4d-c50412b67f0d",
        "colab": {
          "base_uri": "https://localhost:8080/"
        }
      },
      "execution_count": 32,
      "outputs": [
        {
          "output_type": "stream",
          "name": "stdout",
          "text": [
            "\n",
            "X shape:(28, 28)\n",
            "y shape: 1\n",
            "Dtype: float32\n",
            "------------------------------------------------------\n",
            "Train: 60000\n",
            "Test: 10000\n"
          ]
        }
      ]
    },
    {
      "cell_type": "code",
      "source": [
        "plot_random_items(split = 'train')"
      ],
      "metadata": {
        "id": "KAc5Odl46sjw",
        "outputId": "7e8ccd2b-7ce5-4958-994d-65532b41a98a",
        "colab": {
          "base_uri": "https://localhost:8080/",
          "height": 591
        }
      },
      "execution_count": 33,
      "outputs": [
        {
          "output_type": "display_data",
          "data": {
            "text/plain": [
              "<Figure size 720x720 with 9 Axes>"
            ],
            "image/png": "[encoded data removed]"
          },
          "metadata": {
            "needs_background": "light"
          }
        }
      ]
    },
    {
      "cell_type": "markdown",
      "source": [
        "## Model"
      ],
      "metadata": {
        "id": "OoL5GURs9mNo"
      }
    },
    {
      "cell_type": "code",
      "source": [
        "model = keras.Sequential([\n",
        "    keras.layers.Flatten(input_shape=X['test'].shape[1:]),\n",
        "    keras.layers.Dense(350, activation = 'relu'),\n",
        "    keras.layers.Dropout(.2),\n",
        "    keras.layers.Dense(100, activation = 'relu'),\n",
        "    keras.layers.Dense(n_classes, activation='softmax')]\n",
        ")\n",
        "\n",
        "model.summary()"
      ],
      "metadata": {
        "id": "Dxoq_gAv7ge_",
        "outputId": "2a6c57a1-6b67-43ec-f73e-bdd9eaaf0016",
        "colab": {
          "base_uri": "https://localhost:8080/"
        }
      },
      "execution_count": null,
      "outputs": [
        {
          "output_type": "stream",
          "name": "stdout",
          "text": [
            "Model: \"sequential\"\n",
            "_________________________________________________________________\n",
            " Layer (type)                Output Shape              Param #   \n",
            "=================================================================\n",
            " flatten (Flatten)           (None, 784)               0         \n",
            "                                                                 \n",
            " dense (Dense)               (None, 350)               274750    \n",
            "                                                                 \n",
            " dropout (Dropout)           (None, 350)               0         \n",
            "                                                                 \n",
            " dense_1 (Dense)             (None, 100)               35100     \n",
            "                                                                 \n",
            " dense_2 (Dense)             (None, 10)                1010      \n",
            "                                                                 \n",
            "=================================================================\n",
            "Total params: 310,860\n",
            "Trainable params: 310,860\n",
            "Non-trainable params: 0\n",
            "_________________________________________________________________\n"
          ]
        }
      ]
    },
    {
      "cell_type": "code",
      "source": [
        "plot_model(model,show_shapes=True,show_dtype=not True)"
      ],
      "metadata": {
        "id": "sfyBIls2-3zT",
        "outputId": "78eb0fca-334f-4cdf-f9c0-c670467e4264",
        "colab": {
          "base_uri": "https://localhost:8080/",
          "height": 644
        }
      },
      "execution_count": null,
      "outputs": [
        {
          "output_type": "execute_result",
          "data": {
            "image/png": "[encoded data removed]",
            "text/plain": [
              "<IPython.core.display.Image object>"
            ]
          },
          "metadata": {},
          "execution_count": 8
        }
      ]
    },
    {
      "cell_type": "code",
      "source": [
        "model.compile(loss = 'sparse_categorical_crossentropy',\n",
        "              optimizer = 'adam',\n",
        "              metrics = 'accuracy')"
      ],
      "metadata": {
        "id": "Br57rKUa97Ap"
      },
      "execution_count": null,
      "outputs": []
    },
    {
      "cell_type": "code",
      "source": [
        "history = model.fit(X['train'],y['train'],\n",
        "          validation_split = 0.7,\n",
        "          epochs = 30,\n",
        "          batch_size=128,\n",
        "          callbacks=[tf.keras.callbacks.EarlyStopping(restore_best_weights=True,patience=3)])"
      ],
      "metadata": {
        "id": "TJ_9GRA5_c_D"
      },
      "execution_count": null,
      "outputs": []
    },
    {
      "cell_type": "code",
      "source": [
        "\n",
        "fig = make_subplots(\n",
        "                    rows=1,cols=2,\n",
        "                    subplot_titles=['Accuracy graph'*0,'Loss graph'*0]\n",
        "                    )\n",
        "\n",
        "fig.append_trace(go.Scatter(\n",
        "                         y=history.history['accuracy'],\n",
        "                         name='train accuracy',\n",
        "                         mode='lines+markers',\n",
        "                         legendgroup = 1),\n",
        "              row=1,col=1)\n",
        "fig.append_trace(go.Scatter(\n",
        "                         y=history.history['val_accuracy'],\n",
        "                         name='val accuracy',\n",
        "                         mode='lines+markers',\n",
        "                         legendgroup = 1),\n",
        "              row=1,col=1)\n",
        "\n",
        "fig.append_trace(go.Scatter(\n",
        "                         y=history.history['loss'],\n",
        "                         name='train loss',\n",
        "                         mode='lines+markers',\n",
        "                         legendgroup=2),\n",
        "              row=1,col=2)\n",
        "fig.append_trace(go.Scatter(\n",
        "                         y=history.history['val_loss'],\n",
        "                         name='val loss',\n",
        "                         mode='lines+markers',\n",
        "                         legendgroup=2),\n",
        "              row=1,col=2)\n",
        "\n",
        "fig.update_xaxes(title_text='Epoch')\n",
        "fig.update_yaxes(title_text='Accuracy',row=1,col=1)\n",
        "fig.update_yaxes(title_text='Loss',row=1,col=2)\n",
        "fig.update_layout(legend = {'orientation':'h',\n",
        "                            'xanchor':'left',\n",
        "                            'yanchor':'top',\n",
        "                            'x':0,\n",
        "                            'y':1.2},)"
      ],
      "metadata": {
        "colab": {
          "base_uri": "https://localhost:8080/",
          "height": 542
        },
        "id": "5hl9ltzff-r0",
        "outputId": "d1945fd4-88d1-4bdb-9b41-b46e1bfb75f1"
      },
      "execution_count": null,
      "outputs": [
        {
          "output_type": "display_data",
          "data": {
            "text/html": [
              "<html>\n",
              "<head><meta charset=\"utf-8\" /></head>\n",
              "<body>\n",
              "    <div>            <script src=\"https://cdnjs.cloudflare.com/ajax/libs/mathjax/2.7.5/MathJax.js?config=TeX-AMS-MML_SVG\"></script><script type=\"text/javascript\">if (window.MathJax) {MathJax.Hub.Config({SVG: {font: \"STIX-Web\"}});}</script>                <script type=\"text/javascript\">window.PlotlyConfig = {MathJaxConfig: 'local'};</script>\n",
              "        <script src=\"https://cdn.plot.ly/plotly-2.8.3.min.js\"></script>                <div id=\"20fd1d55-baa1-442c-b096-a181f796438a\" class=\"plotly-graph-div\" style=\"height:525px; width:100%;\"></div>            <script type=\"text/javascript\">                                    window.PLOTLYENV=window.PLOTLYENV || {};                                    if (document.getElementById(\"20fd1d55-baa1-442c-b096-a181f796438a\")) {                    Plotly.newPlot(                        \"20fd1d55-baa1-442c-b096-a181f796438a\",                        [{\"legendgroup\":\"1\",\"mode\":\"lines+markers\",\"name\":\"train accuracy\",\"y\":[0.7505555748939514,0.8299999833106995,0.8502222299575806,0.8612777590751648,0.8704444169998169,0.8717777729034424,0.8793333172798157,0.8838889002799988,0.8852777481079102,0.8934999704360962,0.8933333158493042,0.8969444632530212,0.9045000076293945,0.9016110897064209,0.9063888788223267,0.9078888893127441,0.910611093044281,0.9138888716697693,0.917555570602417,0.9135000109672546,0.9195555448532104],\"type\":\"scatter\",\"xaxis\":\"x\",\"yaxis\":\"y\"},{\"legendgroup\":\"1\",\"mode\":\"lines+markers\",\"name\":\"val accuracy\",\"y\":[0.823285698890686,0.8395714163780212,0.8551428318023682,0.8614285588264465,0.860880970954895,0.8689285516738892,0.8701905012130737,0.8716428279876709,0.8752381205558777,0.8764523863792419,0.8722380995750427,0.8752142786979675,0.8778333067893982,0.8770714402198792,0.8786904811859131,0.8842381238937378,0.8818095326423645,0.885690450668335,0.8794761896133423,0.8773809671401978,0.8826904892921448],\"type\":\"scatter\",\"xaxis\":\"x\",\"yaxis\":\"y\"},{\"legendgroup\":\"2\",\"mode\":\"lines+markers\",\"name\":\"train loss\",\"y\":[0.6996703147888184,0.4717322587966919,0.4116632640361786,0.38165539503097534,0.35296356678009033,0.3416096270084381,0.32630807161331177,0.3065691590309143,0.3039161264896393,0.2886550724506378,0.2803375720977783,0.2694198489189148,0.2563154101371765,0.25603383779525757,0.2437421828508377,0.24039192497730255,0.2371050864458084,0.22393427789211273,0.218407541513443,0.22036662697792053,0.2115052044391632],\"type\":\"scatter\",\"xaxis\":\"x2\",\"yaxis\":\"y2\"},{\"legendgroup\":\"2\",\"mode\":\"lines+markers\",\"name\":\"val loss\",\"y\":[0.5007389187812805,0.45130491256713867,0.409718781709671,0.3855736255645752,0.3859544098377228,0.3666393756866455,0.36428070068359375,0.3644052743911743,0.35287973284721375,0.351318895816803,0.359639972448349,0.35034969449043274,0.35847118496894836,0.3486781120300293,0.3523065149784088,0.3418920338153839,0.3482578694820404,0.33688199520111084,0.36525189876556396,0.36280447244644165,0.3572063744068146],\"type\":\"scatter\",\"xaxis\":\"x2\",\"yaxis\":\"y2\"}],                        {\"template\":{\"data\":{\"bar\":[{\"error_x\":{\"color\":\"#2a3f5f\"},\"error_y\":{\"color\":\"#2a3f5f\"},\"marker\":{\"line\":{\"color\":\"#E5ECF6\",\"width\":0.5},\"pattern\":{\"fillmode\":\"overlay\",\"size\":10,\"solidity\":0.2}},\"type\":\"bar\"}],\"barpolar\":[{\"marker\":{\"line\":{\"color\":\"#E5ECF6\",\"width\":0.5},\"pattern\":{\"fillmode\":\"overlay\",\"size\":10,\"solidity\":0.2}},\"type\":\"barpolar\"}],\"carpet\":[{\"aaxis\":{\"endlinecolor\":\"#2a3f5f\",\"gridcolor\":\"white\",\"linecolor\":\"white\",\"minorgridcolor\":\"white\",\"startlinecolor\":\"#2a3f5f\"},\"baxis\":{\"endlinecolor\":\"#2a3f5f\",\"gridcolor\":\"white\",\"linecolor\":\"white\",\"minorgridcolor\":\"white\",\"startlinecolor\":\"#2a3f5f\"},\"type\":\"carpet\"}],\"choropleth\":[{\"colorbar\":{\"outlinewidth\":0,\"ticks\":\"\"},\"type\":\"choropleth\"}],\"contour\":[{\"colorbar\":{\"outlinewidth\":0,\"ticks\":\"\"},\"colorscale\":[[0.0,\"#0d0887\"],[0.1111111111111111,\"#46039f\"],[0.2222222222222222,\"#7201a8\"],[0.3333333333333333,\"#9c179e\"],[0.4444444444444444,\"#bd3786\"],[0.5555555555555556,\"#d8576b\"],[0.6666666666666666,\"#ed7953\"],[0.7777777777777778,\"#fb9f3a\"],[0.8888888888888888,\"#fdca26\"],[1.0,\"#f0f921\"]],\"type\":\"contour\"}],\"contourcarpet\":[{\"colorbar\":{\"outlinewidth\":0,\"ticks\":\"\"},\"type\":\"contourcarpet\"}],\"heatmap\":[{\"colorbar\":{\"outlinewidth\":0,\"ticks\":\"\"},\"colorscale\":[[0.0,\"#0d0887\"],[0.1111111111111111,\"#46039f\"],[0.2222222222222222,\"#7201a8\"],[0.3333333333333333,\"#9c179e\"],[0.4444444444444444,\"#bd3786\"],[0.5555555555555556,\"#d8576b\"],[0.6666666666666666,\"#ed7953\"],[0.7777777777777778,\"#fb9f3a\"],[0.8888888888888888,\"#fdca26\"],[1.0,\"#f0f921\"]],\"type\":\"heatmap\"}],\"heatmapgl\":[{\"colorbar\":{\"outlinewidth\":0,\"ticks\":\"\"},\"colorscale\":[[0.0,\"#0d0887\"],[0.1111111111111111,\"#46039f\"],[0.2222222222222222,\"#7201a8\"],[0.3333333333333333,\"#9c179e\"],[0.4444444444444444,\"#bd3786\"],[0.5555555555555556,\"#d8576b\"],[0.6666666666666666,\"#ed7953\"],[0.7777777777777778,\"#fb9f3a\"],[0.8888888888888888,\"#fdca26\"],[1.0,\"#f0f921\"]],\"type\":\"heatmapgl\"}],\"histogram\":[{\"marker\":{\"pattern\":{\"fillmode\":\"overlay\",\"size\":10,\"solidity\":0.2}},\"type\":\"histogram\"}],\"histogram2d\":[{\"colorbar\":{\"outlinewidth\":0,\"ticks\":\"\"},\"colorscale\":[[0.0,\"#0d0887\"],[0.1111111111111111,\"#46039f\"],[0.2222222222222222,\"#7201a8\"],[0.3333333333333333,\"#9c179e\"],[0.4444444444444444,\"#bd3786\"],[0.5555555555555556,\"#d8576b\"],[0.6666666666666666,\"#ed7953\"],[0.7777777777777778,\"#fb9f3a\"],[0.8888888888888888,\"#fdca26\"],[1.0,\"#f0f921\"]],\"type\":\"histogram2d\"}],\"histogram2dcontour\":[{\"colorbar\":{\"outlinewidth\":0,\"ticks\":\"\"},\"colorscale\":[[0.0,\"#0d0887\"],[0.1111111111111111,\"#46039f\"],[0.2222222222222222,\"#7201a8\"],[0.3333333333333333,\"#9c179e\"],[0.4444444444444444,\"#bd3786\"],[0.5555555555555556,\"#d8576b\"],[0.6666666666666666,\"#ed7953\"],[0.7777777777777778,\"#fb9f3a\"],[0.8888888888888888,\"#fdca26\"],[1.0,\"#f0f921\"]],\"type\":\"histogram2dcontour\"}],\"mesh3d\":[{\"colorbar\":{\"outlinewidth\":0,\"ticks\":\"\"},\"type\":\"mesh3d\"}],\"parcoords\":[{\"line\":{\"colorbar\":{\"outlinewidth\":0,\"ticks\":\"\"}},\"type\":\"parcoords\"}],\"pie\":[{\"automargin\":true,\"type\":\"pie\"}],\"scatter\":[{\"marker\":{\"colorbar\":{\"outlinewidth\":0,\"ticks\":\"\"}},\"type\":\"scatter\"}],\"scatter3d\":[{\"line\":{\"colorbar\":{\"outlinewidth\":0,\"ticks\":\"\"}},\"marker\":{\"colorbar\":{\"outlinewidth\":0,\"ticks\":\"\"}},\"type\":\"scatter3d\"}],\"scattercarpet\":[{\"marker\":{\"colorbar\":{\"outlinewidth\":0,\"ticks\":\"\"}},\"type\":\"scattercarpet\"}],\"scattergeo\":[{\"marker\":{\"colorbar\":{\"outlinewidth\":0,\"ticks\":\"\"}},\"type\":\"scattergeo\"}],\"scattergl\":[{\"marker\":{\"colorbar\":{\"outlinewidth\":0,\"ticks\":\"\"}},\"type\":\"scattergl\"}],\"scattermapbox\":[{\"marker\":{\"colorbar\":{\"outlinewidth\":0,\"ticks\":\"\"}},\"type\":\"scattermapbox\"}],\"scatterpolar\":[{\"marker\":{\"colorbar\":{\"outlinewidth\":0,\"ticks\":\"\"}},\"type\":\"scatterpolar\"}],\"scatterpolargl\":[{\"marker\":{\"colorbar\":{\"outlinewidth\":0,\"ticks\":\"\"}},\"type\":\"scatterpolargl\"}],\"scatterternary\":[{\"marker\":{\"colorbar\":{\"outlinewidth\":0,\"ticks\":\"\"}},\"type\":\"scatterternary\"}],\"surface\":[{\"colorbar\":{\"outlinewidth\":0,\"ticks\":\"\"},\"colorscale\":[[0.0,\"#0d0887\"],[0.1111111111111111,\"#46039f\"],[0.2222222222222222,\"#7201a8\"],[0.3333333333333333,\"#9c179e\"],[0.4444444444444444,\"#bd3786\"],[0.5555555555555556,\"#d8576b\"],[0.6666666666666666,\"#ed7953\"],[0.7777777777777778,\"#fb9f3a\"],[0.8888888888888888,\"#fdca26\"],[1.0,\"#f0f921\"]],\"type\":\"surface\"}],\"table\":[{\"cells\":{\"fill\":{\"color\":\"#EBF0F8\"},\"line\":{\"color\":\"white\"}},\"header\":{\"fill\":{\"color\":\"#C8D4E3\"},\"line\":{\"color\":\"white\"}},\"type\":\"table\"}]},\"layout\":{\"annotationdefaults\":{\"arrowcolor\":\"#2a3f5f\",\"arrowhead\":0,\"arrowwidth\":1},\"autotypenumbers\":\"strict\",\"coloraxis\":{\"colorbar\":{\"outlinewidth\":0,\"ticks\":\"\"}},\"colorscale\":{\"diverging\":[[0,\"#8e0152\"],[0.1,\"#c51b7d\"],[0.2,\"#de77ae\"],[0.3,\"#f1b6da\"],[0.4,\"#fde0ef\"],[0.5,\"#f7f7f7\"],[0.6,\"#e6f5d0\"],[0.7,\"#b8e186\"],[0.8,\"#7fbc41\"],[0.9,\"#4d9221\"],[1,\"#276419\"]],\"sequential\":[[0.0,\"#0d0887\"],[0.1111111111111111,\"#46039f\"],[0.2222222222222222,\"#7201a8\"],[0.3333333333333333,\"#9c179e\"],[0.4444444444444444,\"#bd3786\"],[0.5555555555555556,\"#d8576b\"],[0.6666666666666666,\"#ed7953\"],[0.7777777777777778,\"#fb9f3a\"],[0.8888888888888888,\"#fdca26\"],[1.0,\"#f0f921\"]],\"sequentialminus\":[[0.0,\"#0d0887\"],[0.1111111111111111,\"#46039f\"],[0.2222222222222222,\"#7201a8\"],[0.3333333333333333,\"#9c179e\"],[0.4444444444444444,\"#bd3786\"],[0.5555555555555556,\"#d8576b\"],[0.6666666666666666,\"#ed7953\"],[0.7777777777777778,\"#fb9f3a\"],[0.8888888888888888,\"#fdca26\"],[1.0,\"#f0f921\"]]},\"colorway\":[\"#636efa\",\"#EF553B\",\"#00cc96\",\"#ab63fa\",\"#FFA15A\",\"#19d3f3\",\"#FF6692\",\"#B6E880\",\"#FF97FF\",\"#FECB52\"],\"font\":{\"color\":\"#2a3f5f\"},\"geo\":{\"bgcolor\":\"white\",\"lakecolor\":\"white\",\"landcolor\":\"#E5ECF6\",\"showlakes\":true,\"showland\":true,\"subunitcolor\":\"white\"},\"hoverlabel\":{\"align\":\"left\"},\"hovermode\":\"closest\",\"mapbox\":{\"style\":\"light\"},\"paper_bgcolor\":\"white\",\"plot_bgcolor\":\"#E5ECF6\",\"polar\":{\"angularaxis\":{\"gridcolor\":\"white\",\"linecolor\":\"white\",\"ticks\":\"\"},\"bgcolor\":\"#E5ECF6\",\"radialaxis\":{\"gridcolor\":\"white\",\"linecolor\":\"white\",\"ticks\":\"\"}},\"scene\":{\"xaxis\":{\"backgroundcolor\":\"#E5ECF6\",\"gridcolor\":\"white\",\"gridwidth\":2,\"linecolor\":\"white\",\"showbackground\":true,\"ticks\":\"\",\"zerolinecolor\":\"white\"},\"yaxis\":{\"backgroundcolor\":\"#E5ECF6\",\"gridcolor\":\"white\",\"gridwidth\":2,\"linecolor\":\"white\",\"showbackground\":true,\"ticks\":\"\",\"zerolinecolor\":\"white\"},\"zaxis\":{\"backgroundcolor\":\"#E5ECF6\",\"gridcolor\":\"white\",\"gridwidth\":2,\"linecolor\":\"white\",\"showbackground\":true,\"ticks\":\"\",\"zerolinecolor\":\"white\"}},\"shapedefaults\":{\"line\":{\"color\":\"#2a3f5f\"}},\"ternary\":{\"aaxis\":{\"gridcolor\":\"white\",\"linecolor\":\"white\",\"ticks\":\"\"},\"baxis\":{\"gridcolor\":\"white\",\"linecolor\":\"white\",\"ticks\":\"\"},\"bgcolor\":\"#E5ECF6\",\"caxis\":{\"gridcolor\":\"white\",\"linecolor\":\"white\",\"ticks\":\"\"}},\"title\":{\"x\":0.05},\"xaxis\":{\"automargin\":true,\"gridcolor\":\"white\",\"linecolor\":\"white\",\"ticks\":\"\",\"title\":{\"standoff\":15},\"zerolinecolor\":\"white\",\"zerolinewidth\":2},\"yaxis\":{\"automargin\":true,\"gridcolor\":\"white\",\"linecolor\":\"white\",\"ticks\":\"\",\"title\":{\"standoff\":15},\"zerolinecolor\":\"white\",\"zerolinewidth\":2}}},\"xaxis\":{\"anchor\":\"y\",\"domain\":[0.0,0.45],\"title\":{\"text\":\"Epoch\"}},\"yaxis\":{\"anchor\":\"x\",\"domain\":[0.0,1.0],\"title\":{\"text\":\"Accuracy\"}},\"xaxis2\":{\"anchor\":\"y2\",\"domain\":[0.55,1.0],\"title\":{\"text\":\"Epoch\"}},\"yaxis2\":{\"anchor\":\"x2\",\"domain\":[0.0,1.0],\"title\":{\"text\":\"Loss\"}},\"legend\":{\"orientation\":\"h\",\"xanchor\":\"left\",\"yanchor\":\"top\",\"x\":0,\"y\":1.2}},                        {\"responsive\": true}                    ).then(function(){\n",
              "                            \n",
              "var gd = document.getElementById('20fd1d55-baa1-442c-b096-a181f796438a');\n",
              "var x = new MutationObserver(function (mutations, observer) {{\n",
              "        var display = window.getComputedStyle(gd).display;\n",
              "        if (!display || display === 'none') {{\n",
              "            console.log([gd, 'removed!']);\n",
              "            Plotly.purge(gd);\n",
              "            observer.disconnect();\n",
              "        }}\n",
              "}});\n",
              "\n",
              "// Listen for the removal of the full notebook cells\n",
              "var notebookContainer = gd.closest('#notebook-container');\n",
              "if (notebookContainer) {{\n",
              "    x.observe(notebookContainer, {childList: true});\n",
              "}}\n",
              "\n",
              "// Listen for the clearing of the current output cell\n",
              "var outputEl = gd.closest('.output');\n",
              "if (outputEl) {{\n",
              "    x.observe(outputEl, {childList: true});\n",
              "}}\n",
              "\n",
              "                        })                };                            </script>        </div>\n",
              "</body>\n",
              "</html>"
            ]
          },
          "metadata": {}
        }
      ]
    },
    {
      "cell_type": "code",
      "source": [
        "weights, biases = model.layers[1].get_weights()\n",
        "print(f\"\"\"Fully Connected[1]:\n",
        "weights shape: {weights.shape}\n",
        "biases shape: {biases.shape}\n",
        "\"\"\")"
      ],
      "metadata": {
        "id": "KeIUODaweyTv",
        "outputId": "4d2808f0-5ae6-448e-8932-ae18c36148cb",
        "colab": {
          "base_uri": "https://localhost:8080/"
        }
      },
      "execution_count": null,
      "outputs": [
        {
          "output_type": "stream",
          "name": "stdout",
          "text": [
            "Fully Connected[1]:\n",
            "weights shape: (784, 350)\n",
            "biases shape: (350,)\n",
            "\n"
          ]
        }
      ]
    },
    {
      "cell_type": "code",
      "source": [
        "model.evaluate(X['test'],y['test'])"
      ],
      "metadata": {
        "id": "oGsZtXknfDqO",
        "outputId": "ec8eb859-8894-49f9-f0bd-164e0c66a377",
        "colab": {
          "base_uri": "https://localhost:8080/"
        }
      },
      "execution_count": null,
      "outputs": [
        {
          "output_type": "stream",
          "name": "stdout",
          "text": [
            "313/313 [==============================] - 1s 4ms/step - loss: 0.3698 - accuracy: 0.8737\n",
            "[0.36975473165512085, 0.8737000226974487]\n"
          ]
        }
      ]
    },
    {
      "cell_type": "code",
      "source": [
        "k = 2\n",
        "X_new = np.expand_dims(X['test'][k],axis=0)\n",
        "print(X_new.shape)\n",
        "predictions = np.argmax(model.predict(X_new),axis=-1)\n",
        "for i in range(1):\n",
        "    print(f\"\"\"Predicted label: {class_names[predictions[i]]}\n",
        "    Actual label: {class_names[y['test'][k]]}\"\"\")"
      ],
      "metadata": {
        "id": "kYXS937FzCJs",
        "colab": {
          "base_uri": "https://localhost:8080/"
        },
        "outputId": "5b3e7eb5-81d5-4484-83d9-8f9d26bd5bd9"
      },
      "execution_count": null,
      "outputs": [
        {
          "output_type": "stream",
          "name": "stdout",
          "text": [
            "(1, 28, 28)\n",
            "Predicted label: Trouser\n",
            "    Actual label: Trouser\n"
          ]
        }
      ]
    },
    {
      "cell_type": "code",
      "source": [
        "plot_random_items(split = 'test', model = model, cmap='viridis')"
      ],
      "metadata": {
        "colab": {
          "base_uri": "https://localhost:8080/",
          "height": 620
        },
        "id": "NTV2c0I_xxh9",
        "outputId": "c3932b6f-1baa-41e3-aacc-3fe700c3b6fc"
      },
      "execution_count": null,
      "outputs": [
        {
          "output_type": "display_data",
          "data": {
            "image/png": "[encoded data removed]",
            "text/plain": [
              "<Figure size 720x720 with 9 Axes>"
            ]
          },
          "metadata": {
            "needs_background": "light"
          }
        }
      ]
    },
    {
      "cell_type": "markdown",
      "source": [
        "# Housing Regression"
      ],
      "metadata": {
        "id": "n0i5iKoxCl32"
      }
    },
    {
      "cell_type": "markdown",
      "source": [
        "## Data"
      ],
      "metadata": {
        "id": "fkhOFJvpLuIA"
      }
    },
    {
      "cell_type": "code",
      "source": [
        "keras.backend.clear_session()"
      ],
      "metadata": {
        "id": "EuLrpedSPrhI"
      },
      "execution_count": 47,
      "outputs": []
    },
    {
      "cell_type": "code",
      "source": [
        "housing = fetch_california_housing()\n",
        "\n",
        "n_features = housing['data'].shape[1:]\n",
        "\n",
        "housing.data.shape"
      ],
      "metadata": {
        "colab": {
          "base_uri": "https://localhost:8080/"
        },
        "id": "Bm5CUWaa9uRL",
        "outputId": "1e91b63b-30cf-487a-f4f7-59997555c5c2"
      },
      "execution_count": 49,
      "outputs": [
        {
          "output_type": "execute_result",
          "data": {
            "text/plain": [
              "(20640, 8)"
            ]
          },
          "metadata": {},
          "execution_count": 49
        }
      ]
    },
    {
      "cell_type": "code",
      "source": [
        "X['train'], X['test'], y['train'], y['test'] = train_test_split(housing['data'], housing['target'], test_size=0.3, shuffle=True)\n",
        "X['train'].shape[0], X['test'].shape[0]"
      ],
      "metadata": {
        "id": "DyafDc7zD8qy",
        "outputId": "38c6e781-9e58-4718-9d09-1023bc2d69cb",
        "colab": {
          "base_uri": "https://localhost:8080/"
        }
      },
      "execution_count": 50,
      "outputs": [
        {
          "output_type": "execute_result",
          "data": {
            "text/plain": [
              "(14448, 6192)"
            ]
          },
          "metadata": {},
          "execution_count": 50
        }
      ]
    },
    {
      "cell_type": "code",
      "source": [
        "scaler = StandardScaler()\n",
        "X['train'] = scaler.fit_transform(X['train'])\n",
        "X['test'] = scaler.transform(X['test'])"
      ],
      "metadata": {
        "id": "iPx2iDK6EHPy"
      },
      "execution_count": 51,
      "outputs": []
    },
    {
      "cell_type": "markdown",
      "source": [
        "## Model"
      ],
      "metadata": {
        "id": "TJo6unMXLzRu"
      }
    },
    {
      "cell_type": "code",
      "source": [
        "model = keras.models.Sequential([\n",
        "                                 keras.layers.Dense(50,input_shape=n_features, activation='relu'),\n",
        "                                 keras.layers.Dropout(.2),\n",
        "                                 keras.layers.Dense(25,input_shape=n_features, activation='relu'),\n",
        "                                 keras.layers.Dense(1)\n",
        "])\n",
        "\n",
        "model.compile(loss='mean_squared_error', optimizer = keras.optimizers.Adam(learning_rate=1e-3))\n",
        "#plot_model(model,show_shapes=True)\n",
        "model.summary()"
      ],
      "metadata": {
        "id": "xSQTey5SH56-",
        "outputId": "4bea07bd-7c8d-4cb5-b899-1fb64dbe7d51",
        "colab": {
          "base_uri": "https://localhost:8080/"
        }
      },
      "execution_count": null,
      "outputs": [
        {
          "output_type": "stream",
          "name": "stdout",
          "text": [
            "Model: \"sequential_8\"\n",
            "_________________________________________________________________\n",
            " Layer (type)                Output Shape              Param #   \n",
            "=================================================================\n",
            " dense_21 (Dense)            (None, 50)                450       \n",
            "                                                                 \n",
            " dropout_2 (Dropout)         (None, 50)                0         \n",
            "                                                                 \n",
            " dense_22 (Dense)            (None, 25)                1275      \n",
            "                                                                 \n",
            " dense_23 (Dense)            (None, 1)                 26        \n",
            "                                                                 \n",
            "=================================================================\n",
            "Total params: 1,751\n",
            "Trainable params: 1,751\n",
            "Non-trainable params: 0\n",
            "_________________________________________________________________\n"
          ]
        }
      ]
    },
    {
      "cell_type": "code",
      "source": [
        "history = model.fit(X['train'],y['train'],\n",
        "          validation_split = 0.7,\n",
        "          epochs = 100,\n",
        "          batch_size=128,\n",
        "          callbacks=[tf.keras.callbacks.EarlyStopping(restore_best_weights=True,patience=10)])"
      ],
      "metadata": {
        "id": "jZKCzXJHJJgI"
      },
      "execution_count": null,
      "outputs": []
    },
    {
      "cell_type": "code",
      "source": [
        "\n",
        "\n",
        "plot_regr_loss(history)"
      ],
      "metadata": {
        "id": "pAGwk6UPKbt_"
      },
      "execution_count": null,
      "outputs": []
    },
    {
      "cell_type": "code",
      "source": [
        "model.evaluate(X['train'],batch_size=16)"
      ],
      "metadata": {
        "id": "Mp2w6oQAKkdD",
        "outputId": "eab263cc-ea05-4947-8488-6ff6cc9673ef",
        "colab": {
          "base_uri": "https://localhost:8080/"
        }
      },
      "execution_count": null,
      "outputs": [
        {
          "output_type": "stream",
          "name": "stdout",
          "text": [
            "903/903 [==============================] - 2s 2ms/step - loss: 0.0000e+00\n"
          ]
        },
        {
          "output_type": "execute_result",
          "data": {
            "text/plain": [
              "0.0"
            ]
          },
          "metadata": {},
          "execution_count": 248
        }
      ]
    },
    {
      "cell_type": "markdown",
      "source": [
        "## Regression with Functional API"
      ],
      "metadata": {
        "id": "SadZoeUQaVlu"
      }
    },
    {
      "cell_type": "markdown",
      "source": [
        "### Wide & Deep"
      ],
      "metadata": {
        "id": "ArLZn_Zdj2BA"
      }
    },
    {
      "cell_type": "code",
      "source": [
        "num_hiddens = 3\n",
        "input_layer = keras.layers.Input(shape=X['train'].shape[1:])\n",
        "hidden_layer = keras.layers.Dense(30,activation='relu')(input_layer)\n",
        "\n",
        "for i in range(1, num_hiddens):\n",
        "    hidden_layer = keras.layers.Dense(30,activation='relu')(hidden_layer)\n",
        "    hidden_layer = keras.layers.Dropout(0.2)(hidden_layer)\n",
        "\n",
        "output_layer = keras.layers.Dense(1)(\n",
        "    keras.layers.concatenate([input_layer, hidden_layer])\n",
        ")\n",
        "\n",
        "model = keras.models.Model(inputs=[input_layer],\n",
        "                           outputs=[output_layer])\n",
        "\n",
        "model.summary()"
      ],
      "metadata": {
        "id": "qDdg35K7acff",
        "outputId": "2eb6bab3-c22b-493e-d12a-17b4efdbb863",
        "colab": {
          "base_uri": "https://localhost:8080/"
        }
      },
      "execution_count": null,
      "outputs": [
        {
          "output_type": "stream",
          "name": "stdout",
          "text": [
            "Model: \"model_6\"\n",
            "__________________________________________________________________________________________________\n",
            " Layer (type)                   Output Shape         Param #     Connected to                     \n",
            "==================================================================================================\n",
            " input_12 (InputLayer)          [(None, 8)]          0           []                               \n",
            "                                                                                                  \n",
            " dense_46 (Dense)               (None, 30)           270         ['input_12[0][0]']               \n",
            "                                                                                                  \n",
            " dense_47 (Dense)               (None, 30)           930         ['dense_46[0][0]']               \n",
            "                                                                                                  \n",
            " dropout_4 (Dropout)            (None, 30)           0           ['dense_47[0][0]']               \n",
            "                                                                                                  \n",
            " dense_48 (Dense)               (None, 30)           930         ['dropout_4[0][0]']              \n",
            "                                                                                                  \n",
            " dropout_5 (Dropout)            (None, 30)           0           ['dense_48[0][0]']               \n",
            "                                                                                                  \n",
            " concatenate_7 (Concatenate)    (None, 38)           0           ['input_12[0][0]',               \n",
            "                                                                  'dropout_5[0][0]']              \n",
            "                                                                                                  \n",
            " dense_49 (Dense)               (None, 1)            39          ['concatenate_7[0][0]']          \n",
            "                                                                                                  \n",
            "==================================================================================================\n",
            "Total params: 2,169\n",
            "Trainable params: 2,169\n",
            "Non-trainable params: 0\n",
            "__________________________________________________________________________________________________\n"
          ]
        }
      ]
    },
    {
      "cell_type": "code",
      "source": [
        "model.compile(loss=\"mean_squared_error\",\n",
        "              optimizer=keras.optimizers.Adam(learning_rate=1e-3))\n",
        "\n",
        "history = model.fit(X['train'],y['train'],\n",
        "          validation_split = 0.3,\n",
        "          epochs = 100,\n",
        "          batch_size=128,\n",
        "          callbacks=[tf.keras.callbacks.EarlyStopping(restore_best_weights=True,patience=10)])"
      ],
      "metadata": {
        "id": "NlJQynKdc1E-"
      },
      "execution_count": null,
      "outputs": []
    },
    {
      "cell_type": "code",
      "source": [
        "plot_regr_loss(history)"
      ],
      "metadata": {
        "id": "IpLCbt7qgNE5",
        "outputId": "74079c54-0988-4f37-94f8-2c0b1f3e21a6",
        "colab": {
          "base_uri": "https://localhost:8080/",
          "height": 542
        }
      },
      "execution_count": null,
      "outputs": [
        {
          "output_type": "display_data",
          "data": {
            "text/html": [
              "<html>\n",
              "<head><meta charset=\"utf-8\" /></head>\n",
              "<body>\n",
              "    <div>            <script src=\"https://cdnjs.cloudflare.com/ajax/libs/mathjax/2.7.5/MathJax.js?config=TeX-AMS-MML_SVG\"></script><script type=\"text/javascript\">if (window.MathJax) {MathJax.Hub.Config({SVG: {font: \"STIX-Web\"}});}</script>                <script type=\"text/javascript\">window.PlotlyConfig = {MathJaxConfig: 'local'};</script>\n",
              "        <script src=\"https://cdn.plot.ly/plotly-2.8.3.min.js\"></script>                <div id=\"a185a83a-8d41-406f-895a-c7468e10ea44\" class=\"plotly-graph-div\" style=\"height:525px; width:100%;\"></div>            <script type=\"text/javascript\">                                    window.PLOTLYENV=window.PLOTLYENV || {};                                    if (document.getElementById(\"a185a83a-8d41-406f-895a-c7468e10ea44\")) {                    Plotly.newPlot(                        \"a185a83a-8d41-406f-895a-c7468e10ea44\",                        [{\"mode\":\"lines+markers\",\"name\":\"train\",\"x\":[1,2,3,4,5,6,7,8,9,10,11,12,13,14,15,16,17,18,19,20,21,22,23,24,25,26,27,28,29,30,31,32,33,34,35,36,37,38,39,40,41,42,43,44,45,46,47,48,49,50,51,52,53,54,55,56,57,58,59,60,61,62,63,64,65,66,67,68,69,70,71,72,73,74,75,76,77],\"y\":[3.8445489406585693,1.6767606735229492,1.1608425378799438,0.9676605463027954,0.8982316851615906,0.7941312789916992,0.7565621733665466,0.6711276769638062,0.6822049617767334,0.606933057308197,0.62352454662323,0.5999193787574768,0.5968716144561768,0.555141806602478,0.5672129988670349,0.543359637260437,0.5482724905014038,0.5277311205863953,0.5194384455680847,0.5261644124984741,0.4975144863128662,0.4985494613647461,0.49595826864242554,0.4658568799495697,0.49564680457115173,0.4701685905456543,0.47547125816345215,0.4615950286388397,0.4809822738170624,0.4510379731655121,0.4721471667289734,0.4646559953689575,0.4505022466182709,0.44897907972335815,0.43671488761901855,0.4483173191547394,0.44797009229660034,0.4525130093097687,0.4334658980369568,0.4334595501422882,0.41496166586875916,0.4253327250480652,0.4296026825904846,0.42353957891464233,0.41754570603370667,0.4156757891178131,0.41074636578559875,0.4158919155597687,0.4148477613925934,0.4118311405181885,0.41353848576545715,0.410827100276947,0.39881631731987,0.3864654302597046,0.39901086688041687,0.4003804326057434,0.40249526500701904,0.3926089406013489,0.39816227555274963,0.3796384632587433,0.3876115679740906,0.38009729981422424,0.379530668258667,0.38553786277770996,0.3650108873844147,0.3849346339702606,0.37694650888442993,0.36395329236984253,0.37067440152168274,0.3840435743331909,0.3676484227180481,0.3841271698474884,0.3669615685939789,0.3646232783794403,0.3647575080394745,0.37116432189941406,0.3767853081226349],\"type\":\"scatter\",\"xaxis\":\"x\",\"yaxis\":\"y\"},{\"mode\":\"lines+markers\",\"name\":\"val\",\"x\":[1,2,3,4,5,6,7,8,9,10,11,12,13,14,15,16,17,18,19,20,21,22,23,24,25,26,27,28,29,30,31,32,33,34,35,36,37,38,39,40,41,42,43,44,45,46,47,48,49,50,51,52,53,54,55,56,57,58,59,60,61,62,63,64,65,66,67,68,69,70,71,72,73,74,75,76,77],\"y\":[2.2080042362213135,1.0679224729537964,0.7907237410545349,0.7274003028869629,0.6481040120124817,0.5656588077545166,0.5079770684242249,0.4711393117904663,0.46086224913597107,0.43422889709472656,0.4179951548576355,0.40032780170440674,0.4082176089286804,0.38377949595451355,0.381765753030777,0.3853122889995575,0.3864012360572815,0.3902963101863861,0.37331342697143555,0.37298494577407837,0.3760700225830078,0.36832329630851746,0.36489245295524597,0.37068748474121094,0.37267470359802246,0.3597520589828491,0.35669785737991333,0.36001941561698914,0.35930025577545166,0.36104732751846313,0.372467577457428,0.36933809518814087,0.3595183491706848,0.361686646938324,0.3634834885597229,0.3647821843624115,0.3518781065940857,0.35178712010383606,0.34641221165657043,0.3504759967327118,0.3456727862358093,0.34187325835227966,0.32934072613716125,0.3360655903816223,0.33148935437202454,0.32984960079193115,0.32557588815689087,0.3332194983959198,0.3294081687927246,0.3286949694156647,0.33471444249153137,0.34474286437034607,0.34425655007362366,0.3431013822555542,0.335606187582016,0.3266431391239166,0.32144156098365784,0.31755053997039795,0.31885796785354614,0.3213685154914856,0.3197706341743469,0.3170243799686432,0.31510990858078003,0.3121418356895447,0.3164147138595581,0.31298336386680603,0.306460440158844,0.30999788641929626,0.3108982741832733,0.3093017339706421,0.30735647678375244,0.3263828754425049,0.3100470006465912,0.3069241940975189,0.310240238904953,0.30836689472198486,0.3101341724395752],\"type\":\"scatter\",\"xaxis\":\"x\",\"yaxis\":\"y\"}],                        {\"template\":{\"data\":{\"bar\":[{\"error_x\":{\"color\":\"#2a3f5f\"},\"error_y\":{\"color\":\"#2a3f5f\"},\"marker\":{\"line\":{\"color\":\"#E5ECF6\",\"width\":0.5},\"pattern\":{\"fillmode\":\"overlay\",\"size\":10,\"solidity\":0.2}},\"type\":\"bar\"}],\"barpolar\":[{\"marker\":{\"line\":{\"color\":\"#E5ECF6\",\"width\":0.5},\"pattern\":{\"fillmode\":\"overlay\",\"size\":10,\"solidity\":0.2}},\"type\":\"barpolar\"}],\"carpet\":[{\"aaxis\":{\"endlinecolor\":\"#2a3f5f\",\"gridcolor\":\"white\",\"linecolor\":\"white\",\"minorgridcolor\":\"white\",\"startlinecolor\":\"#2a3f5f\"},\"baxis\":{\"endlinecolor\":\"#2a3f5f\",\"gridcolor\":\"white\",\"linecolor\":\"white\",\"minorgridcolor\":\"white\",\"startlinecolor\":\"#2a3f5f\"},\"type\":\"carpet\"}],\"choropleth\":[{\"colorbar\":{\"outlinewidth\":0,\"ticks\":\"\"},\"type\":\"choropleth\"}],\"contour\":[{\"colorbar\":{\"outlinewidth\":0,\"ticks\":\"\"},\"colorscale\":[[0.0,\"#0d0887\"],[0.1111111111111111,\"#46039f\"],[0.2222222222222222,\"#7201a8\"],[0.3333333333333333,\"#9c179e\"],[0.4444444444444444,\"#bd3786\"],[0.5555555555555556,\"#d8576b\"],[0.6666666666666666,\"#ed7953\"],[0.7777777777777778,\"#fb9f3a\"],[0.8888888888888888,\"#fdca26\"],[1.0,\"#f0f921\"]],\"type\":\"contour\"}],\"contourcarpet\":[{\"colorbar\":{\"outlinewidth\":0,\"ticks\":\"\"},\"type\":\"contourcarpet\"}],\"heatmap\":[{\"colorbar\":{\"outlinewidth\":0,\"ticks\":\"\"},\"colorscale\":[[0.0,\"#0d0887\"],[0.1111111111111111,\"#46039f\"],[0.2222222222222222,\"#7201a8\"],[0.3333333333333333,\"#9c179e\"],[0.4444444444444444,\"#bd3786\"],[0.5555555555555556,\"#d8576b\"],[0.6666666666666666,\"#ed7953\"],[0.7777777777777778,\"#fb9f3a\"],[0.8888888888888888,\"#fdca26\"],[1.0,\"#f0f921\"]],\"type\":\"heatmap\"}],\"heatmapgl\":[{\"colorbar\":{\"outlinewidth\":0,\"ticks\":\"\"},\"colorscale\":[[0.0,\"#0d0887\"],[0.1111111111111111,\"#46039f\"],[0.2222222222222222,\"#7201a8\"],[0.3333333333333333,\"#9c179e\"],[0.4444444444444444,\"#bd3786\"],[0.5555555555555556,\"#d8576b\"],[0.6666666666666666,\"#ed7953\"],[0.7777777777777778,\"#fb9f3a\"],[0.8888888888888888,\"#fdca26\"],[1.0,\"#f0f921\"]],\"type\":\"heatmapgl\"}],\"histogram\":[{\"marker\":{\"pattern\":{\"fillmode\":\"overlay\",\"size\":10,\"solidity\":0.2}},\"type\":\"histogram\"}],\"histogram2d\":[{\"colorbar\":{\"outlinewidth\":0,\"ticks\":\"\"},\"colorscale\":[[0.0,\"#0d0887\"],[0.1111111111111111,\"#46039f\"],[0.2222222222222222,\"#7201a8\"],[0.3333333333333333,\"#9c179e\"],[0.4444444444444444,\"#bd3786\"],[0.5555555555555556,\"#d8576b\"],[0.6666666666666666,\"#ed7953\"],[0.7777777777777778,\"#fb9f3a\"],[0.8888888888888888,\"#fdca26\"],[1.0,\"#f0f921\"]],\"type\":\"histogram2d\"}],\"histogram2dcontour\":[{\"colorbar\":{\"outlinewidth\":0,\"ticks\":\"\"},\"colorscale\":[[0.0,\"#0d0887\"],[0.1111111111111111,\"#46039f\"],[0.2222222222222222,\"#7201a8\"],[0.3333333333333333,\"#9c179e\"],[0.4444444444444444,\"#bd3786\"],[0.5555555555555556,\"#d8576b\"],[0.6666666666666666,\"#ed7953\"],[0.7777777777777778,\"#fb9f3a\"],[0.8888888888888888,\"#fdca26\"],[1.0,\"#f0f921\"]],\"type\":\"histogram2dcontour\"}],\"mesh3d\":[{\"colorbar\":{\"outlinewidth\":0,\"ticks\":\"\"},\"type\":\"mesh3d\"}],\"parcoords\":[{\"line\":{\"colorbar\":{\"outlinewidth\":0,\"ticks\":\"\"}},\"type\":\"parcoords\"}],\"pie\":[{\"automargin\":true,\"type\":\"pie\"}],\"scatter\":[{\"marker\":{\"colorbar\":{\"outlinewidth\":0,\"ticks\":\"\"}},\"type\":\"scatter\"}],\"scatter3d\":[{\"line\":{\"colorbar\":{\"outlinewidth\":0,\"ticks\":\"\"}},\"marker\":{\"colorbar\":{\"outlinewidth\":0,\"ticks\":\"\"}},\"type\":\"scatter3d\"}],\"scattercarpet\":[{\"marker\":{\"colorbar\":{\"outlinewidth\":0,\"ticks\":\"\"}},\"type\":\"scattercarpet\"}],\"scattergeo\":[{\"marker\":{\"colorbar\":{\"outlinewidth\":0,\"ticks\":\"\"}},\"type\":\"scattergeo\"}],\"scattergl\":[{\"marker\":{\"colorbar\":{\"outlinewidth\":0,\"ticks\":\"\"}},\"type\":\"scattergl\"}],\"scattermapbox\":[{\"marker\":{\"colorbar\":{\"outlinewidth\":0,\"ticks\":\"\"}},\"type\":\"scattermapbox\"}],\"scatterpolar\":[{\"marker\":{\"colorbar\":{\"outlinewidth\":0,\"ticks\":\"\"}},\"type\":\"scatterpolar\"}],\"scatterpolargl\":[{\"marker\":{\"colorbar\":{\"outlinewidth\":0,\"ticks\":\"\"}},\"type\":\"scatterpolargl\"}],\"scatterternary\":[{\"marker\":{\"colorbar\":{\"outlinewidth\":0,\"ticks\":\"\"}},\"type\":\"scatterternary\"}],\"surface\":[{\"colorbar\":{\"outlinewidth\":0,\"ticks\":\"\"},\"colorscale\":[[0.0,\"#0d0887\"],[0.1111111111111111,\"#46039f\"],[0.2222222222222222,\"#7201a8\"],[0.3333333333333333,\"#9c179e\"],[0.4444444444444444,\"#bd3786\"],[0.5555555555555556,\"#d8576b\"],[0.6666666666666666,\"#ed7953\"],[0.7777777777777778,\"#fb9f3a\"],[0.8888888888888888,\"#fdca26\"],[1.0,\"#f0f921\"]],\"type\":\"surface\"}],\"table\":[{\"cells\":{\"fill\":{\"color\":\"#EBF0F8\"},\"line\":{\"color\":\"white\"}},\"header\":{\"fill\":{\"color\":\"#C8D4E3\"},\"line\":{\"color\":\"white\"}},\"type\":\"table\"}]},\"layout\":{\"annotationdefaults\":{\"arrowcolor\":\"#2a3f5f\",\"arrowhead\":0,\"arrowwidth\":1},\"autotypenumbers\":\"strict\",\"coloraxis\":{\"colorbar\":{\"outlinewidth\":0,\"ticks\":\"\"}},\"colorscale\":{\"diverging\":[[0,\"#8e0152\"],[0.1,\"#c51b7d\"],[0.2,\"#de77ae\"],[0.3,\"#f1b6da\"],[0.4,\"#fde0ef\"],[0.5,\"#f7f7f7\"],[0.6,\"#e6f5d0\"],[0.7,\"#b8e186\"],[0.8,\"#7fbc41\"],[0.9,\"#4d9221\"],[1,\"#276419\"]],\"sequential\":[[0.0,\"#0d0887\"],[0.1111111111111111,\"#46039f\"],[0.2222222222222222,\"#7201a8\"],[0.3333333333333333,\"#9c179e\"],[0.4444444444444444,\"#bd3786\"],[0.5555555555555556,\"#d8576b\"],[0.6666666666666666,\"#ed7953\"],[0.7777777777777778,\"#fb9f3a\"],[0.8888888888888888,\"#fdca26\"],[1.0,\"#f0f921\"]],\"sequentialminus\":[[0.0,\"#0d0887\"],[0.1111111111111111,\"#46039f\"],[0.2222222222222222,\"#7201a8\"],[0.3333333333333333,\"#9c179e\"],[0.4444444444444444,\"#bd3786\"],[0.5555555555555556,\"#d8576b\"],[0.6666666666666666,\"#ed7953\"],[0.7777777777777778,\"#fb9f3a\"],[0.8888888888888888,\"#fdca26\"],[1.0,\"#f0f921\"]]},\"colorway\":[\"#636efa\",\"#EF553B\",\"#00cc96\",\"#ab63fa\",\"#FFA15A\",\"#19d3f3\",\"#FF6692\",\"#B6E880\",\"#FF97FF\",\"#FECB52\"],\"font\":{\"color\":\"#2a3f5f\"},\"geo\":{\"bgcolor\":\"white\",\"lakecolor\":\"white\",\"landcolor\":\"#E5ECF6\",\"showlakes\":true,\"showland\":true,\"subunitcolor\":\"white\"},\"hoverlabel\":{\"align\":\"left\"},\"hovermode\":\"closest\",\"mapbox\":{\"style\":\"light\"},\"paper_bgcolor\":\"white\",\"plot_bgcolor\":\"#E5ECF6\",\"polar\":{\"angularaxis\":{\"gridcolor\":\"white\",\"linecolor\":\"white\",\"ticks\":\"\"},\"bgcolor\":\"#E5ECF6\",\"radialaxis\":{\"gridcolor\":\"white\",\"linecolor\":\"white\",\"ticks\":\"\"}},\"scene\":{\"xaxis\":{\"backgroundcolor\":\"#E5ECF6\",\"gridcolor\":\"white\",\"gridwidth\":2,\"linecolor\":\"white\",\"showbackground\":true,\"ticks\":\"\",\"zerolinecolor\":\"white\"},\"yaxis\":{\"backgroundcolor\":\"#E5ECF6\",\"gridcolor\":\"white\",\"gridwidth\":2,\"linecolor\":\"white\",\"showbackground\":true,\"ticks\":\"\",\"zerolinecolor\":\"white\"},\"zaxis\":{\"backgroundcolor\":\"#E5ECF6\",\"gridcolor\":\"white\",\"gridwidth\":2,\"linecolor\":\"white\",\"showbackground\":true,\"ticks\":\"\",\"zerolinecolor\":\"white\"}},\"shapedefaults\":{\"line\":{\"color\":\"#2a3f5f\"}},\"ternary\":{\"aaxis\":{\"gridcolor\":\"white\",\"linecolor\":\"white\",\"ticks\":\"\"},\"baxis\":{\"gridcolor\":\"white\",\"linecolor\":\"white\",\"ticks\":\"\"},\"bgcolor\":\"#E5ECF6\",\"caxis\":{\"gridcolor\":\"white\",\"linecolor\":\"white\",\"ticks\":\"\"}},\"title\":{\"x\":0.05},\"xaxis\":{\"automargin\":true,\"gridcolor\":\"white\",\"linecolor\":\"white\",\"ticks\":\"\",\"title\":{\"standoff\":15},\"zerolinecolor\":\"white\",\"zerolinewidth\":2},\"yaxis\":{\"automargin\":true,\"gridcolor\":\"white\",\"linecolor\":\"white\",\"ticks\":\"\",\"title\":{\"standoff\":15},\"zerolinecolor\":\"white\",\"zerolinewidth\":2}}},\"xaxis\":{\"anchor\":\"y\",\"domain\":[0.0,1.0],\"title\":{\"text\":\"Epoch\"}},\"yaxis\":{\"anchor\":\"x\",\"domain\":[0.0,1.0],\"title\":{\"text\":\"Loss\"}},\"annotations\":[{\"font\":{\"size\":16},\"showarrow\":false,\"text\":\"Loss\",\"x\":0.5,\"xanchor\":\"center\",\"xref\":\"paper\",\"y\":1.0,\"yanchor\":\"bottom\",\"yref\":\"paper\"}]},                        {\"responsive\": true}                    ).then(function(){\n",
              "                            \n",
              "var gd = document.getElementById('a185a83a-8d41-406f-895a-c7468e10ea44');\n",
              "var x = new MutationObserver(function (mutations, observer) {{\n",
              "        var display = window.getComputedStyle(gd).display;\n",
              "        if (!display || display === 'none') {{\n",
              "            console.log([gd, 'removed!']);\n",
              "            Plotly.purge(gd);\n",
              "            observer.disconnect();\n",
              "        }}\n",
              "}});\n",
              "\n",
              "// Listen for the removal of the full notebook cells\n",
              "var notebookContainer = gd.closest('#notebook-container');\n",
              "if (notebookContainer) {{\n",
              "    x.observe(notebookContainer, {childList: true});\n",
              "}}\n",
              "\n",
              "// Listen for the clearing of the current output cell\n",
              "var outputEl = gd.closest('.output');\n",
              "if (outputEl) {{\n",
              "    x.observe(outputEl, {childList: true});\n",
              "}}\n",
              "\n",
              "                        })                };                            </script>        </div>\n",
              "</body>\n",
              "</html>"
            ]
          },
          "metadata": {}
        }
      ]
    },
    {
      "cell_type": "markdown",
      "source": [
        "###Wide & Deep with 2 inputs, 2 outputs"
      ],
      "metadata": {
        "id": "nZ8FttojkFYc"
      }
    },
    {
      "cell_type": "code",
      "source": [
        "num_hiddens = 4\n",
        "\n",
        "wide_input_layer = keras.layers.Input(shape = [5], name = 'wide_input') # 5 - for example\n",
        "deep_input_layer = keras.layers.Input(shape=[6], name = 'deep_input')\n",
        "\n",
        "hidden_layer = keras.layers.Dense(30, activation = 'relu', name = f'hidden_1')(deep_input_layer)\n",
        "\n",
        "for i in range(1, num_hiddens):\n",
        "    hidden_layer = keras.layers.Dense(30, activation='relu', name = f'hidden_{i+1}')(hidden_layer)\n",
        "    hidden_layer = keras.layers.Dropout(0.2, name = f'dropout_{i}')(hidden_layer)\n",
        "\n",
        "concat_layer = keras.layers.concatenate([wide_input_layer,deep_input_layer,hidden_layer])\n",
        "output_layers = keras.layers.Dense(1, name = 'main_output')(concat_layer), keras.layers.Dense(1, name = 'auxiliary_output')(hidden_layer)\n",
        "\n",
        "model = keras.models.Model(inputs = [wide_input_layer, deep_input_layer],\n",
        "                           outputs = output_layers)\n",
        "\n",
        "model.compile(loss=['mae','mse'],\n",
        "              loss_weights = [0.5,0.6],\n",
        "              optimizer = keras.optimizers.Adam(learning_rate=1e-3))\n",
        "\n",
        "plot_model(model, show_shapes = True)"
      ],
      "metadata": {
        "id": "HShy_E10kMsm",
        "outputId": "c778ca2b-4a5b-4682-8647-4d897aeee156",
        "colab": {
          "base_uri": "https://localhost:8080/",
          "height": 1000
        }
      },
      "execution_count": 9,
      "outputs": [
        {
          "output_type": "execute_result",
          "data": {
            "text/plain": [
              "<IPython.core.display.Image object>"
            ],
            "image/png": "[encoded data removed]"
          },
          "metadata": {},
          "execution_count": 9
        }
      ]
    },
    {
      "cell_type": "code",
      "source": [
        "history = model.fit(\n",
        "    [X['train'][:,:5], X['train'][:,-6:]],\n",
        "    [y['train'], y['train']],\n",
        "    validation_split = 0.3,\n",
        "    epochs = 100,\n",
        "    batch_size = 64,\n",
        "    callbacks = [tf.keras.callbacks.EarlyStopping(restore_best_weights=True,patience=10)])"
      ],
      "metadata": {
        "id": "sNvHRZjkuTs5",
        "outputId": "fabf9bb3-a002-45a7-ccf5-eaa3011cb379",
        "colab": {
          "base_uri": "https://localhost:8080/"
        }
      },
      "execution_count": 11,
      "outputs": [
        {
          "output_type": "stream",
          "name": "stdout",
          "text": [
            "Epoch 1/100\n",
            "159/159 [==============================] - 2s 5ms/step - loss: 2.0581 - main_output_loss: 1.2385 - auxiliary_output_loss: 2.3981 - val_loss: 0.9018 - val_main_output_loss: 0.6051 - val_auxiliary_output_loss: 0.9987\n",
            "Epoch 2/100\n",
            "159/159 [==============================] - 0s 3ms/step - loss: 1.0309 - main_output_loss: 0.7083 - auxiliary_output_loss: 1.1279 - val_loss: 0.6652 - val_main_output_loss: 0.5141 - val_auxiliary_output_loss: 0.6802\n",
            "Epoch 3/100\n",
            "159/159 [==============================] - 0s 3ms/step - loss: 0.8216 - main_output_loss: 0.6137 - auxiliary_output_loss: 0.8579 - val_loss: 0.5948 - val_main_output_loss: 0.4927 - val_auxiliary_output_loss: 0.5808\n",
            "Epoch 4/100\n",
            "159/159 [==============================] - 1s 3ms/step - loss: 0.7503 - main_output_loss: 0.5652 - auxiliary_output_loss: 0.7796 - val_loss: 0.5355 - val_main_output_loss: 0.4566 - val_auxiliary_output_loss: 0.5120\n",
            "Epoch 5/100\n",
            "159/159 [==============================] - 0s 3ms/step - loss: 0.6760 - main_output_loss: 0.5345 - auxiliary_output_loss: 0.6813 - val_loss: 0.5048 - val_main_output_loss: 0.4401 - val_auxiliary_output_loss: 0.4746\n",
            "Epoch 6/100\n",
            "159/159 [==============================] - 0s 3ms/step - loss: 0.6503 - main_output_loss: 0.5200 - auxiliary_output_loss: 0.6505 - val_loss: 0.5004 - val_main_output_loss: 0.4337 - val_auxiliary_output_loss: 0.4725\n",
            "Epoch 7/100\n",
            "159/159 [==============================] - 1s 3ms/step - loss: 0.6272 - main_output_loss: 0.5056 - auxiliary_output_loss: 0.6239 - val_loss: 0.4845 - val_main_output_loss: 0.4252 - val_auxiliary_output_loss: 0.4532\n",
            "Epoch 8/100\n",
            "159/159 [==============================] - 1s 3ms/step - loss: 0.6233 - main_output_loss: 0.5029 - auxiliary_output_loss: 0.6196 - val_loss: 0.4963 - val_main_output_loss: 0.4291 - val_auxiliary_output_loss: 0.4695\n",
            "Epoch 9/100\n",
            "159/159 [==============================] - 0s 3ms/step - loss: 0.6110 - main_output_loss: 0.4951 - auxiliary_output_loss: 0.6057 - val_loss: 0.4795 - val_main_output_loss: 0.4265 - val_auxiliary_output_loss: 0.4437\n",
            "Epoch 10/100\n",
            "159/159 [==============================] - 1s 3ms/step - loss: 0.5816 - main_output_loss: 0.4777 - auxiliary_output_loss: 0.5712 - val_loss: 0.4682 - val_main_output_loss: 0.4214 - val_auxiliary_output_loss: 0.4292\n",
            "Epoch 11/100\n",
            "159/159 [==============================] - 0s 3ms/step - loss: 0.6012 - main_output_loss: 0.4766 - auxiliary_output_loss: 0.6049 - val_loss: 0.4824 - val_main_output_loss: 0.4228 - val_auxiliary_output_loss: 0.4517\n",
            "Epoch 12/100\n",
            "159/159 [==============================] - 1s 3ms/step - loss: 0.5659 - main_output_loss: 0.4685 - auxiliary_output_loss: 0.5527 - val_loss: 0.4629 - val_main_output_loss: 0.4138 - val_auxiliary_output_loss: 0.4266\n",
            "Epoch 13/100\n",
            "159/159 [==============================] - 0s 3ms/step - loss: 0.5574 - main_output_loss: 0.4669 - auxiliary_output_loss: 0.5399 - val_loss: 0.4615 - val_main_output_loss: 0.4158 - val_auxiliary_output_loss: 0.4227\n",
            "Epoch 14/100\n",
            "159/159 [==============================] - 1s 3ms/step - loss: 0.5538 - main_output_loss: 0.4640 - auxiliary_output_loss: 0.5363 - val_loss: 0.4727 - val_main_output_loss: 0.4214 - val_auxiliary_output_loss: 0.4367\n",
            "Epoch 15/100\n",
            "159/159 [==============================] - 1s 3ms/step - loss: 0.5397 - main_output_loss: 0.4554 - auxiliary_output_loss: 0.5200 - val_loss: 0.4397 - val_main_output_loss: 0.4052 - val_auxiliary_output_loss: 0.3952\n",
            "Epoch 16/100\n",
            "159/159 [==============================] - 0s 3ms/step - loss: 0.5338 - main_output_loss: 0.4498 - auxiliary_output_loss: 0.5148 - val_loss: 0.4513 - val_main_output_loss: 0.4077 - val_auxiliary_output_loss: 0.4124\n",
            "Epoch 17/100\n",
            "159/159 [==============================] - 1s 3ms/step - loss: 0.5244 - main_output_loss: 0.4464 - auxiliary_output_loss: 0.5020 - val_loss: 0.4456 - val_main_output_loss: 0.4056 - val_auxiliary_output_loss: 0.4046\n",
            "Epoch 18/100\n",
            "159/159 [==============================] - 1s 3ms/step - loss: 0.5317 - main_output_loss: 0.4498 - auxiliary_output_loss: 0.5113 - val_loss: 0.4368 - val_main_output_loss: 0.4033 - val_auxiliary_output_loss: 0.3919\n",
            "Epoch 19/100\n",
            "159/159 [==============================] - 1s 3ms/step - loss: 0.5319 - main_output_loss: 0.4481 - auxiliary_output_loss: 0.5131 - val_loss: 0.4440 - val_main_output_loss: 0.4061 - val_auxiliary_output_loss: 0.4016\n",
            "Epoch 20/100\n",
            "159/159 [==============================] - 0s 3ms/step - loss: 0.5203 - main_output_loss: 0.4406 - auxiliary_output_loss: 0.4999 - val_loss: 0.4519 - val_main_output_loss: 0.4074 - val_auxiliary_output_loss: 0.4137\n",
            "Epoch 21/100\n",
            "159/159 [==============================] - 0s 3ms/step - loss: 0.5091 - main_output_loss: 0.4390 - auxiliary_output_loss: 0.4827 - val_loss: 0.4267 - val_main_output_loss: 0.3985 - val_auxiliary_output_loss: 0.3791\n",
            "Epoch 22/100\n",
            "159/159 [==============================] - 0s 3ms/step - loss: 0.5029 - main_output_loss: 0.4354 - auxiliary_output_loss: 0.4754 - val_loss: 0.4337 - val_main_output_loss: 0.4023 - val_auxiliary_output_loss: 0.3876\n",
            "Epoch 23/100\n",
            "159/159 [==============================] - 1s 3ms/step - loss: 0.5123 - main_output_loss: 0.4376 - auxiliary_output_loss: 0.4891 - val_loss: 0.4358 - val_main_output_loss: 0.4030 - val_auxiliary_output_loss: 0.3905\n",
            "Epoch 24/100\n",
            "159/159 [==============================] - 0s 3ms/step - loss: 0.5012 - main_output_loss: 0.4332 - auxiliary_output_loss: 0.4743 - val_loss: 0.4318 - val_main_output_loss: 0.4024 - val_auxiliary_output_loss: 0.3843\n",
            "Epoch 25/100\n",
            "159/159 [==============================] - 0s 3ms/step - loss: 0.5071 - main_output_loss: 0.4338 - auxiliary_output_loss: 0.4837 - val_loss: 0.4479 - val_main_output_loss: 0.4076 - val_auxiliary_output_loss: 0.4069\n",
            "Epoch 26/100\n",
            "159/159 [==============================] - 0s 3ms/step - loss: 0.4921 - main_output_loss: 0.4290 - auxiliary_output_loss: 0.4626 - val_loss: 0.4266 - val_main_output_loss: 0.3984 - val_auxiliary_output_loss: 0.3790\n",
            "Epoch 27/100\n",
            "159/159 [==============================] - 0s 3ms/step - loss: 0.5009 - main_output_loss: 0.4284 - auxiliary_output_loss: 0.4778 - val_loss: 0.4291 - val_main_output_loss: 0.3985 - val_auxiliary_output_loss: 0.3832\n",
            "Epoch 28/100\n",
            "159/159 [==============================] - 1s 3ms/step - loss: 0.4901 - main_output_loss: 0.4264 - auxiliary_output_loss: 0.4615 - val_loss: 0.4383 - val_main_output_loss: 0.4043 - val_auxiliary_output_loss: 0.3936\n",
            "Epoch 29/100\n",
            "159/159 [==============================] - 1s 3ms/step - loss: 0.4771 - main_output_loss: 0.4216 - auxiliary_output_loss: 0.4437 - val_loss: 0.4196 - val_main_output_loss: 0.3943 - val_auxiliary_output_loss: 0.3708\n",
            "Epoch 30/100\n",
            "159/159 [==============================] - 0s 3ms/step - loss: 0.4875 - main_output_loss: 0.4250 - auxiliary_output_loss: 0.4583 - val_loss: 0.4283 - val_main_output_loss: 0.3980 - val_auxiliary_output_loss: 0.3821\n",
            "Epoch 31/100\n",
            "159/159 [==============================] - 1s 3ms/step - loss: 0.4818 - main_output_loss: 0.4222 - auxiliary_output_loss: 0.4513 - val_loss: 0.4224 - val_main_output_loss: 0.3953 - val_auxiliary_output_loss: 0.3745\n",
            "Epoch 32/100\n",
            "159/159 [==============================] - 0s 3ms/step - loss: 0.4803 - main_output_loss: 0.4222 - auxiliary_output_loss: 0.4488 - val_loss: 0.4144 - val_main_output_loss: 0.3911 - val_auxiliary_output_loss: 0.3647\n",
            "Epoch 33/100\n",
            "159/159 [==============================] - 0s 3ms/step - loss: 0.4743 - main_output_loss: 0.4169 - auxiliary_output_loss: 0.4431 - val_loss: 0.4178 - val_main_output_loss: 0.3930 - val_auxiliary_output_loss: 0.3689\n",
            "Epoch 34/100\n",
            "159/159 [==============================] - 0s 3ms/step - loss: 0.4681 - main_output_loss: 0.4158 - auxiliary_output_loss: 0.4337 - val_loss: 0.4138 - val_main_output_loss: 0.3940 - val_auxiliary_output_loss: 0.3613\n",
            "Epoch 35/100\n",
            "159/159 [==============================] - 1s 3ms/step - loss: 0.4719 - main_output_loss: 0.4140 - auxiliary_output_loss: 0.4415 - val_loss: 0.4158 - val_main_output_loss: 0.3930 - val_auxiliary_output_loss: 0.3655\n",
            "Epoch 36/100\n",
            "159/159 [==============================] - 1s 3ms/step - loss: 0.4691 - main_output_loss: 0.4163 - auxiliary_output_loss: 0.4349 - val_loss: 0.4240 - val_main_output_loss: 0.3945 - val_auxiliary_output_loss: 0.3780\n",
            "Epoch 37/100\n",
            "159/159 [==============================] - 0s 3ms/step - loss: 0.4666 - main_output_loss: 0.4142 - auxiliary_output_loss: 0.4325 - val_loss: 0.4134 - val_main_output_loss: 0.3905 - val_auxiliary_output_loss: 0.3636\n",
            "Epoch 38/100\n",
            "159/159 [==============================] - 1s 3ms/step - loss: 0.4555 - main_output_loss: 0.4091 - auxiliary_output_loss: 0.4181 - val_loss: 0.4383 - val_main_output_loss: 0.4018 - val_auxiliary_output_loss: 0.3957\n",
            "Epoch 39/100\n",
            "159/159 [==============================] - 0s 3ms/step - loss: 0.4941 - main_output_loss: 0.4272 - auxiliary_output_loss: 0.4675 - val_loss: 0.4196 - val_main_output_loss: 0.3947 - val_auxiliary_output_loss: 0.3704\n",
            "Epoch 40/100\n",
            "159/159 [==============================] - 1s 3ms/step - loss: 0.4674 - main_output_loss: 0.4133 - auxiliary_output_loss: 0.4346 - val_loss: 0.4135 - val_main_output_loss: 0.3883 - val_auxiliary_output_loss: 0.3656\n",
            "Epoch 41/100\n",
            "159/159 [==============================] - 1s 3ms/step - loss: 0.4582 - main_output_loss: 0.4078 - auxiliary_output_loss: 0.4239 - val_loss: 0.4392 - val_main_output_loss: 0.4035 - val_auxiliary_output_loss: 0.3957\n",
            "Epoch 42/100\n",
            "159/159 [==============================] - 1s 3ms/step - loss: 0.4566 - main_output_loss: 0.4077 - auxiliary_output_loss: 0.4212 - val_loss: 0.4171 - val_main_output_loss: 0.3911 - val_auxiliary_output_loss: 0.3692\n",
            "Epoch 43/100\n",
            "159/159 [==============================] - 1s 3ms/step - loss: 0.4545 - main_output_loss: 0.4057 - auxiliary_output_loss: 0.4194 - val_loss: 0.4309 - val_main_output_loss: 0.3994 - val_auxiliary_output_loss: 0.3854\n",
            "Epoch 44/100\n",
            "159/159 [==============================] - 1s 3ms/step - loss: 0.4654 - main_output_loss: 0.4113 - auxiliary_output_loss: 0.4329 - val_loss: 0.4250 - val_main_output_loss: 0.3930 - val_auxiliary_output_loss: 0.3809\n",
            "Epoch 45/100\n",
            "159/159 [==============================] - 0s 3ms/step - loss: 0.4438 - main_output_loss: 0.4007 - auxiliary_output_loss: 0.4058 - val_loss: 0.4137 - val_main_output_loss: 0.3881 - val_auxiliary_output_loss: 0.3662\n",
            "Epoch 46/100\n",
            "159/159 [==============================] - 1s 3ms/step - loss: 0.4667 - main_output_loss: 0.4120 - auxiliary_output_loss: 0.4344 - val_loss: 0.4110 - val_main_output_loss: 0.3862 - val_auxiliary_output_loss: 0.3632\n",
            "Epoch 47/100\n",
            "159/159 [==============================] - 1s 4ms/step - loss: 0.4555 - main_output_loss: 0.4047 - auxiliary_output_loss: 0.4220 - val_loss: 0.4125 - val_main_output_loss: 0.3853 - val_auxiliary_output_loss: 0.3663\n",
            "Epoch 48/100\n",
            "159/159 [==============================] - 1s 5ms/step - loss: 0.4498 - main_output_loss: 0.4036 - auxiliary_output_loss: 0.4134 - val_loss: 0.4214 - val_main_output_loss: 0.3920 - val_auxiliary_output_loss: 0.3757\n",
            "Epoch 49/100\n",
            "159/159 [==============================] - 1s 7ms/step - loss: 0.4566 - main_output_loss: 0.4067 - auxiliary_output_loss: 0.4221 - val_loss: 0.4181 - val_main_output_loss: 0.3904 - val_auxiliary_output_loss: 0.3715\n",
            "Epoch 50/100\n",
            "159/159 [==============================] - 1s 5ms/step - loss: 0.4419 - main_output_loss: 0.3985 - auxiliary_output_loss: 0.4044 - val_loss: 0.4262 - val_main_output_loss: 0.3962 - val_auxiliary_output_loss: 0.3801\n",
            "Epoch 51/100\n",
            "159/159 [==============================] - 1s 6ms/step - loss: 0.4496 - main_output_loss: 0.4035 - auxiliary_output_loss: 0.4131 - val_loss: 0.4134 - val_main_output_loss: 0.3869 - val_auxiliary_output_loss: 0.3665\n",
            "Epoch 52/100\n",
            "159/159 [==============================] - 1s 6ms/step - loss: 0.4388 - main_output_loss: 0.3966 - auxiliary_output_loss: 0.4009 - val_loss: 0.4126 - val_main_output_loss: 0.3864 - val_auxiliary_output_loss: 0.3657\n",
            "Epoch 53/100\n",
            "159/159 [==============================] - 1s 6ms/step - loss: 0.4419 - main_output_loss: 0.4012 - auxiliary_output_loss: 0.4022 - val_loss: 0.4090 - val_main_output_loss: 0.3869 - val_auxiliary_output_loss: 0.3593\n",
            "Epoch 54/100\n",
            "159/159 [==============================] - 1s 8ms/step - loss: 0.4377 - main_output_loss: 0.3974 - auxiliary_output_loss: 0.3984 - val_loss: 0.4190 - val_main_output_loss: 0.3905 - val_auxiliary_output_loss: 0.3729\n",
            "Epoch 55/100\n",
            "159/159 [==============================] - 0s 3ms/step - loss: 0.4401 - main_output_loss: 0.3986 - auxiliary_output_loss: 0.4013 - val_loss: 0.4094 - val_main_output_loss: 0.3871 - val_auxiliary_output_loss: 0.3597\n",
            "Epoch 56/100\n",
            "159/159 [==============================] - 0s 3ms/step - loss: 0.4359 - main_output_loss: 0.3963 - auxiliary_output_loss: 0.3962 - val_loss: 0.4055 - val_main_output_loss: 0.3843 - val_auxiliary_output_loss: 0.3556\n",
            "Epoch 57/100\n",
            "159/159 [==============================] - 0s 3ms/step - loss: 0.4386 - main_output_loss: 0.3975 - auxiliary_output_loss: 0.3998 - val_loss: 0.4377 - val_main_output_loss: 0.3975 - val_auxiliary_output_loss: 0.3982\n",
            "Epoch 58/100\n",
            "159/159 [==============================] - 0s 3ms/step - loss: 0.4362 - main_output_loss: 0.3970 - auxiliary_output_loss: 0.3961 - val_loss: 0.4072 - val_main_output_loss: 0.3835 - val_auxiliary_output_loss: 0.3591\n",
            "Epoch 59/100\n",
            "159/159 [==============================] - 1s 3ms/step - loss: 0.4352 - main_output_loss: 0.3957 - auxiliary_output_loss: 0.3957 - val_loss: 0.4150 - val_main_output_loss: 0.3863 - val_auxiliary_output_loss: 0.3698\n",
            "Epoch 60/100\n",
            "159/159 [==============================] - 1s 3ms/step - loss: 0.4374 - main_output_loss: 0.3964 - auxiliary_output_loss: 0.3986 - val_loss: 0.4054 - val_main_output_loss: 0.3817 - val_auxiliary_output_loss: 0.3575\n",
            "Epoch 61/100\n",
            "159/159 [==============================] - 0s 3ms/step - loss: 0.4419 - main_output_loss: 0.4011 - auxiliary_output_loss: 0.4023 - val_loss: 0.4253 - val_main_output_loss: 0.3975 - val_auxiliary_output_loss: 0.3776\n",
            "Epoch 62/100\n",
            "159/159 [==============================] - 0s 3ms/step - loss: 0.4514 - main_output_loss: 0.4057 - auxiliary_output_loss: 0.4143 - val_loss: 0.4052 - val_main_output_loss: 0.3830 - val_auxiliary_output_loss: 0.3562\n",
            "Epoch 63/100\n",
            "159/159 [==============================] - 1s 3ms/step - loss: 0.4337 - main_output_loss: 0.3949 - auxiliary_output_loss: 0.3937 - val_loss: 0.4053 - val_main_output_loss: 0.3834 - val_auxiliary_output_loss: 0.3561\n",
            "Epoch 64/100\n",
            "159/159 [==============================] - 1s 3ms/step - loss: 0.4371 - main_output_loss: 0.3970 - auxiliary_output_loss: 0.3977 - val_loss: 0.4197 - val_main_output_loss: 0.3909 - val_auxiliary_output_loss: 0.3738\n",
            "Epoch 65/100\n",
            "159/159 [==============================] - 0s 3ms/step - loss: 0.4253 - main_output_loss: 0.3913 - auxiliary_output_loss: 0.3827 - val_loss: 0.4071 - val_main_output_loss: 0.3847 - val_auxiliary_output_loss: 0.3580\n",
            "Epoch 66/100\n",
            "159/159 [==============================] - 0s 3ms/step - loss: 0.4333 - main_output_loss: 0.3946 - auxiliary_output_loss: 0.3933 - val_loss: 0.4056 - val_main_output_loss: 0.3826 - val_auxiliary_output_loss: 0.3572\n",
            "Epoch 67/100\n",
            "159/159 [==============================] - 1s 3ms/step - loss: 0.4325 - main_output_loss: 0.3933 - auxiliary_output_loss: 0.3931 - val_loss: 0.4078 - val_main_output_loss: 0.3842 - val_auxiliary_output_loss: 0.3595\n",
            "Epoch 68/100\n",
            "159/159 [==============================] - 0s 3ms/step - loss: 0.4331 - main_output_loss: 0.3945 - auxiliary_output_loss: 0.3930 - val_loss: 0.4090 - val_main_output_loss: 0.3859 - val_auxiliary_output_loss: 0.3601\n",
            "Epoch 69/100\n",
            "159/159 [==============================] - 0s 3ms/step - loss: 0.4297 - main_output_loss: 0.3934 - auxiliary_output_loss: 0.3883 - val_loss: 0.4190 - val_main_output_loss: 0.3893 - val_auxiliary_output_loss: 0.3739\n",
            "Epoch 70/100\n",
            "159/159 [==============================] - 0s 3ms/step - loss: 0.4439 - main_output_loss: 0.3984 - auxiliary_output_loss: 0.4079 - val_loss: 0.4084 - val_main_output_loss: 0.3836 - val_auxiliary_output_loss: 0.3609\n",
            "Epoch 71/100\n",
            "159/159 [==============================] - 1s 3ms/step - loss: 0.4441 - main_output_loss: 0.4005 - auxiliary_output_loss: 0.4064 - val_loss: 0.4023 - val_main_output_loss: 0.3820 - val_auxiliary_output_loss: 0.3522\n",
            "Epoch 72/100\n",
            "159/159 [==============================] - 0s 3ms/step - loss: 0.4411 - main_output_loss: 0.3984 - auxiliary_output_loss: 0.4032 - val_loss: 0.4069 - val_main_output_loss: 0.3855 - val_auxiliary_output_loss: 0.3569\n",
            "Epoch 73/100\n",
            "159/159 [==============================] - 1s 3ms/step - loss: 0.4346 - main_output_loss: 0.3961 - auxiliary_output_loss: 0.3942 - val_loss: 0.3988 - val_main_output_loss: 0.3789 - val_auxiliary_output_loss: 0.3489\n",
            "Epoch 74/100\n",
            "159/159 [==============================] - 0s 3ms/step - loss: 0.4437 - main_output_loss: 0.4003 - auxiliary_output_loss: 0.4059 - val_loss: 0.4071 - val_main_output_loss: 0.3843 - val_auxiliary_output_loss: 0.3582\n",
            "Epoch 75/100\n",
            "159/159 [==============================] - 1s 3ms/step - loss: 0.4255 - main_output_loss: 0.3899 - auxiliary_output_loss: 0.3842 - val_loss: 0.4114 - val_main_output_loss: 0.3850 - val_auxiliary_output_loss: 0.3648\n",
            "Epoch 76/100\n",
            "159/159 [==============================] - 1s 3ms/step - loss: 0.4209 - main_output_loss: 0.3878 - auxiliary_output_loss: 0.3783 - val_loss: 0.4131 - val_main_output_loss: 0.3849 - val_auxiliary_output_loss: 0.3678\n",
            "Epoch 77/100\n",
            "159/159 [==============================] - 1s 3ms/step - loss: 0.4233 - main_output_loss: 0.3905 - auxiliary_output_loss: 0.3802 - val_loss: 0.4043 - val_main_output_loss: 0.3839 - val_auxiliary_output_loss: 0.3539\n",
            "Epoch 78/100\n",
            "159/159 [==============================] - 1s 3ms/step - loss: 0.4243 - main_output_loss: 0.3908 - auxiliary_output_loss: 0.3814 - val_loss: 0.3953 - val_main_output_loss: 0.3767 - val_auxiliary_output_loss: 0.3450\n",
            "Epoch 79/100\n",
            "159/159 [==============================] - 1s 3ms/step - loss: 0.4182 - main_output_loss: 0.3887 - auxiliary_output_loss: 0.3731 - val_loss: 0.4019 - val_main_output_loss: 0.3792 - val_auxiliary_output_loss: 0.3538\n",
            "Epoch 80/100\n",
            "159/159 [==============================] - 0s 3ms/step - loss: 0.4216 - main_output_loss: 0.3884 - auxiliary_output_loss: 0.3791 - val_loss: 0.3950 - val_main_output_loss: 0.3767 - val_auxiliary_output_loss: 0.3444\n",
            "Epoch 81/100\n",
            "159/159 [==============================] - 0s 3ms/step - loss: 0.4231 - main_output_loss: 0.3891 - auxiliary_output_loss: 0.3808 - val_loss: 0.4087 - val_main_output_loss: 0.3853 - val_auxiliary_output_loss: 0.3601\n",
            "Epoch 82/100\n",
            "159/159 [==============================] - 1s 3ms/step - loss: 0.4189 - main_output_loss: 0.3870 - auxiliary_output_loss: 0.3757 - val_loss: 0.3989 - val_main_output_loss: 0.3793 - val_auxiliary_output_loss: 0.3487\n",
            "Epoch 83/100\n",
            "159/159 [==============================] - 0s 3ms/step - loss: 0.4230 - main_output_loss: 0.3895 - auxiliary_output_loss: 0.3804 - val_loss: 0.3979 - val_main_output_loss: 0.3779 - val_auxiliary_output_loss: 0.3483\n",
            "Epoch 84/100\n",
            "159/159 [==============================] - 1s 3ms/step - loss: 0.4283 - main_output_loss: 0.3951 - auxiliary_output_loss: 0.3845 - val_loss: 0.3969 - val_main_output_loss: 0.3765 - val_auxiliary_output_loss: 0.3477\n",
            "Epoch 85/100\n",
            "159/159 [==============================] - 1s 3ms/step - loss: 0.4210 - main_output_loss: 0.3886 - auxiliary_output_loss: 0.3778 - val_loss: 0.3988 - val_main_output_loss: 0.3788 - val_auxiliary_output_loss: 0.3490\n",
            "Epoch 86/100\n",
            "159/159 [==============================] - 1s 3ms/step - loss: 0.4171 - main_output_loss: 0.3858 - auxiliary_output_loss: 0.3737 - val_loss: 0.4155 - val_main_output_loss: 0.3889 - val_auxiliary_output_loss: 0.3685\n",
            "Epoch 87/100\n",
            "159/159 [==============================] - 1s 3ms/step - loss: 0.4216 - main_output_loss: 0.3880 - auxiliary_output_loss: 0.3792 - val_loss: 0.3984 - val_main_output_loss: 0.3777 - val_auxiliary_output_loss: 0.3492\n",
            "Epoch 88/100\n",
            "159/159 [==============================] - 1s 3ms/step - loss: 0.4238 - main_output_loss: 0.3898 - auxiliary_output_loss: 0.3816 - val_loss: 0.4079 - val_main_output_loss: 0.3837 - val_auxiliary_output_loss: 0.3600\n",
            "Epoch 89/100\n",
            "159/159 [==============================] - 0s 3ms/step - loss: 0.4170 - main_output_loss: 0.3878 - auxiliary_output_loss: 0.3719 - val_loss: 0.4058 - val_main_output_loss: 0.3819 - val_auxiliary_output_loss: 0.3580\n",
            "Epoch 90/100\n",
            "159/159 [==============================] - 1s 3ms/step - loss: 0.4281 - main_output_loss: 0.3931 - auxiliary_output_loss: 0.3859 - val_loss: 0.3963 - val_main_output_loss: 0.3778 - val_auxiliary_output_loss: 0.3456\n"
          ]
        }
      ]
    },
    {
      "cell_type": "code",
      "source": [
        "plot_regr_loss(history)"
      ],
      "metadata": {
        "id": "oWQESWjjzaz4"
      },
      "execution_count": null,
      "outputs": []
    },
    {
      "cell_type": "markdown",
      "source": [
        "# TensorBoard"
      ],
      "metadata": {
        "id": "PV_ivdWPBDj0"
      }
    },
    {
      "cell_type": "code",
      "source": [
        "keras.backend.clear_session()\n",
        "\n",
        "root_logdir = os.path.join(os.curdir,'my_logs')\n",
        "\n",
        "tensorboard_callback = keras.callbacks.TensorBoard(\n",
        "    get_run_logdir(root_logdir)\n",
        "    )\n",
        "\n",
        "print(tensorboard_callback.log_dir)"
      ],
      "metadata": {
        "id": "yhl8NmWm1i_h",
        "outputId": "b139399a-1f10-4a15-da8f-efb041003c61",
        "colab": {
          "base_uri": "https://localhost:8080/"
        }
      },
      "execution_count": 92,
      "outputs": [
        {
          "output_type": "stream",
          "name": "stdout",
          "text": [
            "./my_logs/run_09:30:40_12_03_2022\n"
          ]
        }
      ]
    },
    {
      "cell_type": "code",
      "source": [
        "model = keras.Sequential([\n",
        "                          keras.layers.Dense(30, activation='relu', input_shape=n_features, kernel_regularizer= keras.regularizers.l1_l2(l1=0,l2=0.01)),\n",
        "                          keras.layers.Dense(10, activation='relu'),\n",
        "                          keras.layers.Dense(1)\n",
        "])\n",
        "\n",
        "model.compile(loss='mse',optimizer=keras.optimizers.Adam(learning_rate=1e-3))\n",
        "\n",
        "model.summary()"
      ],
      "metadata": {
        "id": "PdX1K_gdGjUL",
        "outputId": "c11f13dc-d047-4036-d8c1-fdc2ccb27221",
        "colab": {
          "base_uri": "https://localhost:8080/"
        }
      },
      "execution_count": 93,
      "outputs": [
        {
          "output_type": "stream",
          "name": "stdout",
          "text": [
            "Model: \"sequential\"\n",
            "_________________________________________________________________\n",
            " Layer (type)                Output Shape              Param #   \n",
            "=================================================================\n",
            " dense (Dense)               (None, 30)                270       \n",
            "                                                                 \n",
            " dense_1 (Dense)             (None, 10)                310       \n",
            "                                                                 \n",
            " dense_2 (Dense)             (None, 1)                 11        \n",
            "                                                                 \n",
            "=================================================================\n",
            "Total params: 591\n",
            "Trainable params: 591\n",
            "Non-trainable params: 0\n",
            "_________________________________________________________________\n"
          ]
        }
      ]
    },
    {
      "cell_type": "code",
      "source": [
        "history = model.fit(\n",
        "    X['train'], y['train'],\n",
        "    epochs = 100,\n",
        "    batch_size = 64,\n",
        "    validation_split = 0.3,\n",
        "    callbacks = [tf.keras.callbacks.TensorBoard(get_run_logdir(root_logdir)), \n",
        "                 tf.keras.callbacks.EarlyStopping(restore_best_weights = True, patience=5),\n",
        "                 tf.keras.callbacks.ModelCheckpoint(filepath=f'{root_logdir}',\n",
        "                                                    monitor='val_loss',\n",
        "                                                    mode = 'min',\n",
        "                                                    save_best_only = True,\n",
        "                                                    save_weights_only=True)\n",
        "                 ]\n",
        ")"
      ],
      "metadata": {
        "id": "tAXMiTETGlLq",
        "outputId": "b4393098-8544-4e4b-c0e7-fb6c693c09b2",
        "colab": {
          "base_uri": "https://localhost:8080/"
        }
      },
      "execution_count": 94,
      "outputs": [
        {
          "output_type": "stream",
          "name": "stdout",
          "text": [
            "Epoch 1/100\n",
            "159/159 [==============================] - 2s 8ms/step - loss: 3.4855 - val_loss: 1.5953\n",
            "Epoch 2/100\n",
            "159/159 [==============================] - 2s 11ms/step - loss: 1.0991 - val_loss: 0.9394\n",
            "Epoch 3/100\n",
            "159/159 [==============================] - 1s 3ms/step - loss: 0.8375 - val_loss: 0.7829\n",
            "Epoch 4/100\n",
            "159/159 [==============================] - 1s 3ms/step - loss: 0.7131 - val_loss: 0.6696\n",
            "Epoch 5/100\n",
            "159/159 [==============================] - 1s 5ms/step - loss: 0.6228 - val_loss: 0.6074\n",
            "Epoch 6/100\n",
            "159/159 [==============================] - 1s 4ms/step - loss: 0.5723 - val_loss: 0.5678\n",
            "Epoch 7/100\n",
            "159/159 [==============================] - 1s 4ms/step - loss: 0.5367 - val_loss: 0.5399\n",
            "Epoch 8/100\n",
            "159/159 [==============================] - 1s 4ms/step - loss: 0.5152 - val_loss: 0.5208\n",
            "Epoch 9/100\n",
            "159/159 [==============================] - 1s 4ms/step - loss: 0.4964 - val_loss: 0.5083\n",
            "Epoch 10/100\n",
            "159/159 [==============================] - 0s 3ms/step - loss: 0.4841 - val_loss: 0.4933\n",
            "Epoch 11/100\n",
            "159/159 [==============================] - 1s 3ms/step - loss: 0.4723 - val_loss: 0.4802\n",
            "Epoch 12/100\n",
            "159/159 [==============================] - 1s 3ms/step - loss: 0.4629 - val_loss: 0.4744\n",
            "Epoch 13/100\n",
            "159/159 [==============================] - 0s 3ms/step - loss: 0.4518 - val_loss: 0.4635\n",
            "Epoch 14/100\n",
            "159/159 [==============================] - 1s 3ms/step - loss: 0.4420 - val_loss: 0.4575\n",
            "Epoch 15/100\n",
            "159/159 [==============================] - 1s 4ms/step - loss: 0.4329 - val_loss: 0.4473\n",
            "Epoch 16/100\n",
            "159/159 [==============================] - 1s 3ms/step - loss: 0.4408 - val_loss: 0.4539\n",
            "Epoch 17/100\n",
            "159/159 [==============================] - 1s 4ms/step - loss: 0.4247 - val_loss: 0.4360\n",
            "Epoch 18/100\n",
            "159/159 [==============================] - 0s 3ms/step - loss: 0.4168 - val_loss: 0.4381\n",
            "Epoch 19/100\n",
            "159/159 [==============================] - 0s 3ms/step - loss: 0.4111 - val_loss: 0.4235\n",
            "Epoch 20/100\n",
            "159/159 [==============================] - 1s 3ms/step - loss: 0.4058 - val_loss: 0.4247\n",
            "Epoch 21/100\n",
            "159/159 [==============================] - 1s 3ms/step - loss: 0.4032 - val_loss: 0.4162\n",
            "Epoch 22/100\n",
            "159/159 [==============================] - 1s 3ms/step - loss: 0.4001 - val_loss: 0.4170\n",
            "Epoch 23/100\n",
            "159/159 [==============================] - 1s 3ms/step - loss: 0.3918 - val_loss: 0.4071\n",
            "Epoch 24/100\n",
            "159/159 [==============================] - 0s 3ms/step - loss: 0.3902 - val_loss: 0.4119\n",
            "Epoch 25/100\n",
            "159/159 [==============================] - 0s 3ms/step - loss: 0.3862 - val_loss: 0.4077\n",
            "Epoch 26/100\n",
            "159/159 [==============================] - 1s 3ms/step - loss: 0.3840 - val_loss: 0.4107\n",
            "Epoch 27/100\n",
            "159/159 [==============================] - 1s 4ms/step - loss: 0.3812 - val_loss: 0.3953\n",
            "Epoch 28/100\n",
            "159/159 [==============================] - 1s 3ms/step - loss: 0.3800 - val_loss: 0.4012\n",
            "Epoch 29/100\n",
            "159/159 [==============================] - 0s 3ms/step - loss: 0.3750 - val_loss: 0.3965\n",
            "Epoch 30/100\n",
            "159/159 [==============================] - 1s 3ms/step - loss: 0.3742 - val_loss: 0.3937\n",
            "Epoch 31/100\n",
            "159/159 [==============================] - 1s 3ms/step - loss: 0.3705 - val_loss: 0.3850\n",
            "Epoch 32/100\n",
            "159/159 [==============================] - 0s 3ms/step - loss: 0.3661 - val_loss: 0.3898\n",
            "Epoch 33/100\n",
            "159/159 [==============================] - 1s 3ms/step - loss: 0.3644 - val_loss: 0.3797\n",
            "Epoch 34/100\n",
            "159/159 [==============================] - 1s 3ms/step - loss: 0.3618 - val_loss: 0.3867\n",
            "Epoch 35/100\n",
            "159/159 [==============================] - 0s 3ms/step - loss: 0.3594 - val_loss: 0.3820\n",
            "Epoch 36/100\n",
            "159/159 [==============================] - 0s 3ms/step - loss: 0.3604 - val_loss: 0.3838\n",
            "Epoch 37/100\n",
            "159/159 [==============================] - 0s 3ms/step - loss: 0.3554 - val_loss: 0.3780\n",
            "Epoch 38/100\n",
            "159/159 [==============================] - 0s 3ms/step - loss: 0.3602 - val_loss: 0.3934\n",
            "Epoch 39/100\n",
            "159/159 [==============================] - 0s 3ms/step - loss: 0.3581 - val_loss: 0.3779\n",
            "Epoch 40/100\n",
            "159/159 [==============================] - 0s 3ms/step - loss: 0.3547 - val_loss: 0.3774\n",
            "Epoch 41/100\n",
            "159/159 [==============================] - 0s 3ms/step - loss: 0.3530 - val_loss: 0.3647\n",
            "Epoch 42/100\n",
            "159/159 [==============================] - 0s 3ms/step - loss: 0.3493 - val_loss: 0.3695\n",
            "Epoch 43/100\n",
            "159/159 [==============================] - 1s 3ms/step - loss: 0.3448 - val_loss: 0.3756\n",
            "Epoch 44/100\n",
            "159/159 [==============================] - 0s 3ms/step - loss: 0.3485 - val_loss: 0.3705\n",
            "Epoch 45/100\n",
            "159/159 [==============================] - 0s 3ms/step - loss: 0.3434 - val_loss: 0.3626\n",
            "Epoch 46/100\n",
            "159/159 [==============================] - 0s 3ms/step - loss: 0.3420 - val_loss: 0.3893\n",
            "Epoch 47/100\n",
            "159/159 [==============================] - 0s 3ms/step - loss: 0.3435 - val_loss: 0.3647\n",
            "Epoch 48/100\n",
            "159/159 [==============================] - 0s 3ms/step - loss: 0.3435 - val_loss: 0.3797\n",
            "Epoch 49/100\n",
            "159/159 [==============================] - 0s 3ms/step - loss: 0.3424 - val_loss: 0.3661\n",
            "Epoch 50/100\n",
            "159/159 [==============================] - 0s 3ms/step - loss: 0.3453 - val_loss: 0.3723\n"
          ]
        }
      ]
    },
    {
      "cell_type": "code",
      "source": [
        "# l2(0.01) loss: 0.2989 - val_loss: 0.3391\n",
        "# l2(0)    loss: 0.3438 - val_loss: 0.3688"
      ],
      "metadata": {
        "id": "nnTOmyBCWQ3p"
      },
      "execution_count": 97,
      "outputs": []
    },
    {
      "cell_type": "code",
      "source": [
        "%load_ext tensorboard\n",
        "%tensorboard --logdir=./my_logs --port=6006"
      ],
      "metadata": {
        "id": "TRoVsN0zdAJ0"
      },
      "execution_count": null,
      "outputs": []
    },
    {
      "cell_type": "markdown",
      "source": [
        "# Hyperparameter tuning"
      ],
      "metadata": {
        "id": "ONh1FGWLjg1Y"
      }
    },
    {
      "cell_type": "code",
      "source": [
        "keras.backend.clear_session()"
      ],
      "metadata": {
        "id": "89PS5P-NdBpg"
      },
      "execution_count": 98,
      "outputs": []
    },
    {
      "cell_type": "code",
      "source": [
        "def build_regr_model(n_hidden = 1, n_units = 30, lr = 1e-3, input_shape=[8], l2_reg_coef = 1e-3):\n",
        "    model = keras.models.Sequential([\n",
        "                                     keras.layers.Dense(n_units-i, activation='relu', input_shape=input_shape, kernel_regularizer=keras.regularizers.l2(l2_reg_coef)) for i in range(n_hidden)\n",
        "                                     ] + [keras.layers.Dense(1)]\n",
        "    )\n",
        "    model.compile(loss='mse',\n",
        "                  optimizer=keras.optimizers.Adam(learning_rate=lr))\n",
        "    \n",
        "    return model"
      ],
      "metadata": {
        "id": "jP6J0pIGzkpZ"
      },
      "execution_count": 104,
      "outputs": []
    },
    {
      "cell_type": "code",
      "source": [
        "model_params = {\n",
        "    'n_hidden': 2,\n",
        "    'n_units': 54,\n",
        "    'l2_reg_coef': 0.01\n",
        "}\n",
        "\n",
        "model = build_regr_model(**model_params)\n",
        "model.summary()"
      ],
      "metadata": {
        "id": "6lp4mO7v1fy0",
        "outputId": "466da3b1-a152-4b0b-fe5c-704bfe9b6e5c",
        "colab": {
          "base_uri": "https://localhost:8080/"
        }
      },
      "execution_count": 107,
      "outputs": [
        {
          "output_type": "stream",
          "name": "stdout",
          "text": [
            "Model: \"sequential_2\"\n",
            "_________________________________________________________________\n",
            " Layer (type)                Output Shape              Param #   \n",
            "=================================================================\n",
            " dense_7 (Dense)             (None, 54)                486       \n",
            "                                                                 \n",
            " dense_8 (Dense)             (None, 53)                2915      \n",
            "                                                                 \n",
            " dense_9 (Dense)             (None, 1)                 54        \n",
            "                                                                 \n",
            "=================================================================\n",
            "Total params: 3,455\n",
            "Trainable params: 3,455\n",
            "Non-trainable params: 0\n",
            "_________________________________________________________________\n"
          ]
        }
      ]
    },
    {
      "cell_type": "code",
      "source": [
        "keras_reg = KerasRegressor(model=build_regr_model)# Deprecated: keras.wrappers.scikit_learn.KerasRegressor(build_regr_model)\n",
        "history = keras_reg.fit(X['train'],y['train'],\n",
        "              batch_size=64,\n",
        "              epochs = 100,\n",
        "              validation_split = 0.3,\n",
        "              callbacks = [keras.callbacks.EarlyStopping(patience=10)])"
      ],
      "metadata": {
        "id": "fsL1mIAP1htA"
      },
      "execution_count": null,
      "outputs": []
    },
    {
      "cell_type": "code",
      "source": [
        "param_distribs = {\n",
        "    \"n_hidden\": [0, 1, 2, 3],\n",
        "    \"n_neurons\": np.arange(1, 100)               .tolist(),\n",
        "    \"learning_rate\": reciprocal(3e-4, 3e-2)      .rvs(1000).tolist(),\n",
        "}\n",
        "\n",
        "rnd_search_cv = RandomizedSearchCV(keras_reg, param_distribs, n_iter=10, cv=3, verbose=2)\n",
        "\n",
        "history = keras_reg.fit(X['train'],y['train'],\n",
        "              batch_size=64,\n",
        "              epochs = 100,\n",
        "              validation_split = 0.3,\n",
        "              callbacks = [keras.callbacks.EarlyStopping(patience=10)])"
      ],
      "metadata": {
        "id": "huIrvVvi6Ja_"
      },
      "execution_count": null,
      "outputs": []
    },
    {
      "cell_type": "code",
      "source": [
        "rnd_search_cv.best_estimator"
      ],
      "metadata": {
        "id": "M8BPfYwp8J-e"
      },
      "execution_count": null,
      "outputs": []
    },
    {
      "cell_type": "code",
      "source": [
        ""
      ],
      "metadata": {
        "id": "1A8XolwFA-Zy"
      },
      "execution_count": null,
      "outputs": []
    }
  ],
  "metadata": {
    "kernelspec": {
      "display_name": "Python 3",
      "language": "python",
      "name": "python3"
    },
    "language_info": {
      "codemirror_mode": {
        "name": "ipython",
        "version": 3
      },
      "file_extension": ".py",
      "mimetype": "text/x-python",
      "name": "python",
      "nbconvert_exporter": "python",
      "pygments_lexer": "ipython3",
      "version": "3.7.10"
    },
    "nav_menu": {
      "height": "264px",
      "width": "369px"
    },
    "toc": {
      "navigate_menu": true,
      "number_sections": true,
      "sideBar": true,
      "threshold": 6,
      "toc_cell": false,
      "toc_section_display": "block",
      "toc_window_display": false
    },
    "colab": {
      "name": "10_neural_nets_with_keras.ipynb",
      "provenance": []
    }
  },
  "nbformat": 4,
  "nbformat_minor": 0
}