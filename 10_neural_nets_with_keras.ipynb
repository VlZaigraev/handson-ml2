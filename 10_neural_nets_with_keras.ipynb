{
  "cells": [
    {
      "cell_type": "markdown",
      "metadata": {
        "id": "T7Aaeh25R0bB"
      },
      "source": [
        "**Chapter 10 – Introduction to Artificial Neural Networks with Keras**\n",
        "\n",
        "_This notebook contains all the sample code and solutions to the exercises in chapter 10._"
      ]
    },
    {
      "cell_type": "markdown",
      "metadata": {
        "id": "ZxJFdczhR0bG"
      },
      "source": [
        "<table align=\"left\">\n",
        "  <td>\n",
        "    <a href=\"https://colab.research.google.com/github/ageron/handson-ml2/blob/master/10_neural_nets_with_keras.ipynb\" target=\"_parent\"><img src=\"https://colab.research.google.com/assets/colab-badge.svg\" alt=\"Open In Colab\"/></a>\n",
        "  </td>\n",
        "  <td>\n",
        "    <a target=\"_blank\" href=\"https://kaggle.com/kernels/welcome?src=https://github.com/ageron/handson-ml2/blob/master/10_neural_nets_with_keras.ipynb\"><img src=\"https://kaggle.com/static/images/open-in-kaggle.svg\" /></a>\n",
        "  </td>\n",
        "</table>"
      ]
    },
    {
      "cell_type": "code",
      "source": [
        "print(\"Aboba\")"
      ],
      "metadata": {
        "id": "8gWNQbmHSSLm",
        "outputId": "017f1dd2-b5c5-422b-ac5a-2bb68f7519b3",
        "colab": {
          "base_uri": "https://localhost:8080/",
          "height": 0
        }
      },
      "execution_count": 1,
      "outputs": [
        {
          "output_type": "stream",
          "name": "stdout",
          "text": [
            "Aboba\n"
          ]
        }
      ]
    },
    {
      "cell_type": "markdown",
      "metadata": {
        "id": "ixM4ieHMR0bI"
      },
      "source": [
        "# Setup"
      ]
    },
    {
      "cell_type": "code",
      "execution_count": 189,
      "metadata": {
        "id": "RxjyT9l5R0bJ"
      },
      "outputs": [],
      "source": [
        "# Python ≥3.5 is required\n",
        "import sys\n",
        "assert sys.version_info >= (3, 5)\n",
        "\n",
        "# Scikit-Learn ≥0.20 is required\n",
        "import sklearn\n",
        "assert sklearn.__version__ >= \"0.20\"\n",
        "\n",
        "try:\n",
        "    # %tensorflow_version only exists in Colab.\n",
        "    %tensorflow_version 2.x\n",
        "except Exception:\n",
        "    pass\n",
        "\n",
        "# TensorFlow ≥2.0 is required\n",
        "import tensorflow as tf\n",
        "assert tf.__version__ >= \"2.0\"\n",
        "\n",
        "# Common imports\n",
        "import numpy as np\n",
        "import os\n",
        "\n",
        "# to make this notebook's output stable across runs\n",
        "np.random.seed(42)\n",
        "\n",
        "# To plot pretty figures\n",
        "%matplotlib inline\n",
        "import matplotlib as mpl\n",
        "import matplotlib.pyplot as plt\n",
        "mpl.rc('axes', labelsize=14)\n",
        "mpl.rc('xtick', labelsize=12)\n",
        "mpl.rc('ytick', labelsize=12)\n",
        "\n",
        "\n",
        "\n",
        "import tensorflow as tf\n",
        "from tensorflow import keras\n",
        "from tensorflow.keras.utils import plot_model\n",
        "\n",
        "import seaborn as sns, pandas as pd\n",
        "import plotly.express as px\n",
        "import plotly.graph_objects as go\n",
        "from plotly.subplots import make_subplots\n",
        "\n",
        "from sklearn.datasets import fetch_california_housing\n",
        "from sklearn.model_selection import train_test_split\n",
        "from sklearn.preprocessing import StandardScaler"
      ]
    },
    {
      "cell_type": "markdown",
      "metadata": {
        "id": "rBy7FR6kR0bU"
      },
      "source": [
        "# Fashion MNIST Classifier\n",
        "\n"
      ]
    },
    {
      "cell_type": "markdown",
      "source": [
        "## Data"
      ],
      "metadata": {
        "id": "3_bwhKkL-TFu"
      }
    },
    {
      "cell_type": "code",
      "source": [
        "X = dict()\n",
        "y = dict()\n",
        "\n",
        "(X['train'], y['train']), (X['test'], y['test']) = keras.datasets.fashion_mnist.load_data()\n",
        "X['train'], X['test'] = (X.astype('float32')/255 for X in (X['train'], X['test']))\n"
      ],
      "metadata": {
        "id": "9oDgPX2vx5jz",
        "outputId": "a45a3853-5e7c-4adb-963d-78bd7bb6a75f",
        "colab": {
          "base_uri": "https://localhost:8080/",
          "height": 0
        }
      },
      "execution_count": 2,
      "outputs": [
        {
          "output_type": "stream",
          "name": "stdout",
          "text": [
            "Downloading data from https://storage.googleapis.com/tensorflow/tf-keras-datasets/train-labels-idx1-ubyte.gz\n",
            "32768/29515 [=================================] - 0s 0us/step\n",
            "40960/29515 [=========================================] - 0s 0us/step\n",
            "Downloading data from https://storage.googleapis.com/tensorflow/tf-keras-datasets/train-images-idx3-ubyte.gz\n",
            "26427392/26421880 [==============================] - 0s 0us/step\n",
            "26435584/26421880 [==============================] - 0s 0us/step\n",
            "Downloading data from https://storage.googleapis.com/tensorflow/tf-keras-datasets/t10k-labels-idx1-ubyte.gz\n",
            "16384/5148 [===============================================================================================] - 0s 0us/step\n",
            "Downloading data from https://storage.googleapis.com/tensorflow/tf-keras-datasets/t10k-images-idx3-ubyte.gz\n",
            "4423680/4422102 [==============================] - 0s 0us/step\n",
            "4431872/4422102 [==============================] - 0s 0us/step\n"
          ]
        }
      ]
    },
    {
      "cell_type": "code",
      "source": [
        "print(f\"\"\"\n",
        "X shape:{X['test'].shape[1:]}\n",
        "y shape: 1\n",
        "Dtype: {X['test'].dtype}\n",
        "{'-'*54}\"\"\")\n",
        "\n",
        "for split in X.keys():\n",
        "    print(f\"\"\"{split.capitalize()}: {y[split].shape[0]}\"\"\")"
      ],
      "metadata": {
        "id": "kThotNdAylt-",
        "outputId": "360834f9-15dc-4fa9-c815-5902ad7fbdb0",
        "colab": {
          "base_uri": "https://localhost:8080/",
          "height": 0
        }
      },
      "execution_count": 3,
      "outputs": [
        {
          "output_type": "stream",
          "name": "stdout",
          "text": [
            "\n",
            "X shape:(28, 28)\n",
            "y shape: 1\n",
            "Dtype: float32\n",
            "------------------------------------------------------\n",
            "Train: 60000\n",
            "Test: 10000\n"
          ]
        }
      ]
    },
    {
      "cell_type": "code",
      "source": [
        "n_cols, n_rows = 3,3\n",
        "class_names = [\"T-shirt/top\", \"Trouser\", \"Pullover\", \"Dress\", \"Coat\",\n",
        "               \"Sandal\", \"Shirt\", \"Sneaker\", \"Bag\", \"Ankle boot\"]\n",
        "n_classes = len(class_names)\n",
        "\n",
        "def plot_random_items(n_cols = 3, n_rows = 3, cmap = 'binary', model=None, split = 'train'):\n",
        "    figure = plt.figure(figsize=(10, 10))\n",
        "    for i in range(1, n_cols * n_rows + 1):\n",
        "        sample_idx = np.random.randint(X[split].shape[0],size=(1,))[0]\n",
        "        figure.add_subplot(n_rows, n_cols, i)\n",
        "        _title = class_names[y[split][sample_idx]] if model is None \\\n",
        "        else f'''\n",
        "        True:{class_names[y[split][sample_idx]]}\n",
        "        Pred: {class_names[\n",
        "                           np.argmax(model.predict(np.expand_dims(X[split][sample_idx],axis=0)),axis=-1)[0]]}'''\n",
        "        plt.title(_title)\n",
        "        plt.axis(\"off\")\n",
        "        plt.imshow(X[split][sample_idx], cmap=cmap, interpolation='nearest')\n",
        "    plt.show()\n",
        "\n",
        "plot_random_items(split = 'train')"
      ],
      "metadata": {
        "id": "KAc5Odl46sjw",
        "outputId": "5047f2c2-83c0-4eb5-cb2f-84784582c255",
        "colab": {
          "base_uri": "https://localhost:8080/",
          "height": 591
        }
      },
      "execution_count": 182,
      "outputs": [
        {
          "output_type": "display_data",
          "data": {
            "image/png": "[encoded data removed]",
            "text/plain": [
              "<Figure size 720x720 with 9 Axes>"
            ]
          },
          "metadata": {
            "needs_background": "light"
          }
        }
      ]
    },
    {
      "cell_type": "markdown",
      "source": [
        "## Model"
      ],
      "metadata": {
        "id": "OoL5GURs9mNo"
      }
    },
    {
      "cell_type": "code",
      "source": [
        "model = keras.Sequential([\n",
        "    keras.layers.Flatten(input_shape=X['test'].shape[1:]),\n",
        "    keras.layers.Dense(350, activation = 'relu'),\n",
        "    keras.layers.Dropout(.2),\n",
        "    keras.layers.Dense(100, activation = 'relu'),\n",
        "    keras.layers.Dense(n_classes, activation='softmax')]\n",
        ")\n",
        "\n",
        "model.summary()"
      ],
      "metadata": {
        "id": "Dxoq_gAv7ge_",
        "outputId": "2a6c57a1-6b67-43ec-f73e-bdd9eaaf0016",
        "colab": {
          "base_uri": "https://localhost:8080/",
          "height": 0
        }
      },
      "execution_count": 6,
      "outputs": [
        {
          "output_type": "stream",
          "name": "stdout",
          "text": [
            "Model: \"sequential\"\n",
            "_________________________________________________________________\n",
            " Layer (type)                Output Shape              Param #   \n",
            "=================================================================\n",
            " flatten (Flatten)           (None, 784)               0         \n",
            "                                                                 \n",
            " dense (Dense)               (None, 350)               274750    \n",
            "                                                                 \n",
            " dropout (Dropout)           (None, 350)               0         \n",
            "                                                                 \n",
            " dense_1 (Dense)             (None, 100)               35100     \n",
            "                                                                 \n",
            " dense_2 (Dense)             (None, 10)                1010      \n",
            "                                                                 \n",
            "=================================================================\n",
            "Total params: 310,860\n",
            "Trainable params: 310,860\n",
            "Non-trainable params: 0\n",
            "_________________________________________________________________\n"
          ]
        }
      ]
    },
    {
      "cell_type": "code",
      "source": [
        "plot_model(model,show_shapes=True,show_dtype=not True)"
      ],
      "metadata": {
        "id": "sfyBIls2-3zT",
        "outputId": "78eb0fca-334f-4cdf-f9c0-c670467e4264",
        "colab": {
          "base_uri": "https://localhost:8080/",
          "height": 644
        }
      },
      "execution_count": 8,
      "outputs": [
        {
          "output_type": "execute_result",
          "data": {
            "image/png": "[encoded data removed]",
            "text/plain": [
              "<IPython.core.display.Image object>"
            ]
          },
          "metadata": {},
          "execution_count": 8
        }
      ]
    },
    {
      "cell_type": "code",
      "source": [
        "model.compile(loss = 'sparse_categorical_crossentropy',\n",
        "              optimizer = 'adam',\n",
        "              metrics = 'accuracy')"
      ],
      "metadata": {
        "id": "Br57rKUa97Ap"
      },
      "execution_count": 7,
      "outputs": []
    },
    {
      "cell_type": "code",
      "source": [
        "history = model.fit(X['train'],y['train'],\n",
        "          validation_split = 0.7,\n",
        "          epochs = 30,\n",
        "          batch_size=128,\n",
        "          callbacks=[tf.keras.callbacks.EarlyStopping(restore_best_weights=True,patience=3)])"
      ],
      "metadata": {
        "id": "TJ_9GRA5_c_D"
      },
      "execution_count": null,
      "outputs": []
    },
    {
      "cell_type": "code",
      "source": [
        "\n",
        "fig = make_subplots(\n",
        "                    rows=1,cols=2,\n",
        "                    subplot_titles=['Accuracy graph'*0,'Loss graph'*0]\n",
        "                    )\n",
        "\n",
        "fig.append_trace(go.Scatter(\n",
        "                         y=history.history['accuracy'],\n",
        "                         name='train accuracy',\n",
        "                         mode='lines+markers',\n",
        "                         legendgroup = 1),\n",
        "              row=1,col=1)\n",
        "fig.append_trace(go.Scatter(\n",
        "                         y=history.history['val_accuracy'],\n",
        "                         name='val accuracy',\n",
        "                         mode='lines+markers',\n",
        "                         legendgroup = 1),\n",
        "              row=1,col=1)\n",
        "\n",
        "fig.append_trace(go.Scatter(\n",
        "                         y=history.history['loss'],\n",
        "                         name='train loss',\n",
        "                         mode='lines+markers',\n",
        "                         legendgroup=2),\n",
        "              row=1,col=2)\n",
        "fig.append_trace(go.Scatter(\n",
        "                         y=history.history['val_loss'],\n",
        "                         name='val loss',\n",
        "                         mode='lines+markers',\n",
        "                         legendgroup=2),\n",
        "              row=1,col=2)\n",
        "\n",
        "fig.update_xaxes(title_text='Epoch')\n",
        "fig.update_yaxes(title_text='Accuracy',row=1,col=1)\n",
        "fig.update_yaxes(title_text='Loss',row=1,col=2)\n",
        "fig.update_layout(legend = {'orientation':'h',\n",
        "                            'xanchor':'left',\n",
        "                            'yanchor':'top',\n",
        "                            'x':0,\n",
        "                            'y':1.2},)"
      ],
      "metadata": {
        "colab": {
          "base_uri": "https://localhost:8080/",
          "height": 542
        },
        "id": "5hl9ltzff-r0",
        "outputId": "d1945fd4-88d1-4bdb-9b41-b46e1bfb75f1"
      },
      "execution_count": 144,
      "outputs": [
        {
          "output_type": "display_data",
          "data": {
            "text/html": [
              "<html>\n",
              "<head><meta charset=\"utf-8\" /></head>\n",
              "<body>\n",
              "    <div>            <script src=\"https://cdnjs.cloudflare.com/ajax/libs/mathjax/2.7.5/MathJax.js?config=TeX-AMS-MML_SVG\"></script><script type=\"text/javascript\">if (window.MathJax) {MathJax.Hub.Config({SVG: {font: \"STIX-Web\"}});}</script>                <script type=\"text/javascript\">window.PlotlyConfig = {MathJaxConfig: 'local'};</script>\n",
              "        <script src=\"https://cdn.plot.ly/plotly-2.8.3.min.js\"></script>                <div id=\"20fd1d55-baa1-442c-b096-a181f796438a\" class=\"plotly-graph-div\" style=\"height:525px; width:100%;\"></div>            <script type=\"text/javascript\">                                    window.PLOTLYENV=window.PLOTLYENV || {};                                    if (document.getElementById(\"20fd1d55-baa1-442c-b096-a181f796438a\")) {                    Plotly.newPlot(                        \"20fd1d55-baa1-442c-b096-a181f796438a\",                        [{\"legendgroup\":\"1\",\"mode\":\"lines+markers\",\"name\":\"train accuracy\",\"y\":[0.7505555748939514,0.8299999833106995,0.8502222299575806,0.8612777590751648,0.8704444169998169,0.8717777729034424,0.8793333172798157,0.8838889002799988,0.8852777481079102,0.8934999704360962,0.8933333158493042,0.8969444632530212,0.9045000076293945,0.9016110897064209,0.9063888788223267,0.9078888893127441,0.910611093044281,0.9138888716697693,0.917555570602417,0.9135000109672546,0.9195555448532104],\"type\":\"scatter\",\"xaxis\":\"x\",\"yaxis\":\"y\"},{\"legendgroup\":\"1\",\"mode\":\"lines+markers\",\"name\":\"val accuracy\",\"y\":[0.823285698890686,0.8395714163780212,0.8551428318023682,0.8614285588264465,0.860880970954895,0.8689285516738892,0.8701905012130737,0.8716428279876709,0.8752381205558777,0.8764523863792419,0.8722380995750427,0.8752142786979675,0.8778333067893982,0.8770714402198792,0.8786904811859131,0.8842381238937378,0.8818095326423645,0.885690450668335,0.8794761896133423,0.8773809671401978,0.8826904892921448],\"type\":\"scatter\",\"xaxis\":\"x\",\"yaxis\":\"y\"},{\"legendgroup\":\"2\",\"mode\":\"lines+markers\",\"name\":\"train loss\",\"y\":[0.6996703147888184,0.4717322587966919,0.4116632640361786,0.38165539503097534,0.35296356678009033,0.3416096270084381,0.32630807161331177,0.3065691590309143,0.3039161264896393,0.2886550724506378,0.2803375720977783,0.2694198489189148,0.2563154101371765,0.25603383779525757,0.2437421828508377,0.24039192497730255,0.2371050864458084,0.22393427789211273,0.218407541513443,0.22036662697792053,0.2115052044391632],\"type\":\"scatter\",\"xaxis\":\"x2\",\"yaxis\":\"y2\"},{\"legendgroup\":\"2\",\"mode\":\"lines+markers\",\"name\":\"val loss\",\"y\":[0.5007389187812805,0.45130491256713867,0.409718781709671,0.3855736255645752,0.3859544098377228,0.3666393756866455,0.36428070068359375,0.3644052743911743,0.35287973284721375,0.351318895816803,0.359639972448349,0.35034969449043274,0.35847118496894836,0.3486781120300293,0.3523065149784088,0.3418920338153839,0.3482578694820404,0.33688199520111084,0.36525189876556396,0.36280447244644165,0.3572063744068146],\"type\":\"scatter\",\"xaxis\":\"x2\",\"yaxis\":\"y2\"}],                        {\"template\":{\"data\":{\"bar\":[{\"error_x\":{\"color\":\"#2a3f5f\"},\"error_y\":{\"color\":\"#2a3f5f\"},\"marker\":{\"line\":{\"color\":\"#E5ECF6\",\"width\":0.5},\"pattern\":{\"fillmode\":\"overlay\",\"size\":10,\"solidity\":0.2}},\"type\":\"bar\"}],\"barpolar\":[{\"marker\":{\"line\":{\"color\":\"#E5ECF6\",\"width\":0.5},\"pattern\":{\"fillmode\":\"overlay\",\"size\":10,\"solidity\":0.2}},\"type\":\"barpolar\"}],\"carpet\":[{\"aaxis\":{\"endlinecolor\":\"#2a3f5f\",\"gridcolor\":\"white\",\"linecolor\":\"white\",\"minorgridcolor\":\"white\",\"startlinecolor\":\"#2a3f5f\"},\"baxis\":{\"endlinecolor\":\"#2a3f5f\",\"gridcolor\":\"white\",\"linecolor\":\"white\",\"minorgridcolor\":\"white\",\"startlinecolor\":\"#2a3f5f\"},\"type\":\"carpet\"}],\"choropleth\":[{\"colorbar\":{\"outlinewidth\":0,\"ticks\":\"\"},\"type\":\"choropleth\"}],\"contour\":[{\"colorbar\":{\"outlinewidth\":0,\"ticks\":\"\"},\"colorscale\":[[0.0,\"#0d0887\"],[0.1111111111111111,\"#46039f\"],[0.2222222222222222,\"#7201a8\"],[0.3333333333333333,\"#9c179e\"],[0.4444444444444444,\"#bd3786\"],[0.5555555555555556,\"#d8576b\"],[0.6666666666666666,\"#ed7953\"],[0.7777777777777778,\"#fb9f3a\"],[0.8888888888888888,\"#fdca26\"],[1.0,\"#f0f921\"]],\"type\":\"contour\"}],\"contourcarpet\":[{\"colorbar\":{\"outlinewidth\":0,\"ticks\":\"\"},\"type\":\"contourcarpet\"}],\"heatmap\":[{\"colorbar\":{\"outlinewidth\":0,\"ticks\":\"\"},\"colorscale\":[[0.0,\"#0d0887\"],[0.1111111111111111,\"#46039f\"],[0.2222222222222222,\"#7201a8\"],[0.3333333333333333,\"#9c179e\"],[0.4444444444444444,\"#bd3786\"],[0.5555555555555556,\"#d8576b\"],[0.6666666666666666,\"#ed7953\"],[0.7777777777777778,\"#fb9f3a\"],[0.8888888888888888,\"#fdca26\"],[1.0,\"#f0f921\"]],\"type\":\"heatmap\"}],\"heatmapgl\":[{\"colorbar\":{\"outlinewidth\":0,\"ticks\":\"\"},\"colorscale\":[[0.0,\"#0d0887\"],[0.1111111111111111,\"#46039f\"],[0.2222222222222222,\"#7201a8\"],[0.3333333333333333,\"#9c179e\"],[0.4444444444444444,\"#bd3786\"],[0.5555555555555556,\"#d8576b\"],[0.6666666666666666,\"#ed7953\"],[0.7777777777777778,\"#fb9f3a\"],[0.8888888888888888,\"#fdca26\"],[1.0,\"#f0f921\"]],\"type\":\"heatmapgl\"}],\"histogram\":[{\"marker\":{\"pattern\":{\"fillmode\":\"overlay\",\"size\":10,\"solidity\":0.2}},\"type\":\"histogram\"}],\"histogram2d\":[{\"colorbar\":{\"outlinewidth\":0,\"ticks\":\"\"},\"colorscale\":[[0.0,\"#0d0887\"],[0.1111111111111111,\"#46039f\"],[0.2222222222222222,\"#7201a8\"],[0.3333333333333333,\"#9c179e\"],[0.4444444444444444,\"#bd3786\"],[0.5555555555555556,\"#d8576b\"],[0.6666666666666666,\"#ed7953\"],[0.7777777777777778,\"#fb9f3a\"],[0.8888888888888888,\"#fdca26\"],[1.0,\"#f0f921\"]],\"type\":\"histogram2d\"}],\"histogram2dcontour\":[{\"colorbar\":{\"outlinewidth\":0,\"ticks\":\"\"},\"colorscale\":[[0.0,\"#0d0887\"],[0.1111111111111111,\"#46039f\"],[0.2222222222222222,\"#7201a8\"],[0.3333333333333333,\"#9c179e\"],[0.4444444444444444,\"#bd3786\"],[0.5555555555555556,\"#d8576b\"],[0.6666666666666666,\"#ed7953\"],[0.7777777777777778,\"#fb9f3a\"],[0.8888888888888888,\"#fdca26\"],[1.0,\"#f0f921\"]],\"type\":\"histogram2dcontour\"}],\"mesh3d\":[{\"colorbar\":{\"outlinewidth\":0,\"ticks\":\"\"},\"type\":\"mesh3d\"}],\"parcoords\":[{\"line\":{\"colorbar\":{\"outlinewidth\":0,\"ticks\":\"\"}},\"type\":\"parcoords\"}],\"pie\":[{\"automargin\":true,\"type\":\"pie\"}],\"scatter\":[{\"marker\":{\"colorbar\":{\"outlinewidth\":0,\"ticks\":\"\"}},\"type\":\"scatter\"}],\"scatter3d\":[{\"line\":{\"colorbar\":{\"outlinewidth\":0,\"ticks\":\"\"}},\"marker\":{\"colorbar\":{\"outlinewidth\":0,\"ticks\":\"\"}},\"type\":\"scatter3d\"}],\"scattercarpet\":[{\"marker\":{\"colorbar\":{\"outlinewidth\":0,\"ticks\":\"\"}},\"type\":\"scattercarpet\"}],\"scattergeo\":[{\"marker\":{\"colorbar\":{\"outlinewidth\":0,\"ticks\":\"\"}},\"type\":\"scattergeo\"}],\"scattergl\":[{\"marker\":{\"colorbar\":{\"outlinewidth\":0,\"ticks\":\"\"}},\"type\":\"scattergl\"}],\"scattermapbox\":[{\"marker\":{\"colorbar\":{\"outlinewidth\":0,\"ticks\":\"\"}},\"type\":\"scattermapbox\"}],\"scatterpolar\":[{\"marker\":{\"colorbar\":{\"outlinewidth\":0,\"ticks\":\"\"}},\"type\":\"scatterpolar\"}],\"scatterpolargl\":[{\"marker\":{\"colorbar\":{\"outlinewidth\":0,\"ticks\":\"\"}},\"type\":\"scatterpolargl\"}],\"scatterternary\":[{\"marker\":{\"colorbar\":{\"outlinewidth\":0,\"ticks\":\"\"}},\"type\":\"scatterternary\"}],\"surface\":[{\"colorbar\":{\"outlinewidth\":0,\"ticks\":\"\"},\"colorscale\":[[0.0,\"#0d0887\"],[0.1111111111111111,\"#46039f\"],[0.2222222222222222,\"#7201a8\"],[0.3333333333333333,\"#9c179e\"],[0.4444444444444444,\"#bd3786\"],[0.5555555555555556,\"#d8576b\"],[0.6666666666666666,\"#ed7953\"],[0.7777777777777778,\"#fb9f3a\"],[0.8888888888888888,\"#fdca26\"],[1.0,\"#f0f921\"]],\"type\":\"surface\"}],\"table\":[{\"cells\":{\"fill\":{\"color\":\"#EBF0F8\"},\"line\":{\"color\":\"white\"}},\"header\":{\"fill\":{\"color\":\"#C8D4E3\"},\"line\":{\"color\":\"white\"}},\"type\":\"table\"}]},\"layout\":{\"annotationdefaults\":{\"arrowcolor\":\"#2a3f5f\",\"arrowhead\":0,\"arrowwidth\":1},\"autotypenumbers\":\"strict\",\"coloraxis\":{\"colorbar\":{\"outlinewidth\":0,\"ticks\":\"\"}},\"colorscale\":{\"diverging\":[[0,\"#8e0152\"],[0.1,\"#c51b7d\"],[0.2,\"#de77ae\"],[0.3,\"#f1b6da\"],[0.4,\"#fde0ef\"],[0.5,\"#f7f7f7\"],[0.6,\"#e6f5d0\"],[0.7,\"#b8e186\"],[0.8,\"#7fbc41\"],[0.9,\"#4d9221\"],[1,\"#276419\"]],\"sequential\":[[0.0,\"#0d0887\"],[0.1111111111111111,\"#46039f\"],[0.2222222222222222,\"#7201a8\"],[0.3333333333333333,\"#9c179e\"],[0.4444444444444444,\"#bd3786\"],[0.5555555555555556,\"#d8576b\"],[0.6666666666666666,\"#ed7953\"],[0.7777777777777778,\"#fb9f3a\"],[0.8888888888888888,\"#fdca26\"],[1.0,\"#f0f921\"]],\"sequentialminus\":[[0.0,\"#0d0887\"],[0.1111111111111111,\"#46039f\"],[0.2222222222222222,\"#7201a8\"],[0.3333333333333333,\"#9c179e\"],[0.4444444444444444,\"#bd3786\"],[0.5555555555555556,\"#d8576b\"],[0.6666666666666666,\"#ed7953\"],[0.7777777777777778,\"#fb9f3a\"],[0.8888888888888888,\"#fdca26\"],[1.0,\"#f0f921\"]]},\"colorway\":[\"#636efa\",\"#EF553B\",\"#00cc96\",\"#ab63fa\",\"#FFA15A\",\"#19d3f3\",\"#FF6692\",\"#B6E880\",\"#FF97FF\",\"#FECB52\"],\"font\":{\"color\":\"#2a3f5f\"},\"geo\":{\"bgcolor\":\"white\",\"lakecolor\":\"white\",\"landcolor\":\"#E5ECF6\",\"showlakes\":true,\"showland\":true,\"subunitcolor\":\"white\"},\"hoverlabel\":{\"align\":\"left\"},\"hovermode\":\"closest\",\"mapbox\":{\"style\":\"light\"},\"paper_bgcolor\":\"white\",\"plot_bgcolor\":\"#E5ECF6\",\"polar\":{\"angularaxis\":{\"gridcolor\":\"white\",\"linecolor\":\"white\",\"ticks\":\"\"},\"bgcolor\":\"#E5ECF6\",\"radialaxis\":{\"gridcolor\":\"white\",\"linecolor\":\"white\",\"ticks\":\"\"}},\"scene\":{\"xaxis\":{\"backgroundcolor\":\"#E5ECF6\",\"gridcolor\":\"white\",\"gridwidth\":2,\"linecolor\":\"white\",\"showbackground\":true,\"ticks\":\"\",\"zerolinecolor\":\"white\"},\"yaxis\":{\"backgroundcolor\":\"#E5ECF6\",\"gridcolor\":\"white\",\"gridwidth\":2,\"linecolor\":\"white\",\"showbackground\":true,\"ticks\":\"\",\"zerolinecolor\":\"white\"},\"zaxis\":{\"backgroundcolor\":\"#E5ECF6\",\"gridcolor\":\"white\",\"gridwidth\":2,\"linecolor\":\"white\",\"showbackground\":true,\"ticks\":\"\",\"zerolinecolor\":\"white\"}},\"shapedefaults\":{\"line\":{\"color\":\"#2a3f5f\"}},\"ternary\":{\"aaxis\":{\"gridcolor\":\"white\",\"linecolor\":\"white\",\"ticks\":\"\"},\"baxis\":{\"gridcolor\":\"white\",\"linecolor\":\"white\",\"ticks\":\"\"},\"bgcolor\":\"#E5ECF6\",\"caxis\":{\"gridcolor\":\"white\",\"linecolor\":\"white\",\"ticks\":\"\"}},\"title\":{\"x\":0.05},\"xaxis\":{\"automargin\":true,\"gridcolor\":\"white\",\"linecolor\":\"white\",\"ticks\":\"\",\"title\":{\"standoff\":15},\"zerolinecolor\":\"white\",\"zerolinewidth\":2},\"yaxis\":{\"automargin\":true,\"gridcolor\":\"white\",\"linecolor\":\"white\",\"ticks\":\"\",\"title\":{\"standoff\":15},\"zerolinecolor\":\"white\",\"zerolinewidth\":2}}},\"xaxis\":{\"anchor\":\"y\",\"domain\":[0.0,0.45],\"title\":{\"text\":\"Epoch\"}},\"yaxis\":{\"anchor\":\"x\",\"domain\":[0.0,1.0],\"title\":{\"text\":\"Accuracy\"}},\"xaxis2\":{\"anchor\":\"y2\",\"domain\":[0.55,1.0],\"title\":{\"text\":\"Epoch\"}},\"yaxis2\":{\"anchor\":\"x2\",\"domain\":[0.0,1.0],\"title\":{\"text\":\"Loss\"}},\"legend\":{\"orientation\":\"h\",\"xanchor\":\"left\",\"yanchor\":\"top\",\"x\":0,\"y\":1.2}},                        {\"responsive\": true}                    ).then(function(){\n",
              "                            \n",
              "var gd = document.getElementById('20fd1d55-baa1-442c-b096-a181f796438a');\n",
              "var x = new MutationObserver(function (mutations, observer) {{\n",
              "        var display = window.getComputedStyle(gd).display;\n",
              "        if (!display || display === 'none') {{\n",
              "            console.log([gd, 'removed!']);\n",
              "            Plotly.purge(gd);\n",
              "            observer.disconnect();\n",
              "        }}\n",
              "}});\n",
              "\n",
              "// Listen for the removal of the full notebook cells\n",
              "var notebookContainer = gd.closest('#notebook-container');\n",
              "if (notebookContainer) {{\n",
              "    x.observe(notebookContainer, {childList: true});\n",
              "}}\n",
              "\n",
              "// Listen for the clearing of the current output cell\n",
              "var outputEl = gd.closest('.output');\n",
              "if (outputEl) {{\n",
              "    x.observe(outputEl, {childList: true});\n",
              "}}\n",
              "\n",
              "                        })                };                            </script>        </div>\n",
              "</body>\n",
              "</html>"
            ]
          },
          "metadata": {}
        }
      ]
    },
    {
      "cell_type": "code",
      "source": [
        "weights, biases = model.layers[1].get_weights()\n",
        "print(f\"\"\"Fully Connected[1]:\n",
        "weights shape: {weights.shape}\n",
        "biases shape: {biases.shape}\n",
        "\"\"\")"
      ],
      "metadata": {
        "id": "KeIUODaweyTv",
        "outputId": "4d2808f0-5ae6-448e-8932-ae18c36148cb",
        "colab": {
          "base_uri": "https://localhost:8080/",
          "height": 0
        }
      },
      "execution_count": 9,
      "outputs": [
        {
          "output_type": "stream",
          "name": "stdout",
          "text": [
            "Fully Connected[1]:\n",
            "weights shape: (784, 350)\n",
            "biases shape: (350,)\n",
            "\n"
          ]
        }
      ]
    },
    {
      "cell_type": "code",
      "source": [
        "model.evaluate(X['test'],y['test'])"
      ],
      "metadata": {
        "id": "oGsZtXknfDqO",
        "outputId": "ec8eb859-8894-49f9-f0bd-164e0c66a377",
        "colab": {
          "base_uri": "https://localhost:8080/",
          "height": 0
        }
      },
      "execution_count": 91,
      "outputs": [
        {
          "output_type": "stream",
          "name": "stdout",
          "text": [
            "313/313 [==============================] - 1s 4ms/step - loss: 0.3698 - accuracy: 0.8737\n",
            "[0.36975473165512085, 0.8737000226974487]\n"
          ]
        }
      ]
    },
    {
      "cell_type": "code",
      "source": [
        "k = 2\n",
        "X_new = np.expand_dims(X['test'][k],axis=0)\n",
        "print(X_new.shape)\n",
        "predictions = np.argmax(model.predict(X_new),axis=-1)\n",
        "for i in range(1):\n",
        "    print(f\"\"\"Predicted label: {class_names[predictions[i]]}\n",
        "    Actual label: {class_names[y['test'][k]]}\"\"\")"
      ],
      "metadata": {
        "id": "kYXS937FzCJs",
        "colab": {
          "base_uri": "https://localhost:8080/",
          "height": 0
        },
        "outputId": "5b3e7eb5-81d5-4484-83d9-8f9d26bd5bd9"
      },
      "execution_count": 167,
      "outputs": [
        {
          "output_type": "stream",
          "name": "stdout",
          "text": [
            "(1, 28, 28)\n",
            "Predicted label: Trouser\n",
            "    Actual label: Trouser\n"
          ]
        }
      ]
    },
    {
      "cell_type": "code",
      "source": [
        "plot_random_items(split = 'test', model = model, cmap='viridis')"
      ],
      "metadata": {
        "colab": {
          "base_uri": "https://localhost:8080/",
          "height": 620
        },
        "id": "NTV2c0I_xxh9",
        "outputId": "c3932b6f-1baa-41e3-aacc-3fe700c3b6fc"
      },
      "execution_count": 187,
      "outputs": [
        {
          "output_type": "display_data",
          "data": {
            "image/png": "[encoded data removed]",
            "text/plain": [
              "<Figure size 720x720 with 9 Axes>"
            ]
          },
          "metadata": {
            "needs_background": "light"
          }
        }
      ]
    },
    {
      "cell_type": "markdown",
      "source": [
        "# Housing Regression"
      ],
      "metadata": {
        "id": "n0i5iKoxCl32"
      }
    },
    {
      "cell_type": "markdown",
      "source": [
        "## Data"
      ],
      "metadata": {
        "id": "fkhOFJvpLuIA"
      }
    },
    {
      "cell_type": "code",
      "source": [
        "housing = fetch_california_housing()\n",
        "housing.data.shape"
      ],
      "metadata": {
        "colab": {
          "base_uri": "https://localhost:8080/",
          "height": 0
        },
        "id": "Bm5CUWaa9uRL",
        "outputId": "d54956ad-18f0-490e-bbdb-133eba91d7cd"
      },
      "execution_count": 191,
      "outputs": [
        {
          "output_type": "execute_result",
          "data": {
            "text/plain": [
              "(20640, 8)"
            ]
          },
          "metadata": {},
          "execution_count": 191
        }
      ]
    },
    {
      "cell_type": "code",
      "source": [
        "X['train'], X['test'], y['train'], y['test'] = train_test_split(housing['data'], housing['target'], test_size=0.3, shuffle=True)\n",
        "X['train'].shape[0], X['test'].shape[0]"
      ],
      "metadata": {
        "id": "DyafDc7zD8qy",
        "outputId": "35aebadc-fd90-4199-987d-cde98f6f30e5",
        "colab": {
          "base_uri": "https://localhost:8080/"
        }
      },
      "execution_count": 210,
      "outputs": [
        {
          "output_type": "execute_result",
          "data": {
            "text/plain": [
              "(14448, 6192)"
            ]
          },
          "metadata": {},
          "execution_count": 210
        }
      ]
    },
    {
      "cell_type": "code",
      "source": [
        "print(housing['frame'])"
      ],
      "metadata": {
        "id": "8y1lUYLMEBkb",
        "outputId": "7ccdcc1d-f2fd-4137-d7a8-6ee66fad6783",
        "colab": {
          "base_uri": "https://localhost:8080/",
          "height": 0
        }
      },
      "execution_count": 201,
      "outputs": [
        {
          "output_type": "stream",
          "name": "stdout",
          "text": [
            "[[   8.3252       41.            6.98412698 ...    2.55555556\n",
            "    37.88       -122.23      ]\n",
            " [   8.3014       21.            6.23813708 ...    2.10984183\n",
            "    37.86       -122.22      ]\n",
            " [   7.2574       52.            8.28813559 ...    2.80225989\n",
            "    37.85       -122.24      ]\n",
            " ...\n",
            " [   1.7          17.            5.20554273 ...    2.3256351\n",
            "    39.43       -121.22      ]\n",
            " [   1.8672       18.            5.32951289 ...    2.12320917\n",
            "    39.43       -121.32      ]\n",
            " [   2.3886       16.            5.25471698 ...    2.61698113\n",
            "    39.37       -121.24      ]]\n"
          ]
        }
      ]
    },
    {
      "cell_type": "code",
      "source": [
        "scaler = StandardScaler()\n",
        "X['train'] = scaler.fit_transform(X['train'])\n",
        "X['test'] = scaler.transform(X['test'])"
      ],
      "metadata": {
        "id": "iPx2iDK6EHPy"
      },
      "execution_count": 215,
      "outputs": []
    },
    {
      "cell_type": "markdown",
      "source": [
        "## Model"
      ],
      "metadata": {
        "id": "TJo6unMXLzRu"
      }
    },
    {
      "cell_type": "code",
      "source": [
        "n_features = housing['data'].shape[1:]\n",
        "model = keras.models.Sequential([\n",
        "                                 keras.layers.Dense(50,input_shape=n_features, activation='relu'),\n",
        "                                 keras.layers.Dropout(.2),\n",
        "                                 keras.layers.Dense(25,input_shape=n_features, activation='relu'),\n",
        "                                 keras.layers.Dense(1)\n",
        "])\n",
        "\n",
        "model.compile(loss='mean_squared_error', optimizer = keras.optimizers.Adam(learning_rate=1e-3))\n",
        "#plot_model(model,show_shapes=True)\n",
        "model.summary()"
      ],
      "metadata": {
        "id": "xSQTey5SH56-",
        "outputId": "4bea07bd-7c8d-4cb5-b899-1fb64dbe7d51",
        "colab": {
          "base_uri": "https://localhost:8080/"
        }
      },
      "execution_count": 243,
      "outputs": [
        {
          "output_type": "stream",
          "name": "stdout",
          "text": [
            "Model: \"sequential_8\"\n",
            "_________________________________________________________________\n",
            " Layer (type)                Output Shape              Param #   \n",
            "=================================================================\n",
            " dense_21 (Dense)            (None, 50)                450       \n",
            "                                                                 \n",
            " dropout_2 (Dropout)         (None, 50)                0         \n",
            "                                                                 \n",
            " dense_22 (Dense)            (None, 25)                1275      \n",
            "                                                                 \n",
            " dense_23 (Dense)            (None, 1)                 26        \n",
            "                                                                 \n",
            "=================================================================\n",
            "Total params: 1,751\n",
            "Trainable params: 1,751\n",
            "Non-trainable params: 0\n",
            "_________________________________________________________________\n"
          ]
        }
      ]
    },
    {
      "cell_type": "code",
      "source": [
        "history = model.fit(X['train'],y['train'],\n",
        "          validation_split = 0.7,\n",
        "          epochs = 100,\n",
        "          batch_size=128,\n",
        "          callbacks=[tf.keras.callbacks.EarlyStopping(restore_best_weights=True,patience=10)])"
      ],
      "metadata": {
        "id": "jZKCzXJHJJgI"
      },
      "execution_count": null,
      "outputs": []
    },
    {
      "cell_type": "code",
      "source": [
        "def plot_regr_loss(history):\n",
        "    fig = make_subplots(\n",
        "                        rows=1,cols=1,\n",
        "                        subplot_titles=['Loss']\n",
        "                        )\n",
        "    x_s = np.arange(1, len(history.history['loss']) + 1)\n",
        "\n",
        "    fig.append_trace(go.Scatter(\n",
        "                            x = x_s,\n",
        "                            y=history.history['loss'],\n",
        "                            name='train',\n",
        "                            mode='lines+markers'), row=1,col=1)\n",
        "    fig.add_trace(go.Scatter(\n",
        "                            x = x_s,\n",
        "                            y=history.history['val_loss'],\n",
        "                            name='val',\n",
        "                            mode='lines+markers'), row=1,col=1)\n",
        "\n",
        "    fig.update_xaxes(title_text='Epoch')\n",
        "    fig.update_yaxes(title_text='Loss',row=1,col=1)\n",
        "    # fig.update_layout(legend = {'orientation':'h',\n",
        "    #                             'xanchor':'left',\n",
        "    #                             'yanchor':'top',\n",
        "    #                             'x':0,\n",
        "    #                             'y':1.2},)\n",
        "    return fig\n",
        "\n",
        "plot_regr_loss(history)"
      ],
      "metadata": {
        "id": "pAGwk6UPKbt_"
      },
      "execution_count": null,
      "outputs": []
    },
    {
      "cell_type": "code",
      "source": [
        "model.evaluate(X['train'],batch_size=16)"
      ],
      "metadata": {
        "id": "Mp2w6oQAKkdD",
        "outputId": "eab263cc-ea05-4947-8488-6ff6cc9673ef",
        "colab": {
          "base_uri": "https://localhost:8080/"
        }
      },
      "execution_count": 248,
      "outputs": [
        {
          "output_type": "stream",
          "name": "stdout",
          "text": [
            "903/903 [==============================] - 2s 2ms/step - loss: 0.0000e+00\n"
          ]
        },
        {
          "output_type": "execute_result",
          "data": {
            "text/plain": [
              "0.0"
            ]
          },
          "metadata": {},
          "execution_count": 248
        }
      ]
    },
    {
      "cell_type": "markdown",
      "source": [
        "## Regression with Functional API"
      ],
      "metadata": {
        "id": "SadZoeUQaVlu"
      }
    },
    {
      "cell_type": "markdown",
      "source": [
        "# <h3>Wide & Deep</h3>"
      ],
      "metadata": {
        "id": "ArLZn_Zdj2BA"
      }
    },
    {
      "cell_type": "code",
      "source": [
        "num_hiddens = 3\n",
        "input_layer = keras.layers.Input(shape=X['train'].shape[1:])\n",
        "hidden_layer = keras.layers.Dense(30,activation='relu')(input_layer)\n",
        "\n",
        "for i in range(1, num_hiddens):\n",
        "    hidden_layer = keras.layers.Dense(30,activation='relu')(hidden_layer)\n",
        "    hidden_layer = keras.layers.Dropout(0.2)(hidden_layer)\n",
        "\n",
        "output_layer = keras.layers.Dense(1)(\n",
        "    keras.layers.concatenate([input_layer, hidden_layer])\n",
        ")\n",
        "\n",
        "model = keras.models.Model(inputs=[input_layer],\n",
        "                           outputs=[output_layer])\n",
        "\n",
        "model.summary()"
      ],
      "metadata": {
        "id": "qDdg35K7acff",
        "outputId": "2eb6bab3-c22b-493e-d12a-17b4efdbb863",
        "colab": {
          "base_uri": "https://localhost:8080/"
        }
      },
      "execution_count": 262,
      "outputs": [
        {
          "output_type": "stream",
          "name": "stdout",
          "text": [
            "Model: \"model_6\"\n",
            "__________________________________________________________________________________________________\n",
            " Layer (type)                   Output Shape         Param #     Connected to                     \n",
            "==================================================================================================\n",
            " input_12 (InputLayer)          [(None, 8)]          0           []                               \n",
            "                                                                                                  \n",
            " dense_46 (Dense)               (None, 30)           270         ['input_12[0][0]']               \n",
            "                                                                                                  \n",
            " dense_47 (Dense)               (None, 30)           930         ['dense_46[0][0]']               \n",
            "                                                                                                  \n",
            " dropout_4 (Dropout)            (None, 30)           0           ['dense_47[0][0]']               \n",
            "                                                                                                  \n",
            " dense_48 (Dense)               (None, 30)           930         ['dropout_4[0][0]']              \n",
            "                                                                                                  \n",
            " dropout_5 (Dropout)            (None, 30)           0           ['dense_48[0][0]']               \n",
            "                                                                                                  \n",
            " concatenate_7 (Concatenate)    (None, 38)           0           ['input_12[0][0]',               \n",
            "                                                                  'dropout_5[0][0]']              \n",
            "                                                                                                  \n",
            " dense_49 (Dense)               (None, 1)            39          ['concatenate_7[0][0]']          \n",
            "                                                                                                  \n",
            "==================================================================================================\n",
            "Total params: 2,169\n",
            "Trainable params: 2,169\n",
            "Non-trainable params: 0\n",
            "__________________________________________________________________________________________________\n"
          ]
        }
      ]
    },
    {
      "cell_type": "code",
      "source": [
        "model.compile(loss=\"mean_squared_error\",\n",
        "              optimizer=keras.optimizers.Adam(learning_rate=1e-3))\n",
        "\n",
        "history = model.fit(X['train'],y['train'],\n",
        "          validation_split = 0.3,\n",
        "          epochs = 100,\n",
        "          batch_size=128,\n",
        "          callbacks=[tf.keras.callbacks.EarlyStopping(restore_best_weights=True,patience=10)])"
      ],
      "metadata": {
        "id": "NlJQynKdc1E-"
      },
      "execution_count": null,
      "outputs": []
    },
    {
      "cell_type": "code",
      "source": [
        "plot_regr_loss(history)"
      ],
      "metadata": {
        "id": "IpLCbt7qgNE5",
        "outputId": "74079c54-0988-4f37-94f8-2c0b1f3e21a6",
        "colab": {
          "base_uri": "https://localhost:8080/",
          "height": 542
        }
      },
      "execution_count": 272,
      "outputs": [
        {
          "output_type": "display_data",
          "data": {
            "text/html": [
              "<html>\n",
              "<head><meta charset=\"utf-8\" /></head>\n",
              "<body>\n",
              "    <div>            <script src=\"https://cdnjs.cloudflare.com/ajax/libs/mathjax/2.7.5/MathJax.js?config=TeX-AMS-MML_SVG\"></script><script type=\"text/javascript\">if (window.MathJax) {MathJax.Hub.Config({SVG: {font: \"STIX-Web\"}});}</script>                <script type=\"text/javascript\">window.PlotlyConfig = {MathJaxConfig: 'local'};</script>\n",
              "        <script src=\"https://cdn.plot.ly/plotly-2.8.3.min.js\"></script>                <div id=\"a185a83a-8d41-406f-895a-c7468e10ea44\" class=\"plotly-graph-div\" style=\"height:525px; width:100%;\"></div>            <script type=\"text/javascript\">                                    window.PLOTLYENV=window.PLOTLYENV || {};                                    if (document.getElementById(\"a185a83a-8d41-406f-895a-c7468e10ea44\")) {                    Plotly.newPlot(                        \"a185a83a-8d41-406f-895a-c7468e10ea44\",                        [{\"mode\":\"lines+markers\",\"name\":\"train\",\"x\":[1,2,3,4,5,6,7,8,9,10,11,12,13,14,15,16,17,18,19,20,21,22,23,24,25,26,27,28,29,30,31,32,33,34,35,36,37,38,39,40,41,42,43,44,45,46,47,48,49,50,51,52,53,54,55,56,57,58,59,60,61,62,63,64,65,66,67,68,69,70,71,72,73,74,75,76,77],\"y\":[3.8445489406585693,1.6767606735229492,1.1608425378799438,0.9676605463027954,0.8982316851615906,0.7941312789916992,0.7565621733665466,0.6711276769638062,0.6822049617767334,0.606933057308197,0.62352454662323,0.5999193787574768,0.5968716144561768,0.555141806602478,0.5672129988670349,0.543359637260437,0.5482724905014038,0.5277311205863953,0.5194384455680847,0.5261644124984741,0.4975144863128662,0.4985494613647461,0.49595826864242554,0.4658568799495697,0.49564680457115173,0.4701685905456543,0.47547125816345215,0.4615950286388397,0.4809822738170624,0.4510379731655121,0.4721471667289734,0.4646559953689575,0.4505022466182709,0.44897907972335815,0.43671488761901855,0.4483173191547394,0.44797009229660034,0.4525130093097687,0.4334658980369568,0.4334595501422882,0.41496166586875916,0.4253327250480652,0.4296026825904846,0.42353957891464233,0.41754570603370667,0.4156757891178131,0.41074636578559875,0.4158919155597687,0.4148477613925934,0.4118311405181885,0.41353848576545715,0.410827100276947,0.39881631731987,0.3864654302597046,0.39901086688041687,0.4003804326057434,0.40249526500701904,0.3926089406013489,0.39816227555274963,0.3796384632587433,0.3876115679740906,0.38009729981422424,0.379530668258667,0.38553786277770996,0.3650108873844147,0.3849346339702606,0.37694650888442993,0.36395329236984253,0.37067440152168274,0.3840435743331909,0.3676484227180481,0.3841271698474884,0.3669615685939789,0.3646232783794403,0.3647575080394745,0.37116432189941406,0.3767853081226349],\"type\":\"scatter\",\"xaxis\":\"x\",\"yaxis\":\"y\"},{\"mode\":\"lines+markers\",\"name\":\"val\",\"x\":[1,2,3,4,5,6,7,8,9,10,11,12,13,14,15,16,17,18,19,20,21,22,23,24,25,26,27,28,29,30,31,32,33,34,35,36,37,38,39,40,41,42,43,44,45,46,47,48,49,50,51,52,53,54,55,56,57,58,59,60,61,62,63,64,65,66,67,68,69,70,71,72,73,74,75,76,77],\"y\":[2.2080042362213135,1.0679224729537964,0.7907237410545349,0.7274003028869629,0.6481040120124817,0.5656588077545166,0.5079770684242249,0.4711393117904663,0.46086224913597107,0.43422889709472656,0.4179951548576355,0.40032780170440674,0.4082176089286804,0.38377949595451355,0.381765753030777,0.3853122889995575,0.3864012360572815,0.3902963101863861,0.37331342697143555,0.37298494577407837,0.3760700225830078,0.36832329630851746,0.36489245295524597,0.37068748474121094,0.37267470359802246,0.3597520589828491,0.35669785737991333,0.36001941561698914,0.35930025577545166,0.36104732751846313,0.372467577457428,0.36933809518814087,0.3595183491706848,0.361686646938324,0.3634834885597229,0.3647821843624115,0.3518781065940857,0.35178712010383606,0.34641221165657043,0.3504759967327118,0.3456727862358093,0.34187325835227966,0.32934072613716125,0.3360655903816223,0.33148935437202454,0.32984960079193115,0.32557588815689087,0.3332194983959198,0.3294081687927246,0.3286949694156647,0.33471444249153137,0.34474286437034607,0.34425655007362366,0.3431013822555542,0.335606187582016,0.3266431391239166,0.32144156098365784,0.31755053997039795,0.31885796785354614,0.3213685154914856,0.3197706341743469,0.3170243799686432,0.31510990858078003,0.3121418356895447,0.3164147138595581,0.31298336386680603,0.306460440158844,0.30999788641929626,0.3108982741832733,0.3093017339706421,0.30735647678375244,0.3263828754425049,0.3100470006465912,0.3069241940975189,0.310240238904953,0.30836689472198486,0.3101341724395752],\"type\":\"scatter\",\"xaxis\":\"x\",\"yaxis\":\"y\"}],                        {\"template\":{\"data\":{\"bar\":[{\"error_x\":{\"color\":\"#2a3f5f\"},\"error_y\":{\"color\":\"#2a3f5f\"},\"marker\":{\"line\":{\"color\":\"#E5ECF6\",\"width\":0.5},\"pattern\":{\"fillmode\":\"overlay\",\"size\":10,\"solidity\":0.2}},\"type\":\"bar\"}],\"barpolar\":[{\"marker\":{\"line\":{\"color\":\"#E5ECF6\",\"width\":0.5},\"pattern\":{\"fillmode\":\"overlay\",\"size\":10,\"solidity\":0.2}},\"type\":\"barpolar\"}],\"carpet\":[{\"aaxis\":{\"endlinecolor\":\"#2a3f5f\",\"gridcolor\":\"white\",\"linecolor\":\"white\",\"minorgridcolor\":\"white\",\"startlinecolor\":\"#2a3f5f\"},\"baxis\":{\"endlinecolor\":\"#2a3f5f\",\"gridcolor\":\"white\",\"linecolor\":\"white\",\"minorgridcolor\":\"white\",\"startlinecolor\":\"#2a3f5f\"},\"type\":\"carpet\"}],\"choropleth\":[{\"colorbar\":{\"outlinewidth\":0,\"ticks\":\"\"},\"type\":\"choropleth\"}],\"contour\":[{\"colorbar\":{\"outlinewidth\":0,\"ticks\":\"\"},\"colorscale\":[[0.0,\"#0d0887\"],[0.1111111111111111,\"#46039f\"],[0.2222222222222222,\"#7201a8\"],[0.3333333333333333,\"#9c179e\"],[0.4444444444444444,\"#bd3786\"],[0.5555555555555556,\"#d8576b\"],[0.6666666666666666,\"#ed7953\"],[0.7777777777777778,\"#fb9f3a\"],[0.8888888888888888,\"#fdca26\"],[1.0,\"#f0f921\"]],\"type\":\"contour\"}],\"contourcarpet\":[{\"colorbar\":{\"outlinewidth\":0,\"ticks\":\"\"},\"type\":\"contourcarpet\"}],\"heatmap\":[{\"colorbar\":{\"outlinewidth\":0,\"ticks\":\"\"},\"colorscale\":[[0.0,\"#0d0887\"],[0.1111111111111111,\"#46039f\"],[0.2222222222222222,\"#7201a8\"],[0.3333333333333333,\"#9c179e\"],[0.4444444444444444,\"#bd3786\"],[0.5555555555555556,\"#d8576b\"],[0.6666666666666666,\"#ed7953\"],[0.7777777777777778,\"#fb9f3a\"],[0.8888888888888888,\"#fdca26\"],[1.0,\"#f0f921\"]],\"type\":\"heatmap\"}],\"heatmapgl\":[{\"colorbar\":{\"outlinewidth\":0,\"ticks\":\"\"},\"colorscale\":[[0.0,\"#0d0887\"],[0.1111111111111111,\"#46039f\"],[0.2222222222222222,\"#7201a8\"],[0.3333333333333333,\"#9c179e\"],[0.4444444444444444,\"#bd3786\"],[0.5555555555555556,\"#d8576b\"],[0.6666666666666666,\"#ed7953\"],[0.7777777777777778,\"#fb9f3a\"],[0.8888888888888888,\"#fdca26\"],[1.0,\"#f0f921\"]],\"type\":\"heatmapgl\"}],\"histogram\":[{\"marker\":{\"pattern\":{\"fillmode\":\"overlay\",\"size\":10,\"solidity\":0.2}},\"type\":\"histogram\"}],\"histogram2d\":[{\"colorbar\":{\"outlinewidth\":0,\"ticks\":\"\"},\"colorscale\":[[0.0,\"#0d0887\"],[0.1111111111111111,\"#46039f\"],[0.2222222222222222,\"#7201a8\"],[0.3333333333333333,\"#9c179e\"],[0.4444444444444444,\"#bd3786\"],[0.5555555555555556,\"#d8576b\"],[0.6666666666666666,\"#ed7953\"],[0.7777777777777778,\"#fb9f3a\"],[0.8888888888888888,\"#fdca26\"],[1.0,\"#f0f921\"]],\"type\":\"histogram2d\"}],\"histogram2dcontour\":[{\"colorbar\":{\"outlinewidth\":0,\"ticks\":\"\"},\"colorscale\":[[0.0,\"#0d0887\"],[0.1111111111111111,\"#46039f\"],[0.2222222222222222,\"#7201a8\"],[0.3333333333333333,\"#9c179e\"],[0.4444444444444444,\"#bd3786\"],[0.5555555555555556,\"#d8576b\"],[0.6666666666666666,\"#ed7953\"],[0.7777777777777778,\"#fb9f3a\"],[0.8888888888888888,\"#fdca26\"],[1.0,\"#f0f921\"]],\"type\":\"histogram2dcontour\"}],\"mesh3d\":[{\"colorbar\":{\"outlinewidth\":0,\"ticks\":\"\"},\"type\":\"mesh3d\"}],\"parcoords\":[{\"line\":{\"colorbar\":{\"outlinewidth\":0,\"ticks\":\"\"}},\"type\":\"parcoords\"}],\"pie\":[{\"automargin\":true,\"type\":\"pie\"}],\"scatter\":[{\"marker\":{\"colorbar\":{\"outlinewidth\":0,\"ticks\":\"\"}},\"type\":\"scatter\"}],\"scatter3d\":[{\"line\":{\"colorbar\":{\"outlinewidth\":0,\"ticks\":\"\"}},\"marker\":{\"colorbar\":{\"outlinewidth\":0,\"ticks\":\"\"}},\"type\":\"scatter3d\"}],\"scattercarpet\":[{\"marker\":{\"colorbar\":{\"outlinewidth\":0,\"ticks\":\"\"}},\"type\":\"scattercarpet\"}],\"scattergeo\":[{\"marker\":{\"colorbar\":{\"outlinewidth\":0,\"ticks\":\"\"}},\"type\":\"scattergeo\"}],\"scattergl\":[{\"marker\":{\"colorbar\":{\"outlinewidth\":0,\"ticks\":\"\"}},\"type\":\"scattergl\"}],\"scattermapbox\":[{\"marker\":{\"colorbar\":{\"outlinewidth\":0,\"ticks\":\"\"}},\"type\":\"scattermapbox\"}],\"scatterpolar\":[{\"marker\":{\"colorbar\":{\"outlinewidth\":0,\"ticks\":\"\"}},\"type\":\"scatterpolar\"}],\"scatterpolargl\":[{\"marker\":{\"colorbar\":{\"outlinewidth\":0,\"ticks\":\"\"}},\"type\":\"scatterpolargl\"}],\"scatterternary\":[{\"marker\":{\"colorbar\":{\"outlinewidth\":0,\"ticks\":\"\"}},\"type\":\"scatterternary\"}],\"surface\":[{\"colorbar\":{\"outlinewidth\":0,\"ticks\":\"\"},\"colorscale\":[[0.0,\"#0d0887\"],[0.1111111111111111,\"#46039f\"],[0.2222222222222222,\"#7201a8\"],[0.3333333333333333,\"#9c179e\"],[0.4444444444444444,\"#bd3786\"],[0.5555555555555556,\"#d8576b\"],[0.6666666666666666,\"#ed7953\"],[0.7777777777777778,\"#fb9f3a\"],[0.8888888888888888,\"#fdca26\"],[1.0,\"#f0f921\"]],\"type\":\"surface\"}],\"table\":[{\"cells\":{\"fill\":{\"color\":\"#EBF0F8\"},\"line\":{\"color\":\"white\"}},\"header\":{\"fill\":{\"color\":\"#C8D4E3\"},\"line\":{\"color\":\"white\"}},\"type\":\"table\"}]},\"layout\":{\"annotationdefaults\":{\"arrowcolor\":\"#2a3f5f\",\"arrowhead\":0,\"arrowwidth\":1},\"autotypenumbers\":\"strict\",\"coloraxis\":{\"colorbar\":{\"outlinewidth\":0,\"ticks\":\"\"}},\"colorscale\":{\"diverging\":[[0,\"#8e0152\"],[0.1,\"#c51b7d\"],[0.2,\"#de77ae\"],[0.3,\"#f1b6da\"],[0.4,\"#fde0ef\"],[0.5,\"#f7f7f7\"],[0.6,\"#e6f5d0\"],[0.7,\"#b8e186\"],[0.8,\"#7fbc41\"],[0.9,\"#4d9221\"],[1,\"#276419\"]],\"sequential\":[[0.0,\"#0d0887\"],[0.1111111111111111,\"#46039f\"],[0.2222222222222222,\"#7201a8\"],[0.3333333333333333,\"#9c179e\"],[0.4444444444444444,\"#bd3786\"],[0.5555555555555556,\"#d8576b\"],[0.6666666666666666,\"#ed7953\"],[0.7777777777777778,\"#fb9f3a\"],[0.8888888888888888,\"#fdca26\"],[1.0,\"#f0f921\"]],\"sequentialminus\":[[0.0,\"#0d0887\"],[0.1111111111111111,\"#46039f\"],[0.2222222222222222,\"#7201a8\"],[0.3333333333333333,\"#9c179e\"],[0.4444444444444444,\"#bd3786\"],[0.5555555555555556,\"#d8576b\"],[0.6666666666666666,\"#ed7953\"],[0.7777777777777778,\"#fb9f3a\"],[0.8888888888888888,\"#fdca26\"],[1.0,\"#f0f921\"]]},\"colorway\":[\"#636efa\",\"#EF553B\",\"#00cc96\",\"#ab63fa\",\"#FFA15A\",\"#19d3f3\",\"#FF6692\",\"#B6E880\",\"#FF97FF\",\"#FECB52\"],\"font\":{\"color\":\"#2a3f5f\"},\"geo\":{\"bgcolor\":\"white\",\"lakecolor\":\"white\",\"landcolor\":\"#E5ECF6\",\"showlakes\":true,\"showland\":true,\"subunitcolor\":\"white\"},\"hoverlabel\":{\"align\":\"left\"},\"hovermode\":\"closest\",\"mapbox\":{\"style\":\"light\"},\"paper_bgcolor\":\"white\",\"plot_bgcolor\":\"#E5ECF6\",\"polar\":{\"angularaxis\":{\"gridcolor\":\"white\",\"linecolor\":\"white\",\"ticks\":\"\"},\"bgcolor\":\"#E5ECF6\",\"radialaxis\":{\"gridcolor\":\"white\",\"linecolor\":\"white\",\"ticks\":\"\"}},\"scene\":{\"xaxis\":{\"backgroundcolor\":\"#E5ECF6\",\"gridcolor\":\"white\",\"gridwidth\":2,\"linecolor\":\"white\",\"showbackground\":true,\"ticks\":\"\",\"zerolinecolor\":\"white\"},\"yaxis\":{\"backgroundcolor\":\"#E5ECF6\",\"gridcolor\":\"white\",\"gridwidth\":2,\"linecolor\":\"white\",\"showbackground\":true,\"ticks\":\"\",\"zerolinecolor\":\"white\"},\"zaxis\":{\"backgroundcolor\":\"#E5ECF6\",\"gridcolor\":\"white\",\"gridwidth\":2,\"linecolor\":\"white\",\"showbackground\":true,\"ticks\":\"\",\"zerolinecolor\":\"white\"}},\"shapedefaults\":{\"line\":{\"color\":\"#2a3f5f\"}},\"ternary\":{\"aaxis\":{\"gridcolor\":\"white\",\"linecolor\":\"white\",\"ticks\":\"\"},\"baxis\":{\"gridcolor\":\"white\",\"linecolor\":\"white\",\"ticks\":\"\"},\"bgcolor\":\"#E5ECF6\",\"caxis\":{\"gridcolor\":\"white\",\"linecolor\":\"white\",\"ticks\":\"\"}},\"title\":{\"x\":0.05},\"xaxis\":{\"automargin\":true,\"gridcolor\":\"white\",\"linecolor\":\"white\",\"ticks\":\"\",\"title\":{\"standoff\":15},\"zerolinecolor\":\"white\",\"zerolinewidth\":2},\"yaxis\":{\"automargin\":true,\"gridcolor\":\"white\",\"linecolor\":\"white\",\"ticks\":\"\",\"title\":{\"standoff\":15},\"zerolinecolor\":\"white\",\"zerolinewidth\":2}}},\"xaxis\":{\"anchor\":\"y\",\"domain\":[0.0,1.0],\"title\":{\"text\":\"Epoch\"}},\"yaxis\":{\"anchor\":\"x\",\"domain\":[0.0,1.0],\"title\":{\"text\":\"Loss\"}},\"annotations\":[{\"font\":{\"size\":16},\"showarrow\":false,\"text\":\"Loss\",\"x\":0.5,\"xanchor\":\"center\",\"xref\":\"paper\",\"y\":1.0,\"yanchor\":\"bottom\",\"yref\":\"paper\"}]},                        {\"responsive\": true}                    ).then(function(){\n",
              "                            \n",
              "var gd = document.getElementById('a185a83a-8d41-406f-895a-c7468e10ea44');\n",
              "var x = new MutationObserver(function (mutations, observer) {{\n",
              "        var display = window.getComputedStyle(gd).display;\n",
              "        if (!display || display === 'none') {{\n",
              "            console.log([gd, 'removed!']);\n",
              "            Plotly.purge(gd);\n",
              "            observer.disconnect();\n",
              "        }}\n",
              "}});\n",
              "\n",
              "// Listen for the removal of the full notebook cells\n",
              "var notebookContainer = gd.closest('#notebook-container');\n",
              "if (notebookContainer) {{\n",
              "    x.observe(notebookContainer, {childList: true});\n",
              "}}\n",
              "\n",
              "// Listen for the clearing of the current output cell\n",
              "var outputEl = gd.closest('.output');\n",
              "if (outputEl) {{\n",
              "    x.observe(outputEl, {childList: true});\n",
              "}}\n",
              "\n",
              "                        })                };                            </script>        </div>\n",
              "</body>\n",
              "</html>"
            ]
          },
          "metadata": {}
        }
      ]
    },
    {
      "cell_type": "markdown",
      "source": [
        "# <h3>Wide & Deep with 2 inputs, 2 outputs</h3>"
      ],
      "metadata": {
        "id": "nZ8FttojkFYc"
      }
    },
    {
      "cell_type": "code",
      "source": [
        "num_hiddens = 4\n",
        "\n",
        "wide_input_layer = keras.layers.Input(shape = [5], name = 'wide_input') # 5 - for example\n",
        "deep_input_layer = keras.layers.Input(shape=[6], name = 'deep_input')\n",
        "\n",
        "hidden_layer = keras.layers.Dense(30, activation = 'relu', name = f'hidden_1')(deep_input_layer)\n",
        "\n",
        "for i in range(1, num_hiddens):\n",
        "    hidden_layer = keras.layers.Dense(30, activation='relu', name = f'hidden_{i+1}')(hidden_layer)\n",
        "    hidden_layer = keras.layers.Dropout(0.2, name = f'dropout_{i}')(hidden_layer)\n",
        "\n",
        "concat_layer = keras.layers.concatenate([wide_input_layer,deep_input_layer,hidden_layer])\n",
        "output_layers = keras.layers.Dense(1, name = 'main_output')(concat_layer), keras.layers.Dense(1, name = 'auxiliary_output')(hidden_layer)\n",
        "\n",
        "model = keras.models.Model(inputs = [wide_input_layer, deep_input_layer],\n",
        "                           outputs = output_layers)\n",
        "\n",
        "model.compile(loss=['mae','mse'],\n",
        "              loss_weights = [0.5,0.6],\n",
        "              optimizer = keras.optimizers.Adam(learning_rate=1e-3))\n",
        "\n",
        "plot_model(model, show_shapes = True)"
      ],
      "metadata": {
        "id": "HShy_E10kMsm"
      },
      "execution_count": null,
      "outputs": []
    },
    {
      "cell_type": "code",
      "source": [
        "X['test'][:1,-6:]"
      ],
      "metadata": {
        "id": "_tCaqrltkSMt",
        "outputId": "a7e8807b-f50d-4391-ce27-12208d8bd477",
        "colab": {
          "base_uri": "https://localhost:8080/"
        }
      },
      "execution_count": 294,
      "outputs": [
        {
          "output_type": "execute_result",
          "data": {
            "text/plain": [
              "array([[ 0.86386732, -0.19076355,  0.54835782,  0.04789818, -0.86984743,\n",
              "         0.87705504]])"
            ]
          },
          "metadata": {},
          "execution_count": 294
        }
      ]
    },
    {
      "cell_type": "code",
      "source": [
        "history = model.fit(\n",
        "    [X['train'][:,:5], X['train'][:,-6:]],\n",
        "    [y['train'], y['train']],\n",
        "    validation_split = 0.3,\n",
        "    epochs = 100,\n",
        "    batch_size = 64,\n",
        "    callbacks = [tf.keras.callbacks.EarlyStopping(restore_best_weights=True,patience=10)])"
      ],
      "metadata": {
        "id": "sNvHRZjkuTs5",
        "outputId": "27280992-2cc5-4b89-e8fb-a8bd371e62d1",
        "colab": {
          "base_uri": "https://localhost:8080/"
        }
      },
      "execution_count": 316,
      "outputs": [
        {
          "output_type": "stream",
          "name": "stdout",
          "text": [
            "Epoch 1/100\n",
            "159/159 [==============================] - 1s 5ms/step - loss: 0.4911 - main_output_loss: 0.4219 - auxiliary_output_loss: 0.4669 - val_loss: 0.4338 - val_main_output_loss: 0.4008 - val_auxiliary_output_loss: 0.3890\n",
            "Epoch 2/100\n",
            "159/159 [==============================] - 1s 5ms/step - loss: 0.4848 - main_output_loss: 0.4207 - auxiliary_output_loss: 0.4574 - val_loss: 0.4524 - val_main_output_loss: 0.4099 - val_auxiliary_output_loss: 0.4125\n",
            "Epoch 3/100\n",
            "159/159 [==============================] - 1s 6ms/step - loss: 0.4902 - main_output_loss: 0.4232 - auxiliary_output_loss: 0.4644 - val_loss: 0.4187 - val_main_output_loss: 0.3958 - val_auxiliary_output_loss: 0.3680\n",
            "Epoch 4/100\n",
            "159/159 [==============================] - 2s 10ms/step - loss: 0.4799 - main_output_loss: 0.4173 - auxiliary_output_loss: 0.4521 - val_loss: 0.4355 - val_main_output_loss: 0.4001 - val_auxiliary_output_loss: 0.3924\n",
            "Epoch 5/100\n",
            "159/159 [==============================] - 1s 4ms/step - loss: 0.4853 - main_output_loss: 0.4180 - auxiliary_output_loss: 0.4604 - val_loss: 0.4232 - val_main_output_loss: 0.3973 - val_auxiliary_output_loss: 0.3742\n",
            "Epoch 6/100\n",
            "159/159 [==============================] - 1s 4ms/step - loss: 0.4771 - main_output_loss: 0.4150 - auxiliary_output_loss: 0.4493 - val_loss: 0.4577 - val_main_output_loss: 0.4118 - val_auxiliary_output_loss: 0.4196\n",
            "Epoch 7/100\n",
            "159/159 [==============================] - 1s 3ms/step - loss: 0.4802 - main_output_loss: 0.4163 - auxiliary_output_loss: 0.4535 - val_loss: 0.4259 - val_main_output_loss: 0.3974 - val_auxiliary_output_loss: 0.3787\n",
            "Epoch 8/100\n",
            "159/159 [==============================] - 1s 4ms/step - loss: 0.4759 - main_output_loss: 0.4148 - auxiliary_output_loss: 0.4476 - val_loss: 0.4183 - val_main_output_loss: 0.3938 - val_auxiliary_output_loss: 0.3690\n",
            "Epoch 9/100\n",
            "159/159 [==============================] - 1s 3ms/step - loss: 0.4730 - main_output_loss: 0.4132 - auxiliary_output_loss: 0.4441 - val_loss: 0.4158 - val_main_output_loss: 0.3917 - val_auxiliary_output_loss: 0.3666\n",
            "Epoch 10/100\n",
            "159/159 [==============================] - 1s 4ms/step - loss: 0.4682 - main_output_loss: 0.4131 - auxiliary_output_loss: 0.4361 - val_loss: 0.4214 - val_main_output_loss: 0.3917 - val_auxiliary_output_loss: 0.3759\n",
            "Epoch 11/100\n",
            "159/159 [==============================] - 1s 5ms/step - loss: 0.4669 - main_output_loss: 0.4119 - auxiliary_output_loss: 0.4348 - val_loss: 0.4233 - val_main_output_loss: 0.3923 - val_auxiliary_output_loss: 0.3786\n",
            "Epoch 12/100\n",
            "159/159 [==============================] - 1s 7ms/step - loss: 0.4696 - main_output_loss: 0.4119 - auxiliary_output_loss: 0.4394 - val_loss: 0.4198 - val_main_output_loss: 0.3943 - val_auxiliary_output_loss: 0.3710\n",
            "Epoch 13/100\n",
            "159/159 [==============================] - 1s 7ms/step - loss: 0.4657 - main_output_loss: 0.4094 - auxiliary_output_loss: 0.4350 - val_loss: 0.4230 - val_main_output_loss: 0.3933 - val_auxiliary_output_loss: 0.3773\n",
            "Epoch 14/100\n",
            "159/159 [==============================] - 1s 6ms/step - loss: 0.4714 - main_output_loss: 0.4104 - auxiliary_output_loss: 0.4436 - val_loss: 0.4096 - val_main_output_loss: 0.3905 - val_auxiliary_output_loss: 0.3573\n",
            "Epoch 15/100\n",
            "159/159 [==============================] - 1s 4ms/step - loss: 0.4724 - main_output_loss: 0.4142 - auxiliary_output_loss: 0.4421 - val_loss: 0.4162 - val_main_output_loss: 0.3917 - val_auxiliary_output_loss: 0.3672\n",
            "Epoch 16/100\n",
            "159/159 [==============================] - 1s 4ms/step - loss: 0.4605 - main_output_loss: 0.4069 - auxiliary_output_loss: 0.4285 - val_loss: 0.4186 - val_main_output_loss: 0.3931 - val_auxiliary_output_loss: 0.3700\n",
            "Epoch 17/100\n",
            "159/159 [==============================] - 1s 4ms/step - loss: 0.4629 - main_output_loss: 0.4091 - auxiliary_output_loss: 0.4307 - val_loss: 0.4139 - val_main_output_loss: 0.3913 - val_auxiliary_output_loss: 0.3638\n",
            "Epoch 18/100\n",
            "159/159 [==============================] - 1s 4ms/step - loss: 0.4520 - main_output_loss: 0.4050 - auxiliary_output_loss: 0.4159 - val_loss: 0.4206 - val_main_output_loss: 0.3938 - val_auxiliary_output_loss: 0.3729\n",
            "Epoch 19/100\n",
            "159/159 [==============================] - 1s 4ms/step - loss: 0.4499 - main_output_loss: 0.4026 - auxiliary_output_loss: 0.4143 - val_loss: 0.4079 - val_main_output_loss: 0.3876 - val_auxiliary_output_loss: 0.3567\n",
            "Epoch 20/100\n",
            "159/159 [==============================] - 1s 4ms/step - loss: 0.4541 - main_output_loss: 0.4050 - auxiliary_output_loss: 0.4193 - val_loss: 0.4221 - val_main_output_loss: 0.3947 - val_auxiliary_output_loss: 0.3745\n",
            "Epoch 21/100\n",
            "159/159 [==============================] - 1s 4ms/step - loss: 0.4566 - main_output_loss: 0.4072 - auxiliary_output_loss: 0.4216 - val_loss: 0.4124 - val_main_output_loss: 0.3914 - val_auxiliary_output_loss: 0.3611\n",
            "Epoch 22/100\n",
            "159/159 [==============================] - 1s 4ms/step - loss: 0.4543 - main_output_loss: 0.4041 - auxiliary_output_loss: 0.4204 - val_loss: 0.4243 - val_main_output_loss: 0.3950 - val_auxiliary_output_loss: 0.3780\n",
            "Epoch 23/100\n",
            "159/159 [==============================] - 1s 4ms/step - loss: 0.4467 - main_output_loss: 0.4014 - auxiliary_output_loss: 0.4099 - val_loss: 0.4073 - val_main_output_loss: 0.3880 - val_auxiliary_output_loss: 0.3555\n",
            "Epoch 24/100\n",
            "159/159 [==============================] - 1s 3ms/step - loss: 0.4589 - main_output_loss: 0.4064 - auxiliary_output_loss: 0.4262 - val_loss: 0.4106 - val_main_output_loss: 0.3913 - val_auxiliary_output_loss: 0.3583\n",
            "Epoch 25/100\n",
            "159/159 [==============================] - 1s 3ms/step - loss: 0.4544 - main_output_loss: 0.4054 - auxiliary_output_loss: 0.4194 - val_loss: 0.4050 - val_main_output_loss: 0.3853 - val_auxiliary_output_loss: 0.3539\n",
            "Epoch 26/100\n",
            "159/159 [==============================] - 1s 3ms/step - loss: 0.4431 - main_output_loss: 0.3998 - auxiliary_output_loss: 0.4053 - val_loss: 0.4069 - val_main_output_loss: 0.3840 - val_auxiliary_output_loss: 0.3582\n",
            "Epoch 27/100\n",
            "159/159 [==============================] - 1s 3ms/step - loss: 0.4459 - main_output_loss: 0.3994 - auxiliary_output_loss: 0.4102 - val_loss: 0.4147 - val_main_output_loss: 0.3918 - val_auxiliary_output_loss: 0.3646\n",
            "Epoch 28/100\n",
            "159/159 [==============================] - 1s 3ms/step - loss: 0.4610 - main_output_loss: 0.4087 - auxiliary_output_loss: 0.4277 - val_loss: 0.4070 - val_main_output_loss: 0.3864 - val_auxiliary_output_loss: 0.3564\n",
            "Epoch 29/100\n",
            "159/159 [==============================] - 1s 3ms/step - loss: 0.4415 - main_output_loss: 0.4002 - auxiliary_output_loss: 0.4023 - val_loss: 0.4064 - val_main_output_loss: 0.3840 - val_auxiliary_output_loss: 0.3573\n",
            "Epoch 30/100\n",
            "159/159 [==============================] - 1s 3ms/step - loss: 0.4485 - main_output_loss: 0.4024 - auxiliary_output_loss: 0.4122 - val_loss: 0.4122 - val_main_output_loss: 0.3883 - val_auxiliary_output_loss: 0.3634\n",
            "Epoch 31/100\n",
            "159/159 [==============================] - 0s 3ms/step - loss: 0.4398 - main_output_loss: 0.4000 - auxiliary_output_loss: 0.3996 - val_loss: 0.4077 - val_main_output_loss: 0.3846 - val_auxiliary_output_loss: 0.3590\n",
            "Epoch 32/100\n",
            "159/159 [==============================] - 0s 3ms/step - loss: 0.4480 - main_output_loss: 0.4016 - auxiliary_output_loss: 0.4121 - val_loss: 0.4074 - val_main_output_loss: 0.3872 - val_auxiliary_output_loss: 0.3564\n",
            "Epoch 33/100\n",
            "159/159 [==============================] - 1s 3ms/step - loss: 0.4380 - main_output_loss: 0.3971 - auxiliary_output_loss: 0.3992 - val_loss: 0.4091 - val_main_output_loss: 0.3870 - val_auxiliary_output_loss: 0.3594\n",
            "Epoch 34/100\n",
            "159/159 [==============================] - 1s 3ms/step - loss: 0.4446 - main_output_loss: 0.4016 - auxiliary_output_loss: 0.4062 - val_loss: 0.4022 - val_main_output_loss: 0.3844 - val_auxiliary_output_loss: 0.3501\n",
            "Epoch 35/100\n",
            "159/159 [==============================] - 1s 3ms/step - loss: 0.4376 - main_output_loss: 0.3977 - auxiliary_output_loss: 0.3980 - val_loss: 0.4131 - val_main_output_loss: 0.3875 - val_auxiliary_output_loss: 0.3656\n",
            "Epoch 36/100\n",
            "159/159 [==============================] - 0s 3ms/step - loss: 0.4408 - main_output_loss: 0.3980 - auxiliary_output_loss: 0.4030 - val_loss: 0.3993 - val_main_output_loss: 0.3810 - val_auxiliary_output_loss: 0.3481\n",
            "Epoch 37/100\n",
            "159/159 [==============================] - 1s 4ms/step - loss: 0.4348 - main_output_loss: 0.3961 - auxiliary_output_loss: 0.3946 - val_loss: 0.4062 - val_main_output_loss: 0.3858 - val_auxiliary_output_loss: 0.3555\n",
            "Epoch 38/100\n",
            "159/159 [==============================] - 1s 3ms/step - loss: 0.4330 - main_output_loss: 0.3931 - auxiliary_output_loss: 0.3940 - val_loss: 0.4050 - val_main_output_loss: 0.3840 - val_auxiliary_output_loss: 0.3549\n",
            "Epoch 39/100\n",
            "159/159 [==============================] - 0s 3ms/step - loss: 0.4414 - main_output_loss: 0.3982 - auxiliary_output_loss: 0.4038 - val_loss: 0.4067 - val_main_output_loss: 0.3880 - val_auxiliary_output_loss: 0.3544\n",
            "Epoch 40/100\n",
            "159/159 [==============================] - 1s 3ms/step - loss: 0.4359 - main_output_loss: 0.3967 - auxiliary_output_loss: 0.3959 - val_loss: 0.4057 - val_main_output_loss: 0.3866 - val_auxiliary_output_loss: 0.3540\n",
            "Epoch 41/100\n",
            "159/159 [==============================] - 0s 3ms/step - loss: 0.4460 - main_output_loss: 0.4001 - auxiliary_output_loss: 0.4100 - val_loss: 0.4019 - val_main_output_loss: 0.3831 - val_auxiliary_output_loss: 0.3505\n",
            "Epoch 42/100\n",
            "159/159 [==============================] - 1s 4ms/step - loss: 0.4377 - main_output_loss: 0.3979 - auxiliary_output_loss: 0.3979 - val_loss: 0.4070 - val_main_output_loss: 0.3858 - val_auxiliary_output_loss: 0.3568\n",
            "Epoch 43/100\n",
            "159/159 [==============================] - 1s 4ms/step - loss: 0.4354 - main_output_loss: 0.3949 - auxiliary_output_loss: 0.3966 - val_loss: 0.4065 - val_main_output_loss: 0.3850 - val_auxiliary_output_loss: 0.3566\n",
            "Epoch 44/100\n",
            "159/159 [==============================] - 1s 4ms/step - loss: 0.4328 - main_output_loss: 0.3929 - auxiliary_output_loss: 0.3939 - val_loss: 0.4079 - val_main_output_loss: 0.3840 - val_auxiliary_output_loss: 0.3598\n",
            "Epoch 45/100\n",
            "159/159 [==============================] - 1s 3ms/step - loss: 0.4403 - main_output_loss: 0.3990 - auxiliary_output_loss: 0.4013 - val_loss: 0.3978 - val_main_output_loss: 0.3797 - val_auxiliary_output_loss: 0.3466\n",
            "Epoch 46/100\n",
            "159/159 [==============================] - 1s 4ms/step - loss: 0.4307 - main_output_loss: 0.3931 - auxiliary_output_loss: 0.3903 - val_loss: 0.3947 - val_main_output_loss: 0.3765 - val_auxiliary_output_loss: 0.3441\n",
            "Epoch 47/100\n",
            "159/159 [==============================] - 1s 4ms/step - loss: 0.4311 - main_output_loss: 0.3937 - auxiliary_output_loss: 0.3904 - val_loss: 0.4004 - val_main_output_loss: 0.3809 - val_auxiliary_output_loss: 0.3499\n",
            "Epoch 48/100\n",
            "159/159 [==============================] - 1s 4ms/step - loss: 0.4345 - main_output_loss: 0.3956 - auxiliary_output_loss: 0.3945 - val_loss: 0.4125 - val_main_output_loss: 0.3847 - val_auxiliary_output_loss: 0.3669\n",
            "Epoch 49/100\n",
            "159/159 [==============================] - 1s 3ms/step - loss: 0.4284 - main_output_loss: 0.3919 - auxiliary_output_loss: 0.3875 - val_loss: 0.3999 - val_main_output_loss: 0.3803 - val_auxiliary_output_loss: 0.3496\n",
            "Epoch 50/100\n",
            "159/159 [==============================] - 1s 4ms/step - loss: 0.4339 - main_output_loss: 0.3936 - auxiliary_output_loss: 0.3951 - val_loss: 0.4043 - val_main_output_loss: 0.3812 - val_auxiliary_output_loss: 0.3561\n",
            "Epoch 51/100\n",
            "159/159 [==============================] - 1s 4ms/step - loss: 0.4287 - main_output_loss: 0.3897 - auxiliary_output_loss: 0.3899 - val_loss: 0.4029 - val_main_output_loss: 0.3807 - val_auxiliary_output_loss: 0.3542\n",
            "Epoch 52/100\n",
            "159/159 [==============================] - 1s 4ms/step - loss: 0.4278 - main_output_loss: 0.3900 - auxiliary_output_loss: 0.3880 - val_loss: 0.4056 - val_main_output_loss: 0.3820 - val_auxiliary_output_loss: 0.3577\n",
            "Epoch 53/100\n",
            "159/159 [==============================] - 1s 4ms/step - loss: 0.4350 - main_output_loss: 0.3939 - auxiliary_output_loss: 0.3968 - val_loss: 0.4050 - val_main_output_loss: 0.3836 - val_auxiliary_output_loss: 0.3554\n",
            "Epoch 54/100\n",
            "159/159 [==============================] - 1s 4ms/step - loss: 0.4269 - main_output_loss: 0.3904 - auxiliary_output_loss: 0.3861 - val_loss: 0.3985 - val_main_output_loss: 0.3781 - val_auxiliary_output_loss: 0.3491\n",
            "Epoch 55/100\n",
            "159/159 [==============================] - 1s 4ms/step - loss: 0.4144 - main_output_loss: 0.3864 - auxiliary_output_loss: 0.3687 - val_loss: 0.3999 - val_main_output_loss: 0.3805 - val_auxiliary_output_loss: 0.3494\n",
            "Epoch 56/100\n",
            "159/159 [==============================] - 1s 4ms/step - loss: 0.4478 - main_output_loss: 0.4017 - auxiliary_output_loss: 0.4115 - val_loss: 0.4024 - val_main_output_loss: 0.3795 - val_auxiliary_output_loss: 0.3544\n"
          ]
        }
      ]
    },
    {
      "cell_type": "code",
      "source": [
        "plot_regr_loss(history)"
      ],
      "metadata": {
        "id": "oWQESWjjzaz4",
        "outputId": "3584c1ce-af4a-4a94-9171-28841ccbce57",
        "colab": {
          "base_uri": "https://localhost:8080/",
          "height": 542
        }
      },
      "execution_count": 317,
      "outputs": [
        {
          "output_type": "display_data",
          "data": {
            "text/html": [
              "<html>\n",
              "<head><meta charset=\"utf-8\" /></head>\n",
              "<body>\n",
              "    <div>            <script src=\"https://cdnjs.cloudflare.com/ajax/libs/mathjax/2.7.5/MathJax.js?config=TeX-AMS-MML_SVG\"></script><script type=\"text/javascript\">if (window.MathJax) {MathJax.Hub.Config({SVG: {font: \"STIX-Web\"}});}</script>                <script type=\"text/javascript\">window.PlotlyConfig = {MathJaxConfig: 'local'};</script>\n",
              "        <script src=\"https://cdn.plot.ly/plotly-2.8.3.min.js\"></script>                <div id=\"d6e0d20b-cca3-4e8b-8824-2342be6046a3\" class=\"plotly-graph-div\" style=\"height:525px; width:100%;\"></div>            <script type=\"text/javascript\">                                    window.PLOTLYENV=window.PLOTLYENV || {};                                    if (document.getElementById(\"d6e0d20b-cca3-4e8b-8824-2342be6046a3\")) {                    Plotly.newPlot(                        \"d6e0d20b-cca3-4e8b-8824-2342be6046a3\",                        [{\"mode\":\"lines+markers\",\"name\":\"train\",\"x\":[1,2,3,4,5,6,7,8,9,10,11,12,13,14,15,16,17,18,19,20,21,22,23,24,25,26,27,28,29,30,31,32,33,34,35,36,37,38,39,40,41,42,43,44,45,46,47,48,49,50,51,52,53,54,55,56],\"y\":[0.4910981059074402,0.48484286665916443,0.4902458190917969,0.47994405031204224,0.4852602183818817,0.4770977199077606,0.48024287819862366,0.4759380519390106,0.4730246961116791,0.46821001172065735,0.4668600857257843,0.46955642104148865,0.46572205424308777,0.4713589549064636,0.47238364815711975,0.4605359435081482,0.4629443287849426,0.4520356357097626,0.44985222816467285,0.45410093665122986,0.45656803250312805,0.4542708396911621,0.44665205478668213,0.4589005708694458,0.45435428619384766,0.4431281089782715,0.4458535611629486,0.46098655462265015,0.441485196352005,0.44854268431663513,0.43978846073150635,0.44804900884628296,0.4380352199077606,0.44455045461654663,0.43764257431030273,0.44081565737724304,0.43484002351760864,0.43296897411346436,0.44139471650123596,0.43591371178627014,0.446049302816391,0.43765878677368164,0.43541985750198364,0.4327543079853058,0.4402512013912201,0.4307306408882141,0.43106210231781006,0.434520423412323,0.4284419119358063,0.4338536560535431,0.4287497103214264,0.42779847979545593,0.43503618240356445,0.42685943841934204,0.41440197825431824,0.44777926802635193],\"type\":\"scatter\",\"xaxis\":\"x\",\"yaxis\":\"y\"},{\"mode\":\"lines+markers\",\"name\":\"val\",\"x\":[1,2,3,4,5,6,7,8,9,10,11,12,13,14,15,16,17,18,19,20,21,22,23,24,25,26,27,28,29,30,31,32,33,34,35,36,37,38,39,40,41,42,43,44,45,46,47,48,49,50,51,52,53,54,55,56],\"y\":[0.43380674719810486,0.45242366194725037,0.41872066259384155,0.43550342321395874,0.4232069253921509,0.45765021443367004,0.42589712142944336,0.4183254837989807,0.4158119857311249,0.42137354612350464,0.4232986867427826,0.41976991295814514,0.42301082611083984,0.40962547063827515,0.41619351506233215,0.4185657203197479,0.41390103101730347,0.4206337630748749,0.4078589081764221,0.4220704138278961,0.4123508930206299,0.4243178367614746,0.4073357582092285,0.4106208384037018,0.4049983322620392,0.4069254696369171,0.4146721065044403,0.40702024102211,0.406380295753479,0.4121862053871155,0.40771394968032837,0.4074297845363617,0.4091162383556366,0.4022493064403534,0.4131147861480713,0.39930689334869385,0.406210333108902,0.40497103333473206,0.4066513776779175,0.40566131472587585,0.40187740325927734,0.4069714844226837,0.40648096799850464,0.40790340304374695,0.3977665305137634,0.3946986198425293,0.400382399559021,0.41247129440307617,0.39994579553604126,0.4042833149433136,0.40288567543029785,0.4055981934070587,0.4050147533416748,0.39849594235420227,0.3998958170413971,0.4023855924606323],\"type\":\"scatter\",\"xaxis\":\"x\",\"yaxis\":\"y\"}],                        {\"template\":{\"data\":{\"bar\":[{\"error_x\":{\"color\":\"#2a3f5f\"},\"error_y\":{\"color\":\"#2a3f5f\"},\"marker\":{\"line\":{\"color\":\"#E5ECF6\",\"width\":0.5},\"pattern\":{\"fillmode\":\"overlay\",\"size\":10,\"solidity\":0.2}},\"type\":\"bar\"}],\"barpolar\":[{\"marker\":{\"line\":{\"color\":\"#E5ECF6\",\"width\":0.5},\"pattern\":{\"fillmode\":\"overlay\",\"size\":10,\"solidity\":0.2}},\"type\":\"barpolar\"}],\"carpet\":[{\"aaxis\":{\"endlinecolor\":\"#2a3f5f\",\"gridcolor\":\"white\",\"linecolor\":\"white\",\"minorgridcolor\":\"white\",\"startlinecolor\":\"#2a3f5f\"},\"baxis\":{\"endlinecolor\":\"#2a3f5f\",\"gridcolor\":\"white\",\"linecolor\":\"white\",\"minorgridcolor\":\"white\",\"startlinecolor\":\"#2a3f5f\"},\"type\":\"carpet\"}],\"choropleth\":[{\"colorbar\":{\"outlinewidth\":0,\"ticks\":\"\"},\"type\":\"choropleth\"}],\"contour\":[{\"colorbar\":{\"outlinewidth\":0,\"ticks\":\"\"},\"colorscale\":[[0.0,\"#0d0887\"],[0.1111111111111111,\"#46039f\"],[0.2222222222222222,\"#7201a8\"],[0.3333333333333333,\"#9c179e\"],[0.4444444444444444,\"#bd3786\"],[0.5555555555555556,\"#d8576b\"],[0.6666666666666666,\"#ed7953\"],[0.7777777777777778,\"#fb9f3a\"],[0.8888888888888888,\"#fdca26\"],[1.0,\"#f0f921\"]],\"type\":\"contour\"}],\"contourcarpet\":[{\"colorbar\":{\"outlinewidth\":0,\"ticks\":\"\"},\"type\":\"contourcarpet\"}],\"heatmap\":[{\"colorbar\":{\"outlinewidth\":0,\"ticks\":\"\"},\"colorscale\":[[0.0,\"#0d0887\"],[0.1111111111111111,\"#46039f\"],[0.2222222222222222,\"#7201a8\"],[0.3333333333333333,\"#9c179e\"],[0.4444444444444444,\"#bd3786\"],[0.5555555555555556,\"#d8576b\"],[0.6666666666666666,\"#ed7953\"],[0.7777777777777778,\"#fb9f3a\"],[0.8888888888888888,\"#fdca26\"],[1.0,\"#f0f921\"]],\"type\":\"heatmap\"}],\"heatmapgl\":[{\"colorbar\":{\"outlinewidth\":0,\"ticks\":\"\"},\"colorscale\":[[0.0,\"#0d0887\"],[0.1111111111111111,\"#46039f\"],[0.2222222222222222,\"#7201a8\"],[0.3333333333333333,\"#9c179e\"],[0.4444444444444444,\"#bd3786\"],[0.5555555555555556,\"#d8576b\"],[0.6666666666666666,\"#ed7953\"],[0.7777777777777778,\"#fb9f3a\"],[0.8888888888888888,\"#fdca26\"],[1.0,\"#f0f921\"]],\"type\":\"heatmapgl\"}],\"histogram\":[{\"marker\":{\"pattern\":{\"fillmode\":\"overlay\",\"size\":10,\"solidity\":0.2}},\"type\":\"histogram\"}],\"histogram2d\":[{\"colorbar\":{\"outlinewidth\":0,\"ticks\":\"\"},\"colorscale\":[[0.0,\"#0d0887\"],[0.1111111111111111,\"#46039f\"],[0.2222222222222222,\"#7201a8\"],[0.3333333333333333,\"#9c179e\"],[0.4444444444444444,\"#bd3786\"],[0.5555555555555556,\"#d8576b\"],[0.6666666666666666,\"#ed7953\"],[0.7777777777777778,\"#fb9f3a\"],[0.8888888888888888,\"#fdca26\"],[1.0,\"#f0f921\"]],\"type\":\"histogram2d\"}],\"histogram2dcontour\":[{\"colorbar\":{\"outlinewidth\":0,\"ticks\":\"\"},\"colorscale\":[[0.0,\"#0d0887\"],[0.1111111111111111,\"#46039f\"],[0.2222222222222222,\"#7201a8\"],[0.3333333333333333,\"#9c179e\"],[0.4444444444444444,\"#bd3786\"],[0.5555555555555556,\"#d8576b\"],[0.6666666666666666,\"#ed7953\"],[0.7777777777777778,\"#fb9f3a\"],[0.8888888888888888,\"#fdca26\"],[1.0,\"#f0f921\"]],\"type\":\"histogram2dcontour\"}],\"mesh3d\":[{\"colorbar\":{\"outlinewidth\":0,\"ticks\":\"\"},\"type\":\"mesh3d\"}],\"parcoords\":[{\"line\":{\"colorbar\":{\"outlinewidth\":0,\"ticks\":\"\"}},\"type\":\"parcoords\"}],\"pie\":[{\"automargin\":true,\"type\":\"pie\"}],\"scatter\":[{\"marker\":{\"colorbar\":{\"outlinewidth\":0,\"ticks\":\"\"}},\"type\":\"scatter\"}],\"scatter3d\":[{\"line\":{\"colorbar\":{\"outlinewidth\":0,\"ticks\":\"\"}},\"marker\":{\"colorbar\":{\"outlinewidth\":0,\"ticks\":\"\"}},\"type\":\"scatter3d\"}],\"scattercarpet\":[{\"marker\":{\"colorbar\":{\"outlinewidth\":0,\"ticks\":\"\"}},\"type\":\"scattercarpet\"}],\"scattergeo\":[{\"marker\":{\"colorbar\":{\"outlinewidth\":0,\"ticks\":\"\"}},\"type\":\"scattergeo\"}],\"scattergl\":[{\"marker\":{\"colorbar\":{\"outlinewidth\":0,\"ticks\":\"\"}},\"type\":\"scattergl\"}],\"scattermapbox\":[{\"marker\":{\"colorbar\":{\"outlinewidth\":0,\"ticks\":\"\"}},\"type\":\"scattermapbox\"}],\"scatterpolar\":[{\"marker\":{\"colorbar\":{\"outlinewidth\":0,\"ticks\":\"\"}},\"type\":\"scatterpolar\"}],\"scatterpolargl\":[{\"marker\":{\"colorbar\":{\"outlinewidth\":0,\"ticks\":\"\"}},\"type\":\"scatterpolargl\"}],\"scatterternary\":[{\"marker\":{\"colorbar\":{\"outlinewidth\":0,\"ticks\":\"\"}},\"type\":\"scatterternary\"}],\"surface\":[{\"colorbar\":{\"outlinewidth\":0,\"ticks\":\"\"},\"colorscale\":[[0.0,\"#0d0887\"],[0.1111111111111111,\"#46039f\"],[0.2222222222222222,\"#7201a8\"],[0.3333333333333333,\"#9c179e\"],[0.4444444444444444,\"#bd3786\"],[0.5555555555555556,\"#d8576b\"],[0.6666666666666666,\"#ed7953\"],[0.7777777777777778,\"#fb9f3a\"],[0.8888888888888888,\"#fdca26\"],[1.0,\"#f0f921\"]],\"type\":\"surface\"}],\"table\":[{\"cells\":{\"fill\":{\"color\":\"#EBF0F8\"},\"line\":{\"color\":\"white\"}},\"header\":{\"fill\":{\"color\":\"#C8D4E3\"},\"line\":{\"color\":\"white\"}},\"type\":\"table\"}]},\"layout\":{\"annotationdefaults\":{\"arrowcolor\":\"#2a3f5f\",\"arrowhead\":0,\"arrowwidth\":1},\"autotypenumbers\":\"strict\",\"coloraxis\":{\"colorbar\":{\"outlinewidth\":0,\"ticks\":\"\"}},\"colorscale\":{\"diverging\":[[0,\"#8e0152\"],[0.1,\"#c51b7d\"],[0.2,\"#de77ae\"],[0.3,\"#f1b6da\"],[0.4,\"#fde0ef\"],[0.5,\"#f7f7f7\"],[0.6,\"#e6f5d0\"],[0.7,\"#b8e186\"],[0.8,\"#7fbc41\"],[0.9,\"#4d9221\"],[1,\"#276419\"]],\"sequential\":[[0.0,\"#0d0887\"],[0.1111111111111111,\"#46039f\"],[0.2222222222222222,\"#7201a8\"],[0.3333333333333333,\"#9c179e\"],[0.4444444444444444,\"#bd3786\"],[0.5555555555555556,\"#d8576b\"],[0.6666666666666666,\"#ed7953\"],[0.7777777777777778,\"#fb9f3a\"],[0.8888888888888888,\"#fdca26\"],[1.0,\"#f0f921\"]],\"sequentialminus\":[[0.0,\"#0d0887\"],[0.1111111111111111,\"#46039f\"],[0.2222222222222222,\"#7201a8\"],[0.3333333333333333,\"#9c179e\"],[0.4444444444444444,\"#bd3786\"],[0.5555555555555556,\"#d8576b\"],[0.6666666666666666,\"#ed7953\"],[0.7777777777777778,\"#fb9f3a\"],[0.8888888888888888,\"#fdca26\"],[1.0,\"#f0f921\"]]},\"colorway\":[\"#636efa\",\"#EF553B\",\"#00cc96\",\"#ab63fa\",\"#FFA15A\",\"#19d3f3\",\"#FF6692\",\"#B6E880\",\"#FF97FF\",\"#FECB52\"],\"font\":{\"color\":\"#2a3f5f\"},\"geo\":{\"bgcolor\":\"white\",\"lakecolor\":\"white\",\"landcolor\":\"#E5ECF6\",\"showlakes\":true,\"showland\":true,\"subunitcolor\":\"white\"},\"hoverlabel\":{\"align\":\"left\"},\"hovermode\":\"closest\",\"mapbox\":{\"style\":\"light\"},\"paper_bgcolor\":\"white\",\"plot_bgcolor\":\"#E5ECF6\",\"polar\":{\"angularaxis\":{\"gridcolor\":\"white\",\"linecolor\":\"white\",\"ticks\":\"\"},\"bgcolor\":\"#E5ECF6\",\"radialaxis\":{\"gridcolor\":\"white\",\"linecolor\":\"white\",\"ticks\":\"\"}},\"scene\":{\"xaxis\":{\"backgroundcolor\":\"#E5ECF6\",\"gridcolor\":\"white\",\"gridwidth\":2,\"linecolor\":\"white\",\"showbackground\":true,\"ticks\":\"\",\"zerolinecolor\":\"white\"},\"yaxis\":{\"backgroundcolor\":\"#E5ECF6\",\"gridcolor\":\"white\",\"gridwidth\":2,\"linecolor\":\"white\",\"showbackground\":true,\"ticks\":\"\",\"zerolinecolor\":\"white\"},\"zaxis\":{\"backgroundcolor\":\"#E5ECF6\",\"gridcolor\":\"white\",\"gridwidth\":2,\"linecolor\":\"white\",\"showbackground\":true,\"ticks\":\"\",\"zerolinecolor\":\"white\"}},\"shapedefaults\":{\"line\":{\"color\":\"#2a3f5f\"}},\"ternary\":{\"aaxis\":{\"gridcolor\":\"white\",\"linecolor\":\"white\",\"ticks\":\"\"},\"baxis\":{\"gridcolor\":\"white\",\"linecolor\":\"white\",\"ticks\":\"\"},\"bgcolor\":\"#E5ECF6\",\"caxis\":{\"gridcolor\":\"white\",\"linecolor\":\"white\",\"ticks\":\"\"}},\"title\":{\"x\":0.05},\"xaxis\":{\"automargin\":true,\"gridcolor\":\"white\",\"linecolor\":\"white\",\"ticks\":\"\",\"title\":{\"standoff\":15},\"zerolinecolor\":\"white\",\"zerolinewidth\":2},\"yaxis\":{\"automargin\":true,\"gridcolor\":\"white\",\"linecolor\":\"white\",\"ticks\":\"\",\"title\":{\"standoff\":15},\"zerolinecolor\":\"white\",\"zerolinewidth\":2}}},\"xaxis\":{\"anchor\":\"y\",\"domain\":[0.0,1.0],\"title\":{\"text\":\"Epoch\"}},\"yaxis\":{\"anchor\":\"x\",\"domain\":[0.0,1.0],\"title\":{\"text\":\"Loss\"}},\"annotations\":[{\"font\":{\"size\":16},\"showarrow\":false,\"text\":\"Loss\",\"x\":0.5,\"xanchor\":\"center\",\"xref\":\"paper\",\"y\":1.0,\"yanchor\":\"bottom\",\"yref\":\"paper\"}]},                        {\"responsive\": true}                    ).then(function(){\n",
              "                            \n",
              "var gd = document.getElementById('d6e0d20b-cca3-4e8b-8824-2342be6046a3');\n",
              "var x = new MutationObserver(function (mutations, observer) {{\n",
              "        var display = window.getComputedStyle(gd).display;\n",
              "        if (!display || display === 'none') {{\n",
              "            console.log([gd, 'removed!']);\n",
              "            Plotly.purge(gd);\n",
              "            observer.disconnect();\n",
              "        }}\n",
              "}});\n",
              "\n",
              "// Listen for the removal of the full notebook cells\n",
              "var notebookContainer = gd.closest('#notebook-container');\n",
              "if (notebookContainer) {{\n",
              "    x.observe(notebookContainer, {childList: true});\n",
              "}}\n",
              "\n",
              "// Listen for the clearing of the current output cell\n",
              "var outputEl = gd.closest('.output');\n",
              "if (outputEl) {{\n",
              "    x.observe(outputEl, {childList: true});\n",
              "}}\n",
              "\n",
              "                        })                };                            </script>        </div>\n",
              "</body>\n",
              "</html>"
            ]
          },
          "metadata": {}
        }
      ]
    },
    {
      "cell_type": "code",
      "source": [
        ""
      ],
      "metadata": {
        "id": "yhl8NmWm1i_h"
      },
      "execution_count": null,
      "outputs": []
    }
  ],
  "metadata": {
    "kernelspec": {
      "display_name": "Python 3",
      "language": "python",
      "name": "python3"
    },
    "language_info": {
      "codemirror_mode": {
        "name": "ipython",
        "version": 3
      },
      "file_extension": ".py",
      "mimetype": "text/x-python",
      "name": "python",
      "nbconvert_exporter": "python",
      "pygments_lexer": "ipython3",
      "version": "3.7.10"
    },
    "nav_menu": {
      "height": "264px",
      "width": "369px"
    },
    "toc": {
      "navigate_menu": true,
      "number_sections": true,
      "sideBar": true,
      "threshold": 6,
      "toc_cell": false,
      "toc_section_display": "block",
      "toc_window_display": false
    },
    "colab": {
      "name": "10_neural_nets_with_keras.ipynb",
      "provenance": []
    }
  },
  "nbformat": 4,
  "nbformat_minor": 0
}