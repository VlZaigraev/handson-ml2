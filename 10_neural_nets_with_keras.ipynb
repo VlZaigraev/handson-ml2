{
  "cells": [
    {
      "cell_type": "markdown",
      "metadata": {
        "id": "T7Aaeh25R0bB"
      },
      "source": [
        "**Chapter 10 – Introduction to Artificial Neural Networks with Keras**\n",
        "\n",
        "_This notebook contains all the sample code and solutions to the exercises in chapter 10._"
      ]
    },
    {
      "cell_type": "markdown",
      "metadata": {
        "id": "ZxJFdczhR0bG"
      },
      "source": [
        "<table align=\"left\">\n",
        "  <td>\n",
        "    <a href=\"https://colab.research.google.com/github/ageron/handson-ml2/blob/master/10_neural_nets_with_keras.ipynb\" target=\"_parent\"><img src=\"https://colab.research.google.com/assets/colab-badge.svg\" alt=\"Open In Colab\"/></a>\n",
        "  </td>\n",
        "  <td>\n",
        "    <a target=\"_blank\" href=\"https://kaggle.com/kernels/welcome?src=https://github.com/ageron/handson-ml2/blob/master/10_neural_nets_with_keras.ipynb\"><img src=\"https://kaggle.com/static/images/open-in-kaggle.svg\" /></a>\n",
        "  </td>\n",
        "</table>"
      ]
    },
    {
      "cell_type": "code",
      "source": [
        "print(\"Aboba\")"
      ],
      "metadata": {
        "id": "8gWNQbmHSSLm",
        "outputId": "5e21b59c-353b-46c1-ea3a-31d599e5d3e3",
        "colab": {
          "base_uri": "https://localhost:8080/"
        }
      },
      "execution_count": null,
      "outputs": [
        {
          "output_type": "stream",
          "name": "stdout",
          "text": [
            "Aboba\n"
          ]
        }
      ]
    },
    {
      "cell_type": "markdown",
      "metadata": {
        "id": "ixM4ieHMR0bI"
      },
      "source": [
        "# Setup"
      ]
    },
    {
      "cell_type": "code",
      "execution_count": 2,
      "metadata": {
        "id": "RxjyT9l5R0bJ"
      },
      "outputs": [],
      "source": [
        "# Python ≥3.5 is required\n",
        "import sys\n",
        "assert sys.version_info >= (3, 5)\n",
        "\n",
        "# Scikit-Learn ≥0.20 is required\n",
        "import sklearn\n",
        "assert sklearn.__version__ >= \"0.20\"\n",
        "\n",
        "try:\n",
        "    # %tensorflow_version only exists in Colab.\n",
        "    %tensorflow_version 2.x\n",
        "except Exception:\n",
        "    pass\n",
        "\n",
        "# TensorFlow ≥2.0 is required\n",
        "import tensorflow as tf\n",
        "assert tf.__version__ >= \"2.0\"\n",
        "\n",
        "# Common imports\n",
        "import numpy as np\n",
        "import os\n",
        "\n",
        "# to make this notebook's output stable across runs\n",
        "np.random.seed(42)\n",
        "\n",
        "# To plot pretty figures\n",
        "%matplotlib inline\n",
        "import matplotlib as mpl\n",
        "import matplotlib.pyplot as plt\n",
        "mpl.rc('axes', labelsize=14)\n",
        "mpl.rc('xtick', labelsize=12)\n",
        "mpl.rc('ytick', labelsize=12)\n",
        "\n",
        "\n",
        "\n",
        "import tensorflow as tf\n",
        "from tensorflow import keras\n",
        "from tensorflow.keras.utils import plot_model\n",
        "\n",
        "import seaborn as sns"
      ]
    },
    {
      "cell_type": "markdown",
      "metadata": {
        "id": "rBy7FR6kR0bU"
      },
      "source": [
        "# Fashion MNIST Classifier\n",
        "\n"
      ]
    },
    {
      "cell_type": "markdown",
      "source": [
        "## Data"
      ],
      "metadata": {
        "id": "3_bwhKkL-TFu"
      }
    },
    {
      "cell_type": "code",
      "source": [
        "X = dict()\n",
        "y = dict()\n",
        "\n",
        "n_val = 5000\n",
        "(X['train'], y['train']), (X['test'], y['test']) = keras.datasets.fashion_mnist.load_data()\n",
        "X['train'], X['val'] = ( (X/255.0).astype('float32') for X in (X['train'][n_val:], X['train'][:n_val]))\n",
        "y['train'], y['val'] = y['train'][n_val:], y['train'][:n_val]"
      ],
      "metadata": {
        "id": "9oDgPX2vx5jz",
        "outputId": "42860d05-66da-4c55-c331-8e4c9fd36b2e",
        "colab": {
          "base_uri": "https://localhost:8080/"
        }
      },
      "execution_count": 3,
      "outputs": [
        {
          "output_type": "stream",
          "name": "stdout",
          "text": [
            "Downloading data from https://storage.googleapis.com/tensorflow/tf-keras-datasets/train-labels-idx1-ubyte.gz\n",
            "32768/29515 [=================================] - 0s 0us/step\n",
            "40960/29515 [=========================================] - 0s 0us/step\n",
            "Downloading data from https://storage.googleapis.com/tensorflow/tf-keras-datasets/train-images-idx3-ubyte.gz\n",
            "26427392/26421880 [==============================] - 0s 0us/step\n",
            "26435584/26421880 [==============================] - 0s 0us/step\n",
            "Downloading data from https://storage.googleapis.com/tensorflow/tf-keras-datasets/t10k-labels-idx1-ubyte.gz\n",
            "16384/5148 [===============================================================================================] - 0s 0us/step\n",
            "Downloading data from https://storage.googleapis.com/tensorflow/tf-keras-datasets/t10k-images-idx3-ubyte.gz\n",
            "4423680/4422102 [==============================] - 0s 0us/step\n",
            "4431872/4422102 [==============================] - 0s 0us/step\n"
          ]
        }
      ]
    },
    {
      "cell_type": "code",
      "source": [
        "X['val'][0,5].dtype"
      ],
      "metadata": {
        "id": "Lj2ByuEw3FuZ",
        "outputId": "5148db63-e0bb-4b77-edb8-ee5925341dcc",
        "colab": {
          "base_uri": "https://localhost:8080/"
        }
      },
      "execution_count": 4,
      "outputs": [
        {
          "output_type": "execute_result",
          "data": {
            "text/plain": [
              "dtype('float32')"
            ]
          },
          "metadata": {},
          "execution_count": 4
        }
      ]
    },
    {
      "cell_type": "code",
      "source": [
        "print(f\"\"\"\n",
        "X shape:{X['val'].shape[1:]}\n",
        "y shape: 1\n",
        "Dtype: {X['val'].dtype}\n",
        "{'-'*54}\"\"\")\n",
        "\n",
        "for split in X.keys():\n",
        "    print(f\"\"\"{split.capitalize()}: {y[split].shape[0]}\"\"\")"
      ],
      "metadata": {
        "id": "kThotNdAylt-",
        "outputId": "d17ff710-acc6-4994-fcd3-afcb341b06ca",
        "colab": {
          "base_uri": "https://localhost:8080/"
        }
      },
      "execution_count": 5,
      "outputs": [
        {
          "output_type": "stream",
          "name": "stdout",
          "text": [
            "\n",
            "X shape:(28, 28)\n",
            "y shape: 1\n",
            "Dtype: float32\n",
            "------------------------------------------------------\n",
            "Train: 55000\n",
            "Test: 10000\n",
            "Val: 5000\n"
          ]
        }
      ]
    },
    {
      "cell_type": "code",
      "source": [
        "n_cols, n_rows = 3,3\n",
        "class_names = [\"T-shirt/top\", \"Trouser\", \"Pullover\", \"Dress\", \"Coat\",\n",
        "               \"Sandal\", \"Shirt\", \"Sneaker\", \"Bag\", \"Ankle boot\"]\n",
        "n_classes = len(class_names)\n",
        "\n",
        "def plot_random_items(n_cols = 3, n_rows = 3, cmap = 'binary'):\n",
        "    figure = plt.figure(figsize=(8, 8))\n",
        "    for i in range(1, n_cols * n_rows + 1):\n",
        "        sample_idx = np.random.randint(X['train'].shape[0],size=(1,))[0]\n",
        "        figure.add_subplot(n_rows, n_cols, i)\n",
        "        plt.title(class_names[y['train'][sample_idx]])\n",
        "        plt.axis(\"off\")\n",
        "        plt.imshow(X['train'][sample_idx], cmap=cmap, interpolation='nearest')\n",
        "    plt.show()\n",
        "\n",
        "plot_random_items()"
      ],
      "metadata": {
        "id": "KAc5Odl46sjw",
        "outputId": "3ab9332f-bd0b-4b2f-f936-8499f895a723",
        "colab": {
          "base_uri": "https://localhost:8080/",
          "height": 482
        }
      },
      "execution_count": 11,
      "outputs": [
        {
          "output_type": "display_data",
          "data": {
            "image/png": "[encoded data removed]",
            "text/plain": [
              "<Figure size 576x576 with 9 Axes>"
            ]
          },
          "metadata": {
            "needs_background": "light"
          }
        }
      ]
    },
    {
      "cell_type": "markdown",
      "source": [
        "## Model"
      ],
      "metadata": {
        "id": "OoL5GURs9mNo"
      }
    },
    {
      "cell_type": "code",
      "source": [
        "model = keras.Sequential([\n",
        "    keras.layers.Flatten(input_shape=X['val'].shape[1:]),\n",
        "    keras.layers.Dense(350, activation = 'relu'),\n",
        "    keras.layers.Dropout(.2),\n",
        "    keras.layers.Dense(100, activation = 'relu'),\n",
        "    keras.layers.Dense(n_classes, activation='softmax')]\n",
        ")\n",
        "\n",
        "model.summary()"
      ],
      "metadata": {
        "id": "Dxoq_gAv7ge_",
        "outputId": "d02e5eba-8804-4ad4-84c9-48cc37d3320c",
        "colab": {
          "base_uri": "https://localhost:8080/"
        }
      },
      "execution_count": 13,
      "outputs": [
        {
          "output_type": "stream",
          "name": "stdout",
          "text": [
            "Model: \"sequential_1\"\n",
            "_________________________________________________________________\n",
            " Layer (type)                Output Shape              Param #   \n",
            "=================================================================\n",
            " flatten_1 (Flatten)         (None, 784)               0         \n",
            "                                                                 \n",
            " dense_3 (Dense)             (None, 350)               274750    \n",
            "                                                                 \n",
            " dropout_1 (Dropout)         (None, 350)               0         \n",
            "                                                                 \n",
            " dense_4 (Dense)             (None, 100)               35100     \n",
            "                                                                 \n",
            " dense_5 (Dense)             (None, 10)                1010      \n",
            "                                                                 \n",
            "=================================================================\n",
            "Total params: 310,860\n",
            "Trainable params: 310,860\n",
            "Non-trainable params: 0\n",
            "_________________________________________________________________\n"
          ]
        }
      ]
    },
    {
      "cell_type": "code",
      "source": [
        "plot_model(model,show_shapes=True,show_dtype=not True)"
      ],
      "metadata": {
        "id": "sfyBIls2-3zT",
        "outputId": "4138655d-4120-4704-8e99-f9c599ac1d8c",
        "colab": {
          "base_uri": "https://localhost:8080/",
          "height": 644
        }
      },
      "execution_count": 14,
      "outputs": [
        {
          "output_type": "execute_result",
          "data": {
            "image/png": "[encoded data removed]",
            "text/plain": [
              "<IPython.core.display.Image object>"
            ]
          },
          "metadata": {},
          "execution_count": 14
        }
      ]
    },
    {
      "cell_type": "code",
      "source": [
        "model.compile(loss = 'sparse_categorical_crossentropy',\n",
        "              optimizer = 'adam',\n",
        "              metrics = 'accuracy')"
      ],
      "metadata": {
        "id": "Br57rKUa97Ap"
      },
      "execution_count": 15,
      "outputs": []
    },
    {
      "cell_type": "code",
      "source": [
        "history = model.fit(X['train'],y['train'],\n",
        "          validation_data = (X['val'], y['val']),\n",
        "          epochs = 30,\n",
        "          batch_size=128,\n",
        "          callbacks=[tf.keras.callbacks.EarlyStopping(restore_best_weights=True,patience=3)])"
      ],
      "metadata": {
        "id": "TJ_9GRA5_c_D",
        "outputId": "2f219bee-0c25-4c6b-bf26-f3065e685575",
        "colab": {
          "base_uri": "https://localhost:8080/"
        }
      },
      "execution_count": 35,
      "outputs": [
        {
          "output_type": "stream",
          "name": "stdout",
          "text": [
            "Epoch 1/30\n",
            "430/430 [==============================] - 4s 9ms/step - loss: 0.2452 - accuracy: 0.9122 - val_loss: 0.2908 - val_accuracy: 0.8982\n",
            "Epoch 2/30\n",
            "430/430 [==============================] - 4s 9ms/step - loss: 0.2423 - accuracy: 0.9117 - val_loss: 0.2886 - val_accuracy: 0.8964\n",
            "Epoch 3/30\n",
            "430/430 [==============================] - 4s 9ms/step - loss: 0.2402 - accuracy: 0.9129 - val_loss: 0.2888 - val_accuracy: 0.8970\n",
            "Epoch 4/30\n",
            "430/430 [==============================] - 4s 9ms/step - loss: 0.2380 - accuracy: 0.9149 - val_loss: 0.2880 - val_accuracy: 0.8976\n",
            "Epoch 5/30\n",
            "430/430 [==============================] - 4s 9ms/step - loss: 0.2391 - accuracy: 0.9144 - val_loss: 0.2865 - val_accuracy: 0.8988\n",
            "Epoch 6/30\n",
            "430/430 [==============================] - 4s 8ms/step - loss: 0.2359 - accuracy: 0.9146 - val_loss: 0.2860 - val_accuracy: 0.8986\n",
            "Epoch 7/30\n",
            "430/430 [==============================] - 4s 9ms/step - loss: 0.2335 - accuracy: 0.9150 - val_loss: 0.2871 - val_accuracy: 0.8960\n",
            "Epoch 8/30\n",
            "430/430 [==============================] - 4s 9ms/step - loss: 0.2336 - accuracy: 0.9148 - val_loss: 0.2850 - val_accuracy: 0.8970\n",
            "Epoch 9/30\n",
            "430/430 [==============================] - 4s 9ms/step - loss: 0.2305 - accuracy: 0.9164 - val_loss: 0.2846 - val_accuracy: 0.9004\n",
            "Epoch 10/30\n",
            "430/430 [==============================] - 4s 10ms/step - loss: 0.2281 - accuracy: 0.9170 - val_loss: 0.2847 - val_accuracy: 0.8958\n",
            "Epoch 11/30\n",
            "430/430 [==============================] - 4s 9ms/step - loss: 0.2280 - accuracy: 0.9173 - val_loss: 0.2848 - val_accuracy: 0.9000\n",
            "Epoch 12/30\n",
            "430/430 [==============================] - 4s 9ms/step - loss: 0.2274 - accuracy: 0.9183 - val_loss: 0.2848 - val_accuracy: 0.8976\n"
          ]
        }
      ]
    },
    {
      "cell_type": "code",
      "source": [
        "weights, biases = model.layers[1].get_weights()\n",
        "print(f\"\"\"Fully Connected[1]:\n",
        "weights shape: {weights.shape}\n",
        "biases shape: {biases.shape}\n",
        "\"\"\")"
      ],
      "metadata": {
        "id": "KeIUODaweyTv",
        "outputId": "bf41249e-2134-4986-f98b-5799f85571fd",
        "colab": {
          "base_uri": "https://localhost:8080/"
        }
      },
      "execution_count": 38,
      "outputs": [
        {
          "output_type": "stream",
          "name": "stdout",
          "text": [
            "Fully Connected[1]:\n",
            "weights shape: (784, 350)\n",
            "biases shape: (350,)\n",
            "\n"
          ]
        }
      ]
    },
    {
      "cell_type": "code",
      "source": [
        "model.evaluate(X['test'],y['test'])"
      ],
      "metadata": {
        "id": "oGsZtXknfDqO",
        "outputId": "a771e1d5-c24e-488b-820e-8ff75433b763",
        "colab": {
          "base_uri": "https://localhost:8080/"
        }
      },
      "execution_count": 41,
      "outputs": [
        {
          "output_type": "stream",
          "name": "stdout",
          "text": [
            "313/313 [==============================] - 1s 3ms/step - loss: 61.2090 - accuracy: 0.8507\n"
          ]
        },
        {
          "output_type": "execute_result",
          "data": {
            "text/plain": [
              "[61.20903778076172, 0.8507000207901001]"
            ]
          },
          "metadata": {},
          "execution_count": 41
        }
      ]
    },
    {
      "cell_type": "code",
      "source": [
        ""
      ],
      "metadata": {
        "id": "kYXS937FzCJs"
      },
      "execution_count": null,
      "outputs": []
    }
  ],
  "metadata": {
    "kernelspec": {
      "display_name": "Python 3",
      "language": "python",
      "name": "python3"
    },
    "language_info": {
      "codemirror_mode": {
        "name": "ipython",
        "version": 3
      },
      "file_extension": ".py",
      "mimetype": "text/x-python",
      "name": "python",
      "nbconvert_exporter": "python",
      "pygments_lexer": "ipython3",
      "version": "3.7.10"
    },
    "nav_menu": {
      "height": "264px",
      "width": "369px"
    },
    "toc": {
      "navigate_menu": true,
      "number_sections": true,
      "sideBar": true,
      "threshold": 6,
      "toc_cell": false,
      "toc_section_display": "block",
      "toc_window_display": false
    },
    "colab": {
      "name": "10_neural_nets_with_keras.ipynb",
      "provenance": []
    }
  },
  "nbformat": 4,
  "nbformat_minor": 0
}