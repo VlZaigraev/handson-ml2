{
  "cells": [
    {
      "cell_type": "markdown",
      "metadata": {
        "id": "ki3ZL1OKpTwZ"
      },
      "source": [
        "**Chapter 13 – Loading and Preprocessing Data with TensorFlow**\n",
        "\n",
        "_This notebook contains all the sample code and solutions to the exercises in chapter 13._"
      ]
    },
    {
      "cell_type": "markdown",
      "metadata": {
        "id": "4fxn6q_zpTwe"
      },
      "source": [
        "<table align=\"left\">\n",
        "  <td>\n",
        "    <a href=\"https://colab.research.google.com/github/ageron/handson-ml2/blob/master/13_loading_and_preprocessing_data.ipynb\" target=\"_parent\"><img src=\"https://colab.research.google.com/assets/colab-badge.svg\" alt=\"Open In Colab\"/></a>\n",
        "  </td>\n",
        "  <td>\n",
        "    <a target=\"_blank\" href=\"https://kaggle.com/kernels/welcome?src=https://github.com/ageron/handson-ml2/blob/master/13_loading_and_preprocessing_data.ipynb\"><img src=\"https://kaggle.com/static/images/open-in-kaggle.svg\" /></a>\n",
        "  </td>\n",
        "</table>"
      ]
    },
    {
      "cell_type": "markdown",
      "metadata": {
        "id": "Ir7OxdR1pTwf"
      },
      "source": [
        "# Setup"
      ]
    },
    {
      "cell_type": "markdown",
      "metadata": {
        "id": "uaXbDhrrpTwg"
      },
      "source": [
        "First, let's import a few common modules, ensure MatplotLib plots figures inline and prepare a function to save the figures. We also check that Python 3.5 or later is installed (although Python 2.x may work, it is deprecated so we strongly recommend you use Python 3 instead), as well as Scikit-Learn ≥0.20 and TensorFlow ≥2.0."
      ]
    },
    {
      "cell_type": "code",
      "execution_count": 1,
      "metadata": {
        "id": "8zL-SihnpTwg",
        "outputId": "a9690eff-3298-4201-fa75-246563788f57",
        "colab": {
          "base_uri": "https://localhost:8080/"
        }
      },
      "outputs": [
        {
          "output_type": "stream",
          "name": "stdout",
          "text": [
            "\u001b[K     |████████████████████████████████| 2.5 MB 5.3 MB/s \n",
            "\u001b[K     |████████████████████████████████| 1.7 MB 52.7 MB/s \n",
            "\u001b[K     |████████████████████████████████| 133 kB 60.3 MB/s \n",
            "\u001b[K     |████████████████████████████████| 23.6 MB 1.4 MB/s \n",
            "\u001b[K     |████████████████████████████████| 6.6 MB 31.3 MB/s \n",
            "\u001b[K     |████████████████████████████████| 10.1 MB 50.1 MB/s \n",
            "\u001b[K     |████████████████████████████████| 206 kB 65.9 MB/s \n",
            "\u001b[K     |████████████████████████████████| 147 kB 72.9 MB/s \n",
            "\u001b[K     |████████████████████████████████| 135 kB 60.6 MB/s \n",
            "\u001b[K     |████████████████████████████████| 1.4 MB 46.8 MB/s \n",
            "\u001b[K     |████████████████████████████████| 1.3 MB 53.4 MB/s \n",
            "\u001b[K     |████████████████████████████████| 49 kB 5.2 MB/s \n",
            "\u001b[K     |████████████████████████████████| 40 kB 4.7 MB/s \n",
            "\u001b[K     |████████████████████████████████| 1.8 MB 49.4 MB/s \n",
            "\u001b[K     |████████████████████████████████| 19.2 MB 1.2 MB/s \n",
            "\u001b[K     |████████████████████████████████| 1.8 MB 33.2 MB/s \n",
            "\u001b[K     |████████████████████████████████| 433 kB 70.1 MB/s \n",
            "\u001b[K     |████████████████████████████████| 46 kB 3.2 MB/s \n",
            "\u001b[K     |████████████████████████████████| 151 kB 70.7 MB/s \n",
            "\u001b[K     |████████████████████████████████| 63 kB 1.7 MB/s \n",
            "\u001b[K     |████████████████████████████████| 508 kB 48.7 MB/s \n",
            "\u001b[K     |████████████████████████████████| 2.3 MB 32.7 MB/s \n",
            "\u001b[K     |████████████████████████████████| 255 kB 54.4 MB/s \n",
            "\u001b[K     |████████████████████████████████| 173 kB 53.9 MB/s \n",
            "\u001b[K     |████████████████████████████████| 83 kB 1.7 MB/s \n",
            "\u001b[K     |████████████████████████████████| 267 kB 60.8 MB/s \n",
            "\u001b[K     |████████████████████████████████| 183 kB 57.5 MB/s \n",
            "\u001b[K     |████████████████████████████████| 232 kB 27.8 MB/s \n",
            "\u001b[K     |████████████████████████████████| 255 kB 60.0 MB/s \n",
            "\u001b[K     |████████████████████████████████| 179 kB 60.3 MB/s \n",
            "\u001b[K     |████████████████████████████████| 113 kB 58.3 MB/s \n",
            "\u001b[K     |████████████████████████████████| 265 kB 59.8 MB/s \n",
            "\u001b[K     |████████████████████████████████| 435 kB 59.9 MB/s \n",
            "\u001b[K     |████████████████████████████████| 180 kB 60.7 MB/s \n",
            "\u001b[K     |████████████████████████████████| 54 kB 2.3 MB/s \n",
            "\u001b[K     |████████████████████████████████| 107 kB 63.4 MB/s \n",
            "\u001b[K     |████████████████████████████████| 114 kB 70.5 MB/s \n",
            "\u001b[K     |████████████████████████████████| 76 kB 5.0 MB/s \n",
            "\u001b[K     |████████████████████████████████| 267 kB 65.2 MB/s \n",
            "\u001b[K     |████████████████████████████████| 267 kB 71.0 MB/s \n",
            "\u001b[K     |████████████████████████████████| 266 kB 47.4 MB/s \n",
            "\u001b[K     |████████████████████████████████| 266 kB 72.5 MB/s \n",
            "\u001b[K     |████████████████████████████████| 265 kB 72.7 MB/s \n",
            "\u001b[K     |████████████████████████████████| 259 kB 70.0 MB/s \n",
            "\u001b[K     |████████████████████████████████| 234 kB 73.4 MB/s \n",
            "\u001b[K     |████████████████████████████████| 234 kB 73.3 MB/s \n",
            "\u001b[K     |████████████████████████████████| 234 kB 74.1 MB/s \n",
            "\u001b[K     |████████████████████████████████| 232 kB 71.8 MB/s \n",
            "\u001b[K     |████████████████████████████████| 232 kB 45.9 MB/s \n",
            "\u001b[K     |████████████████████████████████| 230 kB 59.9 MB/s \n",
            "\u001b[K     |████████████████████████████████| 156 kB 59.2 MB/s \n",
            "\u001b[K     |████████████████████████████████| 156 kB 61.4 MB/s \n",
            "\u001b[K     |████████████████████████████████| 155 kB 57.1 MB/s \n",
            "\u001b[K     |████████████████████████████████| 154 kB 54.3 MB/s \n",
            "\u001b[K     |████████████████████████████████| 179 kB 44.1 MB/s \n",
            "\u001b[K     |████████████████████████████████| 172 kB 69.7 MB/s \n",
            "\u001b[K     |████████████████████████████████| 2.7 MB 48.8 MB/s \n",
            "\u001b[K     |████████████████████████████████| 171 kB 46.2 MB/s \n",
            "\u001b[K     |████████████████████████████████| 171 kB 59.9 MB/s \n",
            "\u001b[K     |████████████████████████████████| 170 kB 59.9 MB/s \n",
            "\u001b[K     |████████████████████████████████| 170 kB 57.6 MB/s \n",
            "\u001b[K     |████████████████████████████████| 131 kB 47.7 MB/s \n",
            "\u001b[K     |████████████████████████████████| 125 kB 57.7 MB/s \n",
            "\u001b[K     |████████████████████████████████| 125 kB 51.2 MB/s \n",
            "\u001b[K     |████████████████████████████████| 206 kB 58.3 MB/s \n",
            "\u001b[K     |████████████████████████████████| 206 kB 48.1 MB/s \n",
            "\u001b[K     |████████████████████████████████| 205 kB 70.6 MB/s \n",
            "\u001b[K     |████████████████████████████████| 205 kB 61.1 MB/s \n",
            "\u001b[K     |████████████████████████████████| 205 kB 57.4 MB/s \n",
            "\u001b[K     |████████████████████████████████| 203 kB 57.2 MB/s \n",
            "\u001b[K     |████████████████████████████████| 203 kB 58.6 MB/s \n",
            "\u001b[K     |████████████████████████████████| 203 kB 59.3 MB/s \n",
            "\u001b[K     |████████████████████████████████| 202 kB 55.8 MB/s \n",
            "\u001b[K     |████████████████████████████████| 202 kB 47.4 MB/s \n",
            "\u001b[K     |████████████████████████████████| 201 kB 59.9 MB/s \n",
            "\u001b[K     |████████████████████████████████| 201 kB 60.6 MB/s \n",
            "\u001b[K     |████████████████████████████████| 201 kB 53.2 MB/s \n",
            "\u001b[K     |████████████████████████████████| 114 kB 60.2 MB/s \n",
            "\u001b[K     |████████████████████████████████| 114 kB 49.3 MB/s \n",
            "\u001b[K     |████████████████████████████████| 114 kB 55.1 MB/s \n",
            "\u001b[K     |████████████████████████████████| 111 kB 51.9 MB/s \n",
            "\u001b[K     |████████████████████████████████| 111 kB 54.9 MB/s \n",
            "\u001b[K     |████████████████████████████████| 109 kB 54.2 MB/s \n",
            "\u001b[K     |████████████████████████████████| 93 kB 1.5 MB/s \n",
            "\u001b[K     |████████████████████████████████| 503 kB 47.3 MB/s \n",
            "\u001b[K     |████████████████████████████████| 1.1 MB 48.9 MB/s \n",
            "\u001b[K     |████████████████████████████████| 462 kB 56.1 MB/s \n",
            "\u001b[K     |████████████████████████████████| 99 kB 8.6 MB/s \n",
            "\u001b[K     |████████████████████████████████| 294 kB 54.4 MB/s \n",
            "\u001b[K     |████████████████████████████████| 793 kB 47.4 MB/s \n",
            "\u001b[K     |████████████████████████████████| 380 kB 54.4 MB/s \n",
            "\u001b[?25h  Building wheel for dill (setup.py) ... \u001b[?25l\u001b[?25hdone\n",
            "  Building wheel for google-apitools (setup.py) ... \u001b[?25l\u001b[?25hdone\n",
            "  Building wheel for grpc-google-iam-v1 (setup.py) ... \u001b[?25l\u001b[?25hdone\n",
            "  Building wheel for pyfarmhash (setup.py) ... \u001b[?25l\u001b[?25hdone\n",
            "\u001b[31mERROR: pip's dependency resolver does not currently take into account all the packages that are installed. This behaviour is the source of the following dependency conflicts.\n",
            "pandas-gbq 0.13.3 requires google-cloud-bigquery[bqstorage,pandas]<2.0.0dev,>=1.11.1, but you have google-cloud-bigquery 2.34.2 which is incompatible.\n",
            "multiprocess 0.70.12.2 requires dill>=0.3.4, but you have dill 0.3.1.1 which is incompatible.\n",
            "jupyter-console 5.2.0 requires prompt-toolkit<2.0.0,>=1.0.0, but you have prompt-toolkit 3.0.28 which is incompatible.\n",
            "gym 0.17.3 requires cloudpickle<1.7.0,>=1.2.0, but you have cloudpickle 2.0.0 which is incompatible.\n",
            "google-colab 1.0.0 requires ipython~=5.5.0, but you have ipython 7.32.0 which is incompatible.\n",
            "google-colab 1.0.0 requires requests~=2.23.0, but you have requests 2.27.1 which is incompatible.\n",
            "datascience 0.10.6 requires folium==0.2.1, but you have folium 0.8.3 which is incompatible.\u001b[0m\n",
            "You can safely ignore the package incompatibility errors.\n"
          ]
        }
      ],
      "source": [
        "# Python ≥3.5 is required\n",
        "import sys\n",
        "assert sys.version_info >= (3, 5)\n",
        "\n",
        "# Is this notebook running on Colab or Kaggle?\n",
        "IS_COLAB = \"google.colab\" in sys.modules\n",
        "IS_KAGGLE = \"kaggle_secrets\" in sys.modules\n",
        "\n",
        "if IS_COLAB or IS_KAGGLE:\n",
        "    %pip install -q -U tfx\n",
        "    print(\"You can safely ignore the package incompatibility errors.\")\n",
        "\n",
        "# Scikit-Learn ≥0.20 is required\n",
        "import sklearn\n",
        "assert sklearn.__version__ >= \"0.20\"\n",
        "\n",
        "# TensorFlow ≥2.0 is required\n",
        "import tensorflow as tf\n",
        "from tensorflow import keras\n",
        "assert tf.__version__ >= \"2.0\"\n",
        "\n",
        "# Common imports\n",
        "import numpy as np\n",
        "import os\n",
        "\n",
        "# to make this notebook's output stable across runs\n",
        "np.random.seed(42)\n",
        "\n",
        "# To plot pretty figures\n",
        "%matplotlib inline\n",
        "import matplotlib as mpl\n",
        "import matplotlib.pyplot as plt\n",
        "mpl.rc('axes', labelsize=14)\n",
        "mpl.rc('xtick', labelsize=12)\n",
        "mpl.rc('ytick', labelsize=12)"
      ]
    },
    {
      "cell_type": "markdown",
      "source": [
        "# Datasets"
      ],
      "metadata": {
        "id": "RVmnJ9P8rCqS"
      }
    },
    {
      "cell_type": "code",
      "source": [
        "n_objects, n_features = int(1E3), 10\n",
        "X = tf.random.normal(shape=(n_objects, n_features), stddev = 5)\n",
        "y = tf.random.normal(shape=(n_objects, ), mean = -10, stddev = 10)\n",
        "\n",
        "dataset = tf.data.Dataset.from_tensor_slices((X, y))\n",
        "\n",
        "tf.nn.moments(X, axes = [0,1])"
      ],
      "metadata": {
        "id": "0RTmgW4Iq-8_",
        "outputId": "6dede436-09a1-4661-f0e6-6161557e086c",
        "colab": {
          "base_uri": "https://localhost:8080/"
        }
      },
      "execution_count": 112,
      "outputs": [
        {
          "output_type": "execute_result",
          "data": {
            "text/plain": [
              "(<tf.Tensor: shape=(), dtype=float32, numpy=-0.039994154>,\n",
              " <tf.Tensor: shape=(), dtype=float32, numpy=25.092596>)"
            ]
          },
          "metadata": {},
          "execution_count": 112
        }
      ]
    },
    {
      "cell_type": "code",
      "source": [
        "\n",
        "\n",
        "for i, (x_s, y_s) in enumerate(dataset.take(5), start = 1):\n",
        "    print(f\"\"\"\n",
        "    X[{i}] = {x_s}\n",
        "    y[{i}] = {y_s}\n",
        "    {'-'*54}\n",
        "    \"\"\")"
      ],
      "metadata": {
        "id": "TGZysdEssQuA",
        "outputId": "9795d5c1-6745-4c83-a886-9c64bdf292b2",
        "colab": {
          "base_uri": "https://localhost:8080/"
        }
      },
      "execution_count": 118,
      "outputs": [
        {
          "output_type": "stream",
          "name": "stdout",
          "text": [
            "\n",
            "    X[1] = [ -1.2064817    3.4530177    8.105913    -4.346487    -0.61183995\n",
            " -12.2997875   15.912649     0.10526749  -3.4976225   -3.8707557 ]\n",
            "    y[1] = -17.507362365722656\n",
            "    ------------------------------------------------------\n",
            "    \n",
            "\n",
            "    X[2] = [ 4.2608895 -1.92782   -2.006689  -7.8956566  4.843286  14.662643\n",
            "  5.0025234 -6.908925  -1.2007484 -3.719258 ]\n",
            "    y[2] = -11.026020050048828\n",
            "    ------------------------------------------------------\n",
            "    \n",
            "\n",
            "    X[3] = [ 1.7640494  5.721517   5.7136292  2.9074314 -1.114125   1.3205807\n",
            " -0.6651038  1.0006337 -3.729916  -1.3796635]\n",
            "    y[3] = -15.632390975952148\n",
            "    ------------------------------------------------------\n",
            "    \n",
            "\n",
            "    X[4] = [-8.404918  -1.0587999  6.450649   3.1960282  4.5629787  1.1638559\n",
            " -4.6865726  6.3556633 -3.4738255 -3.0593262]\n",
            "    y[4] = -17.387359619140625\n",
            "    ------------------------------------------------------\n",
            "    \n",
            "\n",
            "    X[5] = [ 3.8877769  5.6829305 -5.8341937 -1.5963126  8.230314   2.6893818\n",
            "  5.801244  -1.4829756 -1.8686426  5.568025 ]\n",
            "    y[5] = -8.90286636352539\n",
            "    ------------------------------------------------------\n",
            "    \n"
          ]
        }
      ]
    },
    {
      "cell_type": "code",
      "source": [
        "len(dataset.batch(7)) # 1000 // 7 = 142"
      ],
      "metadata": {
        "id": "IHwK9ITVte7A",
        "outputId": "f92ae753-e3f4-4fa7-ce2f-fdfec00ec272",
        "colab": {
          "base_uri": "https://localhost:8080/"
        }
      },
      "execution_count": 119,
      "outputs": [
        {
          "output_type": "execute_result",
          "data": {
            "text/plain": [
              "143"
            ]
          },
          "metadata": {},
          "execution_count": 119
        }
      ]
    },
    {
      "cell_type": "code",
      "source": [
        "print(*dataset.batch(27).unbatch().take(1))"
      ],
      "metadata": {
        "id": "DJtLJ-lzFsmb",
        "outputId": "e7193c7c-43e2-49e4-f89a-ebaf13efa14d",
        "colab": {
          "base_uri": "https://localhost:8080/"
        }
      },
      "execution_count": 138,
      "outputs": [
        {
          "output_type": "stream",
          "name": "stdout",
          "text": [
            "(<tf.Tensor: shape=(10,), dtype=float32, numpy=\n",
            "array([-5.2476311e+00, -1.3515381e+01,  4.3755951e+00,  9.0988150e+00,\n",
            "        4.7497540e-03, -2.3433008e+00, -2.0487716e+00, -2.0707195e+00,\n",
            "        4.8688519e-01, -4.6002836e+00], dtype=float32)>, <tf.Tensor: shape=(), dtype=float32, numpy=-6.531117>)\n"
          ]
        }
      ]
    },
    {
      "cell_type": "code",
      "source": [
        "len(dataset.repeat(3)) # 3*1000"
      ],
      "metadata": {
        "id": "tiQYVrnJHR60",
        "outputId": "fbb62a71-da98-477e-cfe3-e7ecde229cd2",
        "colab": {
          "base_uri": "https://localhost:8080/"
        }
      },
      "execution_count": 155,
      "outputs": [
        {
          "output_type": "execute_result",
          "data": {
            "text/plain": [
              "3000"
            ]
          },
          "metadata": {},
          "execution_count": 155
        }
      ]
    },
    {
      "cell_type": "code",
      "source": [
        "dataset = dataset.shuffle(buffer_size=10, seed = 54) # buffer_size = 10"
      ],
      "metadata": {
        "id": "rYyb5IWTuXWg"
      },
      "execution_count": 130,
      "outputs": []
    },
    {
      "cell_type": "code",
      "source": [
        "mapped_dataset = dataset.map(lambda x, y: (0.5 * (x[:5] + x[5:])**2, y))\n",
        "print(*mapped_dataset.take(5), sep=f\"\\n{'-'*54}\\n\")"
      ],
      "metadata": {
        "id": "GeSPCEY0uaYx"
      },
      "execution_count": null,
      "outputs": []
    },
    {
      "cell_type": "code",
      "source": [
        "print(*dataset.filter(lambda x, y: tf.norm(x) < 10).take(1))"
      ],
      "metadata": {
        "id": "G5xAvaMg5-Fh",
        "outputId": "bef3a564-60f8-434a-d646-153022101f47",
        "colab": {
          "base_uri": "https://localhost:8080/"
        }
      },
      "execution_count": 151,
      "outputs": [
        {
          "output_type": "stream",
          "name": "stdout",
          "text": [
            "(<tf.Tensor: shape=(10,), dtype=float32, numpy=\n",
            "array([ 1.7640494,  5.721517 ,  5.7136292,  2.9074314, -1.114125 ,\n",
            "        1.3205807, -0.6651038,  1.0006337, -3.729916 , -1.3796635],\n",
            "      dtype=float32)>, <tf.Tensor: shape=(), dtype=float32, numpy=-15.632391>)\n"
          ]
        }
      ]
    },
    {
      "cell_type": "code",
      "source": [
        "batched_ds = dataset.batch(54)\n",
        "for batch in batched_ds.take(5):\n",
        "    for i in batch:\n",
        "        print(f\"I = {i.shape}\")"
      ],
      "metadata": {
        "id": "-rwqxccd3OcZ",
        "outputId": "58d6d970-3549-4f72-98af-dfccedf45b84",
        "colab": {
          "base_uri": "https://localhost:8080/"
        }
      },
      "execution_count": 96,
      "outputs": [
        {
          "output_type": "stream",
          "name": "stdout",
          "text": [
            "I = (54, 10)\n",
            "I = (54,)\n",
            "I = (54, 10)\n",
            "I = (54,)\n",
            "I = (54, 10)\n",
            "I = (54,)\n",
            "I = (54, 10)\n",
            "I = (54,)\n",
            "I = (54, 10)\n",
            "I = (54,)\n"
          ]
        }
      ]
    },
    {
      "cell_type": "code",
      "source": [
        ""
      ],
      "metadata": {
        "id": "coPvPwn23dHZ"
      },
      "execution_count": null,
      "outputs": []
    }
  ],
  "metadata": {
    "kernelspec": {
      "display_name": "Python 3",
      "language": "python",
      "name": "python3"
    },
    "language_info": {
      "codemirror_mode": {
        "name": "ipython",
        "version": 3
      },
      "file_extension": ".py",
      "mimetype": "text/x-python",
      "name": "python",
      "nbconvert_exporter": "python",
      "pygments_lexer": "ipython3",
      "version": "3.8.12"
    },
    "nav_menu": {
      "height": "264px",
      "width": "369px"
    },
    "toc": {
      "navigate_menu": true,
      "number_sections": true,
      "sideBar": true,
      "threshold": 6,
      "toc_cell": false,
      "toc_section_display": "block",
      "toc_window_display": false
    },
    "colab": {
      "name": "13_loading_and_preprocessing_data.ipynb",
      "provenance": [],
      "toc_visible": true
    }
  },
  "nbformat": 4,
  "nbformat_minor": 0
}